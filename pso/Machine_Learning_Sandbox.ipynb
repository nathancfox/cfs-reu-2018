{
 "cells": [
  {
   "cell_type": "markdown",
   "metadata": {},
   "source": [
    "# Getting Started With SVM"
   ]
  },
  {
   "cell_type": "markdown",
   "metadata": {},
   "source": [
    "## Getting Familiar with sklearn"
   ]
  },
  {
   "cell_type": "markdown",
   "metadata": {},
   "source": [
    "In preparation of implementing a machine learning classifier in the COMB-PSO algorithm, I want to play with a default SVM classifier from the scipy sklearn library. I'll practice on the supplied iris dataset."
   ]
  },
  {
   "cell_type": "code",
   "execution_count": 39,
   "metadata": {},
   "outputs": [],
   "source": [
    "import numpy as np\n",
    "from sklearn import svm\n",
    "from sklearn import datasets\n",
    "from sklearn.model_selection import train_test_split\n",
    "from sklearn.model_selection import cross_val_score\n",
    "from sklearn.model_selection import cross_validate"
   ]
  },
  {
   "cell_type": "markdown",
   "metadata": {},
   "source": [
    "### Exploring Iris"
   ]
  },
  {
   "cell_type": "code",
   "execution_count": 40,
   "metadata": {},
   "outputs": [],
   "source": [
    "iris = datasets.load_iris()"
   ]
  },
  {
   "cell_type": "code",
   "execution_count": 41,
   "metadata": {},
   "outputs": [
    {
     "data": {
      "text/plain": [
       "sklearn.utils.Bunch"
      ]
     },
     "execution_count": 41,
     "metadata": {},
     "output_type": "execute_result"
    }
   ],
   "source": [
    "type(iris)"
   ]
  },
  {
   "cell_type": "markdown",
   "metadata": {},
   "source": [
    "**NOTE:** dir(object) introspectively pulls the attributes and methods from a python object. I'm trying to see what's inside the iris dataset object."
   ]
  },
  {
   "cell_type": "code",
   "execution_count": 42,
   "metadata": {},
   "outputs": [
    {
     "data": {
      "text/plain": [
       "['DESCR', 'data', 'feature_names', 'target', 'target_names']"
      ]
     },
     "execution_count": 42,
     "metadata": {},
     "output_type": "execute_result"
    }
   ],
   "source": [
    "dir(iris)"
   ]
  },
  {
   "cell_type": "code",
   "execution_count": 43,
   "metadata": {},
   "outputs": [
    {
     "name": "stdout",
     "output_type": "stream",
     "text": [
      "iris.DESCR is of type:  <class 'str'>\n",
      "\n",
      "################################################################################\n",
      "\n",
      "Iris Plants Database\n",
      "====================\n",
      "\n",
      "Notes\n",
      "-----\n",
      "Data Set Characteristics:\n",
      "    :Number of Instances: 150 (50 in each of three classes)\n",
      "    :Number of Attributes: 4 numeric, predictive attributes and the class\n",
      "    :Attribute Information:\n",
      "        - sepal length in cm\n",
      "        - sepal width in cm\n",
      "        - petal length in cm\n",
      "        - petal width in cm\n",
      "        - class:\n",
      "                - Iris-Setosa\n",
      "                - Iris-Versicolour\n",
      "                - Iris-Virginica\n",
      "    :Summary Statistics:\n",
      "\n",
      "    ============== ==== ==== ======= ===== ====================\n",
      "                    Min  Max   Mean    SD   Class Correlation\n",
      "    ============== ==== ==== ======= ===== ====================\n",
      "    sepal length:   4.3  7.9   5.84   0.83    0.7826\n",
      "    sepal width:    2.0  4.4   3.05   0.43   -0.4194\n",
      "    petal length:   1.0  6.9   3.76   1.76    0.9490  (high!)\n",
      "    petal width:    0.1  2.5   1.20  0.76     0.9565  (high!)\n",
      "    ============== ==== ==== ======= ===== ====================\n",
      "\n",
      "    :Missing Attribute Values: None\n",
      "    :Class Distribution: 33.3% for each of 3 classes.\n",
      "    :Creator: R.A. Fisher\n",
      "    :Donor: Michael Marshall (MARSHALL%PLU@io.arc.nasa.gov)\n",
      "    :Date: July, 1988\n",
      "\n",
      "This is a copy of UCI ML iris datasets.\n",
      "http://archive.ics.uci.edu/ml/datasets/Iris\n",
      "\n",
      "The famous Iris database, first used by Sir R.A Fisher\n",
      "\n",
      "This is perhaps the best known database to be found in the\n",
      "pattern recognition literature.  Fisher's paper is a classic in the field and\n",
      "is referenced frequently to this day.  (See Duda & Hart, for example.)  The\n",
      "data set contains 3 classes of 50 instances each, where each class refers to a\n",
      "type of iris plant.  One class is linearly separable from the other 2; the\n",
      "latter are NOT linearly separable from each other.\n",
      "\n",
      "References\n",
      "----------\n",
      "   - Fisher,R.A. \"The use of multiple measurements in taxonomic problems\"\n",
      "     Annual Eugenics, 7, Part II, 179-188 (1936); also in \"Contributions to\n",
      "     Mathematical Statistics\" (John Wiley, NY, 1950).\n",
      "   - Duda,R.O., & Hart,P.E. (1973) Pattern Classification and Scene Analysis.\n",
      "     (Q327.D83) John Wiley & Sons.  ISBN 0-471-22361-1.  See page 218.\n",
      "   - Dasarathy, B.V. (1980) \"Nosing Around the Neighborhood: A New System\n",
      "     Structure and Classification Rule for Recognition in Partially Exposed\n",
      "     Environments\".  IEEE Transactions on Pattern Analysis and Machine\n",
      "     Intelligence, Vol. PAMI-2, No. 1, 67-71.\n",
      "   - Gates, G.W. (1972) \"The Reduced Nearest Neighbor Rule\".  IEEE Transactions\n",
      "     on Information Theory, May 1972, 431-433.\n",
      "   - See also: 1988 MLC Proceedings, 54-64.  Cheeseman et al\"s AUTOCLASS II\n",
      "     conceptual clustering system finds 3 classes in the data.\n",
      "   - Many, many more ...\n",
      "\n"
     ]
    }
   ],
   "source": [
    "print('iris.DESCR is of type: ', str(type(iris.DESCR)))\n",
    "print('\\n', '#'*80, '\\n', sep='')\n",
    "print(iris.DESCR)"
   ]
  },
  {
   "cell_type": "code",
   "execution_count": 44,
   "metadata": {},
   "outputs": [
    {
     "name": "stdout",
     "output_type": "stream",
     "text": [
      "iris.data is of type: <class 'numpy.ndarray'>\n",
      "\n",
      "################################################################################\n",
      "\n",
      "iris.data shape: (150, 4)\n",
      "\n",
      "################################################################################\n",
      "\n",
      "iris.data first 5 rows\n",
      "-----------------------\n",
      "[[5.1 3.5 1.4 0.2]\n",
      " [4.9 3.  1.4 0.2]\n",
      " [4.7 3.2 1.3 0.2]\n",
      " [4.6 3.1 1.5 0.2]\n",
      " [5.  3.6 1.4 0.2]]\n"
     ]
    }
   ],
   "source": [
    "print('iris.data is of type:', str(type(iris.data)))\n",
    "print('\\n', '#'*80, '\\n', sep='')\n",
    "print('iris.data shape:', str(iris.data.shape))\n",
    "print('\\n', '#'*80, '\\n', sep='')\n",
    "print('iris.data first 5 rows')\n",
    "print('-----------------------')\n",
    "print(iris.data[:5, :])"
   ]
  },
  {
   "cell_type": "code",
   "execution_count": 45,
   "metadata": {},
   "outputs": [
    {
     "name": "stdout",
     "output_type": "stream",
     "text": [
      "iris.features_names is of type: <class 'list'>\n",
      "iris.feature_names length: 4\n",
      "\n",
      "['sepal length (cm)', 'sepal width (cm)', 'petal length (cm)', 'petal width (cm)']\n"
     ]
    }
   ],
   "source": [
    "print('iris.features_names is of type:', str(type(iris.feature_names)))\n",
    "print('iris.feature_names length:', str(len(iris.feature_names)))\n",
    "print()\n",
    "print(iris.feature_names)"
   ]
  },
  {
   "cell_type": "code",
   "execution_count": 46,
   "metadata": {},
   "outputs": [
    {
     "name": "stdout",
     "output_type": "stream",
     "text": [
      "iris.target is of type: <class 'numpy.ndarray'>\n",
      "iris.target shape: (150,)\n",
      "\n",
      "[0 0 0 0 0 0 0 0 0 0 0 0 0 0 0 0 0 0 0 0 0 0 0 0 0 0 0 0 0 0 0 0 0 0 0 0 0\n",
      " 0 0 0 0 0 0 0 0 0 0 0 0 0 1 1 1 1 1 1 1 1 1 1 1 1 1 1 1 1 1 1 1 1 1 1 1 1\n",
      " 1 1 1 1 1 1 1 1 1 1 1 1 1 1 1 1 1 1 1 1 1 1 1 1 1 1 2 2 2 2 2 2 2 2 2 2 2\n",
      " 2 2 2 2 2 2 2 2 2 2 2 2 2 2 2 2 2 2 2 2 2 2 2 2 2 2 2 2 2 2 2 2 2 2 2 2 2\n",
      " 2 2]\n"
     ]
    }
   ],
   "source": [
    "print('iris.target is of type:', str(type(iris.target)))\n",
    "print('iris.target shape:', str(iris.target.shape))\n",
    "print()\n",
    "print(iris.target)"
   ]
  },
  {
   "cell_type": "code",
   "execution_count": 47,
   "metadata": {},
   "outputs": [
    {
     "name": "stdout",
     "output_type": "stream",
     "text": [
      "<class 'numpy.ndarray'>\n",
      "(3,)\n",
      "['setosa' 'versicolor' 'virginica']\n"
     ]
    }
   ],
   "source": [
    "print(type(iris.target_names))\n",
    "print(iris.target_names.shape)\n",
    "print(iris.target_names)"
   ]
  },
  {
   "cell_type": "markdown",
   "metadata": {},
   "source": [
    "### Exploring the default SVM"
   ]
  },
  {
   "cell_type": "markdown",
   "metadata": {},
   "source": [
    "I'll use the iris dataset to train and test a default SVM classifier and some associated methods (data splitting and cross validation)"
   ]
  },
  {
   "cell_type": "code",
   "execution_count": 48,
   "metadata": {},
   "outputs": [],
   "source": [
    "# Randomly split the data into 70% training data and 30% test data\n",
    "X_train, X_test, y_train, y_test = train_test_split(iris.data, iris.target, test_size = 0.3, random_state = 12)"
   ]
  },
  {
   "cell_type": "code",
   "execution_count": 49,
   "metadata": {},
   "outputs": [],
   "source": [
    "# Initialize a default SVM classifier object\n",
    "clf = svm.SVC()"
   ]
  },
  {
   "cell_type": "code",
   "execution_count": 50,
   "metadata": {},
   "outputs": [
    {
     "data": {
      "text/plain": [
       "{'C': 1.0,\n",
       " 'cache_size': 200,\n",
       " 'class_weight': None,\n",
       " 'coef0': 0.0,\n",
       " 'decision_function_shape': 'ovr',\n",
       " 'degree': 3,\n",
       " 'gamma': 'auto',\n",
       " 'kernel': 'rbf',\n",
       " 'max_iter': -1,\n",
       " 'probability': False,\n",
       " 'random_state': None,\n",
       " 'shrinking': True,\n",
       " 'tol': 0.001,\n",
       " 'verbose': False}"
      ]
     },
     "execution_count": 50,
     "metadata": {},
     "output_type": "execute_result"
    }
   ],
   "source": [
    "clf.get_params()"
   ]
  },
  {
   "cell_type": "code",
   "execution_count": 51,
   "metadata": {},
   "outputs": [
    {
     "data": {
      "text/plain": [
       "SVC(C=1.0, cache_size=200, class_weight=None, coef0=0.0,\n",
       "  decision_function_shape='ovr', degree=3, gamma='auto', kernel='rbf',\n",
       "  max_iter=-1, probability=False, random_state=None, shrinking=True,\n",
       "  tol=0.001, verbose=False)"
      ]
     },
     "execution_count": 51,
     "metadata": {},
     "output_type": "execute_result"
    }
   ],
   "source": [
    "# Train the classifier on the training data\n",
    "clf.fit(X_train, y_train)"
   ]
  },
  {
   "cell_type": "code",
   "execution_count": 52,
   "metadata": {
    "scrolled": true
   },
   "outputs": [
    {
     "data": {
      "text/plain": [
       "array([0, 2, 0, 1, 2, 2, 2, 0, 2, 0, 1, 0, 0, 0, 1, 2, 2, 1, 0, 1, 0, 1,\n",
       "       2, 1, 0, 2, 2, 1, 0, 0, 0, 1, 2, 0, 2, 0, 1, 1, 0, 1, 1, 0, 0, 0,\n",
       "       0])"
      ]
     },
     "execution_count": 52,
     "metadata": {},
     "output_type": "execute_result"
    }
   ],
   "source": [
    "# Let the classifier predict the labels of the reserved test data\n",
    "clf.predict(X_test)"
   ]
  },
  {
   "cell_type": "code",
   "execution_count": 53,
   "metadata": {},
   "outputs": [
    {
     "data": {
      "text/plain": [
       "array([0, 2, 0, 1, 2, 2, 2, 0, 2, 0, 1, 0, 0, 0, 1, 2, 2, 1, 0, 1, 0, 1,\n",
       "       2, 1, 0, 2, 1, 1, 0, 0, 0, 1, 2, 0, 2, 0, 1, 1, 0, 1, 1, 0, 0, 0,\n",
       "       0])"
      ]
     },
     "execution_count": 53,
     "metadata": {},
     "output_type": "execute_result"
    }
   ],
   "source": [
    "# Display the correct labels\n",
    "y_test"
   ]
  },
  {
   "cell_type": "code",
   "execution_count": 54,
   "metadata": {},
   "outputs": [
    {
     "data": {
      "text/plain": [
       "array([ True,  True,  True,  True,  True,  True,  True,  True,  True,\n",
       "        True,  True,  True,  True,  True,  True,  True,  True,  True,\n",
       "        True,  True,  True,  True,  True,  True,  True,  True, False,\n",
       "        True,  True,  True,  True,  True,  True,  True,  True,  True,\n",
       "        True,  True,  True,  True,  True,  True,  True,  True,  True])"
      ]
     },
     "execution_count": 54,
     "metadata": {},
     "output_type": "execute_result"
    }
   ],
   "source": [
    "# Boolean vector: true if the predicted label matched the actual label for the reserved test data\n",
    "np.equal(clf.predict(X_test), y_test)"
   ]
  },
  {
   "cell_type": "code",
   "execution_count": 55,
   "metadata": {},
   "outputs": [
    {
     "data": {
      "text/plain": [
       "0.9777777777777777"
      ]
     },
     "execution_count": 55,
     "metadata": {},
     "output_type": "execute_result"
    }
   ],
   "source": [
    "# Return an accuracy score for the trained classifer (SVC.score() uses SVC.predict() internally)\n",
    "clf.score(X_test, y_test)"
   ]
  },
  {
   "cell_type": "code",
   "execution_count": 56,
   "metadata": {},
   "outputs": [],
   "source": [
    "# Run K-Fold Cross Validation (cv = K) on the entire data set, (no reserved data)\n",
    "# and assign the accuracy scores of each Cross Validation to scores\n",
    "scores = cross_val_score(clf, iris.data, iris.target, cv=10)"
   ]
  },
  {
   "cell_type": "code",
   "execution_count": 57,
   "metadata": {},
   "outputs": [
    {
     "name": "stdout",
     "output_type": "stream",
     "text": [
      "Scores from 10-Fold CV\n",
      "-------------------------\n",
      "[1.         0.93333333 1.         1.         1.         0.93333333\n",
      " 0.93333333 1.         1.         1.        ]\n",
      "\n",
      "Mean Score        : 0.9800000000000001\n",
      "Standard Deviation: 0.030550504633038926\n"
     ]
    }
   ],
   "source": [
    "print('Scores from 10-Fold CV')\n",
    "print('-------------------------')\n",
    "print(scores)\n",
    "print()\n",
    "print('Mean Score        :', str(scores.mean()))\n",
    "print('Standard Deviation:', str(scores.std()))"
   ]
  },
  {
   "cell_type": "markdown",
   "metadata": {},
   "source": [
    "**Results:** The mean CV score was slightly better than the manual test above, but the individual scores that contributed were much lower. BE CAREFUL when working with smaller datasets. In this case, a 10-fold CV reserves 15 data points as test data each time. ONE incorrect classification drops the accuracy from 1 to 0.93. Be careful to consider the grain of discernment that you're limited to. In this case, you can only observe accuracy for individual runs in steps of nearly 7 percent.\n",
    "\n",
    "**Next:** Try K from \\[2, 20\\] and see what it looks like"
   ]
  },
  {
   "cell_type": "code",
   "execution_count": 58,
   "metadata": {},
   "outputs": [
    {
     "name": "stdout",
     "output_type": "stream",
     "text": [
      "Scores from 2-Fold CV\n",
      "-------------------------\n",
      "[0.96       0.93333333]\n",
      "\n",
      "Mean Score        : 0.9466666666666667\n",
      "Standard Deviation: 0.013333333333333308\n",
      "\n",
      "################################################################################\n",
      "\n",
      "Scores from 3-Fold CV\n",
      "-------------------------\n",
      "[0.98039216 0.96078431 0.97916667]\n",
      "\n",
      "Mean Score        : 0.9734477124183006\n",
      "Standard Deviation: 0.008968340849714082\n",
      "\n",
      "################################################################################\n",
      "\n",
      "Scores from 4-Fold CV\n",
      "-------------------------\n",
      "[0.97435897 1.         0.94444444 0.97222222]\n",
      "\n",
      "Mean Score        : 0.9727564102564104\n",
      "Standard Deviation: 0.01966363495652347\n",
      "\n",
      "################################################################################\n",
      "\n",
      "Scores from 5-Fold CV\n",
      "-------------------------\n",
      "[0.96666667 1.         0.96666667 0.96666667 1.        ]\n",
      "\n",
      "Mean Score        : 0.9800000000000001\n",
      "Standard Deviation: 0.016329931618554516\n",
      "\n",
      "################################################################################\n",
      "\n",
      "Scores from 6-Fold CV\n",
      "-------------------------\n",
      "[0.96296296 1.         1.         0.91666667 1.         1.        ]\n",
      "\n",
      "Mean Score        : 0.9799382716049383\n",
      "Standard Deviation: 0.03136173060632961\n",
      "\n",
      "################################################################################\n",
      "\n",
      "Scores from 7-Fold CV\n",
      "-------------------------\n",
      "[0.95833333 1.         0.95238095 0.95238095 0.9047619  0.95238095\n",
      " 1.        ]\n",
      "\n",
      "Mean Score        : 0.9600340136054423\n",
      "Standard Deviation: 0.03030362190681201\n",
      "\n",
      "################################################################################\n",
      "\n",
      "Scores from 8-Fold CV\n",
      "-------------------------\n",
      "[0.95238095 1.         1.         1.         0.94444444 0.94444444\n",
      " 0.94444444 1.        ]\n",
      "\n",
      "Mean Score        : 0.9732142857142857\n",
      "Standard Deviation: 0.026895717681995966\n",
      "\n",
      "################################################################################\n",
      "\n",
      "Scores from 9-Fold CV\n",
      "-------------------------\n",
      "[1.         0.94444444 1.         1.         0.94444444 0.93333333\n",
      " 1.         1.         1.        ]\n",
      "\n",
      "Mean Score        : 0.980246913580247\n",
      "Standard Deviation: 0.028098288090718626\n",
      "\n",
      "################################################################################\n",
      "\n",
      "Scores from 10-Fold CV\n",
      "-------------------------\n",
      "[1.         0.93333333 1.         1.         1.         0.93333333\n",
      " 0.93333333 1.         1.         1.        ]\n",
      "\n",
      "Mean Score        : 0.9800000000000001\n",
      "Standard Deviation: 0.030550504633038926\n",
      "\n",
      "################################################################################\n",
      "\n",
      "Scores from 11-Fold CV\n",
      "-------------------------\n",
      "[1.         0.93333333 1.         1.         1.         0.93333333\n",
      " 0.91666667 1.         1.         1.         1.        ]\n",
      "\n",
      "Mean Score        : 0.9803030303030303\n",
      "Standard Deviation: 0.03242565842277682\n",
      "\n",
      "################################################################################\n",
      "\n",
      "Scores from 12-Fold CV\n",
      "-------------------------\n",
      "[1.         0.93333333 1.         1.         1.         1.\n",
      " 0.91666667 0.91666667 1.         1.         1.         1.        ]\n",
      "\n",
      "Mean Score        : 0.9805555555555555\n",
      "Standard Deviation: 0.03390709893259363\n",
      "\n",
      "################################################################################\n",
      "\n",
      "Scores from 13-Fold CV\n",
      "-------------------------\n",
      "[1.         0.91666667 1.         1.         1.         1.\n",
      " 0.91666667 1.         0.83333333 1.         1.         1.\n",
      " 1.        ]\n",
      "\n",
      "Mean Score        : 0.9743589743589743\n",
      "Standard Deviation: 0.05047440944879365\n",
      "\n",
      "################################################################################\n",
      "\n",
      "Scores from 14-Fold CV\n",
      "-------------------------\n",
      "[1.         0.91666667 1.         1.         1.         1.\n",
      " 0.91666667 1.         0.88888889 1.         1.         1.\n",
      " 1.         1.        ]\n",
      "\n",
      "Mean Score        : 0.9801587301587301\n",
      "Standard Deviation: 0.03847364966203437\n",
      "\n",
      "################################################################################\n",
      "\n",
      "Scores from 15-Fold CV\n",
      "-------------------------\n",
      "[1.         0.91666667 1.         1.         1.         1.\n",
      " 1.         0.88888889 1.         0.88888889 1.         1.\n",
      " 1.         1.         1.        ]\n",
      "\n",
      "Mean Score        : 0.9796296296296296\n",
      "Standard Deviation: 0.04115946439054237\n",
      "\n",
      "################################################################################\n",
      "\n",
      "Scores from 16-Fold CV\n",
      "-------------------------\n",
      "[1.         0.91666667 1.         1.         1.         1.\n",
      " 1.         1.         0.88888889 1.         0.88888889 1.\n",
      " 1.         1.         1.         1.        ]\n",
      "\n",
      "Mean Score        : 0.9809027777777778\n",
      "Standard Deviation: 0.04015636634104299\n",
      "\n",
      "################################################################################\n",
      "\n",
      "Scores from 17-Fold CV\n",
      "-------------------------\n",
      "[1.         1.         0.88888889 1.         1.         1.\n",
      " 0.88888889 1.         1.         0.88888889 1.         0.77777778\n",
      " 1.         1.         1.         1.         1.        ]\n",
      "\n",
      "Mean Score        : 0.9673202614379084\n",
      "Standard Deviation: 0.06336836414923307\n",
      "\n",
      "################################################################################\n",
      "\n",
      "Scores from 18-Fold CV\n",
      "-------------------------\n",
      "[1.         1.         0.88888889 1.         1.         1.\n",
      " 0.88888889 1.         1.         0.88888889 1.         0.77777778\n",
      " 1.         1.         1.         1.         1.         1.        ]\n",
      "\n",
      "Mean Score        : 0.9691358024691357\n",
      "Standard Deviation: 0.062036269266178355\n",
      "\n",
      "################################################################################\n",
      "\n",
      "Scores from 19-Fold CV\n",
      "-------------------------\n",
      "[1.         1.         0.88888889 1.         1.         1.\n",
      " 0.88888889 1.         1.         0.88888889 1.         0.77777778\n",
      " 1.         1.         1.         1.         1.         1.\n",
      " 1.        ]\n",
      "\n",
      "Mean Score        : 0.9707602339181286\n",
      "Standard Deviation: 0.06077371254627641\n",
      "\n",
      "################################################################################\n",
      "\n",
      "Scores from 20-Fold CV\n",
      "-------------------------\n",
      "[1.         1.         0.88888889 1.         1.         1.\n",
      " 0.88888889 1.         1.         0.88888889 1.         0.83333333\n",
      " 1.         1.         1.         1.         1.         1.\n",
      " 1.         1.        ]\n",
      "\n",
      "Mean Score        : 0.975\n",
      "Standard Deviation: 0.05114431288756103\n",
      "\n",
      "################################################################################\n",
      "\n"
     ]
    }
   ],
   "source": [
    "mean_accuracies = []\n",
    "stddev_accuracies = []\n",
    "for i in range(2, 21):\n",
    "    scores = cross_val_score(clf, iris.data, iris.target, cv=i)\n",
    "    mean_accuracies.append(scores.mean())\n",
    "    stddev_accuracies.append(scores.std())\n",
    "    print('Scores from {}-Fold CV'.format(i))\n",
    "    print('-------------------------')\n",
    "    print(scores)\n",
    "    print()\n",
    "    print('Mean Score        :', str(scores.mean()))\n",
    "    print('Standard Deviation:', str(scores.std()))\n",
    "    print('\\n', '#'*80, '\\n', sep='')"
   ]
  },
  {
   "cell_type": "code",
   "execution_count": 59,
   "metadata": {},
   "outputs": [],
   "source": [
    "import matplotlib.pyplot as plt\n",
    "plt.style.use('ggplot')"
   ]
  },
  {
   "cell_type": "code",
   "execution_count": 60,
   "metadata": {},
   "outputs": [
    {
     "data": {
      "image/png": "[encoded data removed]",
      "text/plain": [
       "<matplotlib.figure.Figure at 0x7f66d03f6b70>"
      ]
     },
     "metadata": {},
     "output_type": "display_data"
    }
   ],
   "source": [
    "fig = plt.figure(figsize=(15, 15))\n",
    "\n",
    "meanax = fig.add_subplot(211)\n",
    "meanax.plot([i for i in range(2, 21)], mean_accuracies, 'ro')\n",
    "meanax.set_xlabel('K in K-Fold Cross Validation')\n",
    "meanax.set_xlim((1, 21))\n",
    "meanax.set_xticks([i for i in range(2, 21)])\n",
    "meanax.set_ylabel('Mean Accuracy')\n",
    "meanax.set_title('Mean Accuracies from K-Fold CV')\n",
    "\n",
    "stddevax = fig.add_subplot(212)\n",
    "stddevax.plot([i for i in range(2, 21)], stddev_accuracies, 'bx')\n",
    "stddevax.set_xlabel('K in K-Fold Cross Validation')\n",
    "stddevax.set_xlim((1, 21))\n",
    "stddevax.set_xticks([i for i in range(2, 21)])\n",
    "stddevax.set_ylabel('Standard Deviation Accuracy')\n",
    "stddevax.set_title('Standard Deviation of Accuracies from K-Fold CV')\n",
    "\n",
    "plt.show()"
   ]
  },
  {
   "cell_type": "markdown",
   "metadata": {},
   "source": [
    "**Results:** That was unexpected. I see a small upward trend in both but the mean is much more variable than I expected. Maybe I should repeat this with the kinase inhibitor data before I run it through COMB-PSO."
   ]
  },
  {
   "cell_type": "markdown",
   "metadata": {},
   "source": [
    "## Start Playing with the NTLI Data"
   ]
  },
  {
   "cell_type": "code",
   "execution_count": 61,
   "metadata": {},
   "outputs": [],
   "source": [
    "import pandas as pd"
   ]
  },
  {
   "cell_type": "code",
   "execution_count": 62,
   "metadata": {},
   "outputs": [],
   "source": [
    "df = pd.read_csv('working_data/Neurite_Total_Length_Input.csv')"
   ]
  },
  {
   "cell_type": "code",
   "execution_count": 63,
   "metadata": {},
   "outputs": [
    {
     "data": {
      "text/html": [
       "<div>\n",
       "<style scoped>\n",
       "    .dataframe tbody tr th:only-of-type {\n",
       "        vertical-align: middle;\n",
       "    }\n",
       "\n",
       "    .dataframe tbody tr th {\n",
       "        vertical-align: top;\n",
       "    }\n",
       "\n",
       "    .dataframe thead th {\n",
       "        text-align: right;\n",
       "    }\n",
       "</style>\n",
       "<table border=\"1\" class=\"dataframe\">\n",
       "  <thead>\n",
       "    <tr style=\"text-align: right;\">\n",
       "      <th></th>\n",
       "      <th>Compound Name</th>\n",
       "      <th>Stratified screen category (1=hit, 0=non-hit)</th>\n",
       "      <th>ABL1</th>\n",
       "      <th>ABL2</th>\n",
       "      <th>AKT1</th>\n",
       "      <th>AKT2</th>\n",
       "      <th>AKT3</th>\n",
       "      <th>ALK</th>\n",
       "      <th>AURKA</th>\n",
       "      <th>AURKB</th>\n",
       "      <th>...</th>\n",
       "      <th>TEK</th>\n",
       "      <th>TNK2</th>\n",
       "      <th>TSSK1B</th>\n",
       "      <th>TSSK2</th>\n",
       "      <th>TTK</th>\n",
       "      <th>TXK</th>\n",
       "      <th>TYK2</th>\n",
       "      <th>TYRO3</th>\n",
       "      <th>YES1</th>\n",
       "      <th>ZAP70</th>\n",
       "    </tr>\n",
       "  </thead>\n",
       "  <tbody>\n",
       "    <tr>\n",
       "      <th>0</th>\n",
       "      <td>ASP3026</td>\n",
       "      <td>1</td>\n",
       "      <td>22.025</td>\n",
       "      <td>15.450</td>\n",
       "      <td>0.000</td>\n",
       "      <td>0.990</td>\n",
       "      <td>2.985</td>\n",
       "      <td>92.700</td>\n",
       "      <td>7.445</td>\n",
       "      <td>0.175</td>\n",
       "      <td>...</td>\n",
       "      <td>3.555</td>\n",
       "      <td>88.590</td>\n",
       "      <td>32.070</td>\n",
       "      <td>6.055</td>\n",
       "      <td>1.210</td>\n",
       "      <td>3.300</td>\n",
       "      <td>0.000</td>\n",
       "      <td>0.165</td>\n",
       "      <td>62.310</td>\n",
       "      <td>0.0</td>\n",
       "    </tr>\n",
       "    <tr>\n",
       "      <th>1</th>\n",
       "      <td>Bafetinib</td>\n",
       "      <td>1</td>\n",
       "      <td>94.970</td>\n",
       "      <td>91.785</td>\n",
       "      <td>0.000</td>\n",
       "      <td>0.000</td>\n",
       "      <td>2.115</td>\n",
       "      <td>1.945</td>\n",
       "      <td>0.000</td>\n",
       "      <td>1.280</td>\n",
       "      <td>...</td>\n",
       "      <td>1.175</td>\n",
       "      <td>0.000</td>\n",
       "      <td>10.880</td>\n",
       "      <td>2.240</td>\n",
       "      <td>0.000</td>\n",
       "      <td>6.445</td>\n",
       "      <td>0.000</td>\n",
       "      <td>0.000</td>\n",
       "      <td>39.890</td>\n",
       "      <td>0.0</td>\n",
       "    </tr>\n",
       "    <tr>\n",
       "      <th>2</th>\n",
       "      <td>Bisindolylmaleimide I</td>\n",
       "      <td>1</td>\n",
       "      <td>0.000</td>\n",
       "      <td>0.000</td>\n",
       "      <td>0.000</td>\n",
       "      <td>1.080</td>\n",
       "      <td>12.670</td>\n",
       "      <td>2.790</td>\n",
       "      <td>0.000</td>\n",
       "      <td>3.790</td>\n",
       "      <td>...</td>\n",
       "      <td>0.300</td>\n",
       "      <td>0.000</td>\n",
       "      <td>1.855</td>\n",
       "      <td>0.000</td>\n",
       "      <td>0.000</td>\n",
       "      <td>0.000</td>\n",
       "      <td>5.605</td>\n",
       "      <td>5.685</td>\n",
       "      <td>3.090</td>\n",
       "      <td>0.0</td>\n",
       "    </tr>\n",
       "    <tr>\n",
       "      <th>3</th>\n",
       "      <td>EMD1214063</td>\n",
       "      <td>1</td>\n",
       "      <td>0.000</td>\n",
       "      <td>0.000</td>\n",
       "      <td>1.925</td>\n",
       "      <td>2.565</td>\n",
       "      <td>0.000</td>\n",
       "      <td>3.255</td>\n",
       "      <td>0.000</td>\n",
       "      <td>5.020</td>\n",
       "      <td>...</td>\n",
       "      <td>0.000</td>\n",
       "      <td>0.000</td>\n",
       "      <td>0.000</td>\n",
       "      <td>1.200</td>\n",
       "      <td>0.000</td>\n",
       "      <td>2.455</td>\n",
       "      <td>2.470</td>\n",
       "      <td>6.325</td>\n",
       "      <td>2.795</td>\n",
       "      <td>0.0</td>\n",
       "    </tr>\n",
       "    <tr>\n",
       "      <th>4</th>\n",
       "      <td>Flt-3 Inhibitor III</td>\n",
       "      <td>1</td>\n",
       "      <td>36.300</td>\n",
       "      <td>15.345</td>\n",
       "      <td>0.000</td>\n",
       "      <td>1.320</td>\n",
       "      <td>0.000</td>\n",
       "      <td>1.670</td>\n",
       "      <td>0.000</td>\n",
       "      <td>8.850</td>\n",
       "      <td>...</td>\n",
       "      <td>1.800</td>\n",
       "      <td>1.675</td>\n",
       "      <td>0.000</td>\n",
       "      <td>0.720</td>\n",
       "      <td>3.485</td>\n",
       "      <td>1.000</td>\n",
       "      <td>5.855</td>\n",
       "      <td>7.795</td>\n",
       "      <td>19.750</td>\n",
       "      <td>0.0</td>\n",
       "    </tr>\n",
       "  </tbody>\n",
       "</table>\n",
       "<p>5 rows × 192 columns</p>\n",
       "</div>"
      ],
      "text/plain": [
       "           Compound Name  Stratified screen category (1=hit, 0=non-hit)  \\\n",
       "0                ASP3026                                              1   \n",
       "1              Bafetinib                                              1   \n",
       "2  Bisindolylmaleimide I                                              1   \n",
       "3             EMD1214063                                              1   \n",
       "4    Flt-3 Inhibitor III                                              1   \n",
       "\n",
       "     ABL1    ABL2   AKT1   AKT2    AKT3     ALK  AURKA  AURKB  ...      TEK  \\\n",
       "0  22.025  15.450  0.000  0.990   2.985  92.700  7.445  0.175  ...    3.555   \n",
       "1  94.970  91.785  0.000  0.000   2.115   1.945  0.000  1.280  ...    1.175   \n",
       "2   0.000   0.000  0.000  1.080  12.670   2.790  0.000  3.790  ...    0.300   \n",
       "3   0.000   0.000  1.925  2.565   0.000   3.255  0.000  5.020  ...    0.000   \n",
       "4  36.300  15.345  0.000  1.320   0.000   1.670  0.000  8.850  ...    1.800   \n",
       "\n",
       "     TNK2  TSSK1B  TSSK2    TTK    TXK   TYK2  TYRO3    YES1  ZAP70  \n",
       "0  88.590  32.070  6.055  1.210  3.300  0.000  0.165  62.310    0.0  \n",
       "1   0.000  10.880  2.240  0.000  6.445  0.000  0.000  39.890    0.0  \n",
       "2   0.000   1.855  0.000  0.000  0.000  5.605  5.685   3.090    0.0  \n",
       "3   0.000   0.000  1.200  0.000  2.455  2.470  6.325   2.795    0.0  \n",
       "4   1.675   0.000  0.720  3.485  1.000  5.855  7.795  19.750    0.0  \n",
       "\n",
       "[5 rows x 192 columns]"
      ]
     },
     "execution_count": 63,
     "metadata": {},
     "output_type": "execute_result"
    }
   ],
   "source": [
    "df.head()"
   ]
  },
  {
   "cell_type": "markdown",
   "metadata": {},
   "source": [
    "Here, the Compound Name column is the name vector for the data points. Stratified screen...non-hit) is the classification vector (target labels). All the other columns are features representing percentage of kinase inhibition for each well respective to a DMSO control."
   ]
  },
  {
   "cell_type": "code",
   "execution_count": 68,
   "metadata": {},
   "outputs": [],
   "source": [
    "temp = df['Stratified screen category (1=hit, 0=non-hit)']\n",
    "np.savetxt('working_data/prepped_for_classifier/temp.csv', temp.values.reshape(temp.values.shape[0]), delimiter=',')"
   ]
  },
  {
   "cell_type": "code",
   "execution_count": 26,
   "metadata": {},
   "outputs": [
    {
     "data": {
      "text/plain": [
       "0"
      ]
     },
     "execution_count": 26,
     "metadata": {},
     "output_type": "execute_result"
    }
   ],
   "source": [
    "# Pull out the target data and save it a separate .csv file.\n",
    "target = df['Stratified screen category (1=hit, 0=non-hit)']\n",
    "target.to_csv('working_data/prepped_for_classifier/target.csv', sep=',', index=False)\n",
    "\n",
    "# Awkward bit of reformatting because the array was getting saved with \\n separators instead of , for some reason.\n",
    "import os\n",
    "os.system(\"sed ':a;N;$!ba;s/\\n/,/g' working_data/prepped_for_classifier/target.csv > working_data/prepped_for_classifier/newtarget.csv\")\n",
    "os.system(\"mv working_data/prepped_for_classifier/newtarget.csv working_data/prepped_for_classifier/target.csv\")"
   ]
  },
  {
   "cell_type": "code",
   "execution_count": 27,
   "metadata": {},
   "outputs": [
    {
     "name": "stderr",
     "output_type": "stream",
     "text": [
      "/home/nathan/anaconda3/lib/python3.6/site-packages/ipykernel_launcher.py:2: UserWarning: loadtxt: Empty input file: \"working_data/prepped_for_classifier/target.csv\"\n",
      "  \n"
     ]
    }
   ],
   "source": [
    "# Make sure I can load the target.csv file into an ndarray object suitable for an sklearn classifier\n",
    "target_vector = np.loadtxt('working_data/prepped_for_classifier/target.csv', delimiter=',', dtype=np.int8)"
   ]
  },
  {
   "cell_type": "code",
   "execution_count": 28,
   "metadata": {},
   "outputs": [
    {
     "data": {
      "text/plain": [
       "array([], dtype=int8)"
      ]
     },
     "execution_count": 28,
     "metadata": {},
     "output_type": "execute_result"
    }
   ],
   "source": [
    "target_vector"
   ]
  },
  {
   "cell_type": "code",
   "execution_count": 29,
   "metadata": {},
   "outputs": [],
   "source": [
    "# Continue refining the dataframe to organize what I want.\n",
    "# Everything left should just be features.\n",
    "df.drop(['Compound Name', 'Stratified screen category (1=hit, 0=non-hit)'],\n",
    "        axis=1, inplace=True)"
   ]
  },
  {
   "cell_type": "code",
   "execution_count": 30,
   "metadata": {},
   "outputs": [
    {
     "data": {
      "text/html": [
       "<div>\n",
       "<style scoped>\n",
       "    .dataframe tbody tr th:only-of-type {\n",
       "        vertical-align: middle;\n",
       "    }\n",
       "\n",
       "    .dataframe tbody tr th {\n",
       "        vertical-align: top;\n",
       "    }\n",
       "\n",
       "    .dataframe thead th {\n",
       "        text-align: right;\n",
       "    }\n",
       "</style>\n",
       "<table border=\"1\" class=\"dataframe\">\n",
       "  <thead>\n",
       "    <tr style=\"text-align: right;\">\n",
       "      <th></th>\n",
       "      <th>ABL1</th>\n",
       "      <th>ABL2</th>\n",
       "      <th>AKT1</th>\n",
       "      <th>AKT2</th>\n",
       "      <th>AKT3</th>\n",
       "      <th>ALK</th>\n",
       "      <th>AURKA</th>\n",
       "      <th>AURKB</th>\n",
       "      <th>AURKC</th>\n",
       "      <th>AXL</th>\n",
       "      <th>...</th>\n",
       "      <th>TEK</th>\n",
       "      <th>TNK2</th>\n",
       "      <th>TSSK1B</th>\n",
       "      <th>TSSK2</th>\n",
       "      <th>TTK</th>\n",
       "      <th>TXK</th>\n",
       "      <th>TYK2</th>\n",
       "      <th>TYRO3</th>\n",
       "      <th>YES1</th>\n",
       "      <th>ZAP70</th>\n",
       "    </tr>\n",
       "  </thead>\n",
       "  <tbody>\n",
       "    <tr>\n",
       "      <th>0</th>\n",
       "      <td>22.025</td>\n",
       "      <td>15.450</td>\n",
       "      <td>0.000</td>\n",
       "      <td>0.990</td>\n",
       "      <td>2.985</td>\n",
       "      <td>92.700</td>\n",
       "      <td>7.445</td>\n",
       "      <td>0.175</td>\n",
       "      <td>0.0</td>\n",
       "      <td>4.685</td>\n",
       "      <td>...</td>\n",
       "      <td>3.555</td>\n",
       "      <td>88.590</td>\n",
       "      <td>32.070</td>\n",
       "      <td>6.055</td>\n",
       "      <td>1.210</td>\n",
       "      <td>3.300</td>\n",
       "      <td>0.000</td>\n",
       "      <td>0.165</td>\n",
       "      <td>62.310</td>\n",
       "      <td>0.0</td>\n",
       "    </tr>\n",
       "    <tr>\n",
       "      <th>1</th>\n",
       "      <td>94.970</td>\n",
       "      <td>91.785</td>\n",
       "      <td>0.000</td>\n",
       "      <td>0.000</td>\n",
       "      <td>2.115</td>\n",
       "      <td>1.945</td>\n",
       "      <td>0.000</td>\n",
       "      <td>1.280</td>\n",
       "      <td>0.0</td>\n",
       "      <td>0.000</td>\n",
       "      <td>...</td>\n",
       "      <td>1.175</td>\n",
       "      <td>0.000</td>\n",
       "      <td>10.880</td>\n",
       "      <td>2.240</td>\n",
       "      <td>0.000</td>\n",
       "      <td>6.445</td>\n",
       "      <td>0.000</td>\n",
       "      <td>0.000</td>\n",
       "      <td>39.890</td>\n",
       "      <td>0.0</td>\n",
       "    </tr>\n",
       "    <tr>\n",
       "      <th>2</th>\n",
       "      <td>0.000</td>\n",
       "      <td>0.000</td>\n",
       "      <td>0.000</td>\n",
       "      <td>1.080</td>\n",
       "      <td>12.670</td>\n",
       "      <td>2.790</td>\n",
       "      <td>0.000</td>\n",
       "      <td>3.790</td>\n",
       "      <td>0.0</td>\n",
       "      <td>0.000</td>\n",
       "      <td>...</td>\n",
       "      <td>0.300</td>\n",
       "      <td>0.000</td>\n",
       "      <td>1.855</td>\n",
       "      <td>0.000</td>\n",
       "      <td>0.000</td>\n",
       "      <td>0.000</td>\n",
       "      <td>5.605</td>\n",
       "      <td>5.685</td>\n",
       "      <td>3.090</td>\n",
       "      <td>0.0</td>\n",
       "    </tr>\n",
       "    <tr>\n",
       "      <th>3</th>\n",
       "      <td>0.000</td>\n",
       "      <td>0.000</td>\n",
       "      <td>1.925</td>\n",
       "      <td>2.565</td>\n",
       "      <td>0.000</td>\n",
       "      <td>3.255</td>\n",
       "      <td>0.000</td>\n",
       "      <td>5.020</td>\n",
       "      <td>0.0</td>\n",
       "      <td>16.875</td>\n",
       "      <td>...</td>\n",
       "      <td>0.000</td>\n",
       "      <td>0.000</td>\n",
       "      <td>0.000</td>\n",
       "      <td>1.200</td>\n",
       "      <td>0.000</td>\n",
       "      <td>2.455</td>\n",
       "      <td>2.470</td>\n",
       "      <td>6.325</td>\n",
       "      <td>2.795</td>\n",
       "      <td>0.0</td>\n",
       "    </tr>\n",
       "    <tr>\n",
       "      <th>4</th>\n",
       "      <td>36.300</td>\n",
       "      <td>15.345</td>\n",
       "      <td>0.000</td>\n",
       "      <td>1.320</td>\n",
       "      <td>0.000</td>\n",
       "      <td>1.670</td>\n",
       "      <td>0.000</td>\n",
       "      <td>8.850</td>\n",
       "      <td>0.0</td>\n",
       "      <td>2.150</td>\n",
       "      <td>...</td>\n",
       "      <td>1.800</td>\n",
       "      <td>1.675</td>\n",
       "      <td>0.000</td>\n",
       "      <td>0.720</td>\n",
       "      <td>3.485</td>\n",
       "      <td>1.000</td>\n",
       "      <td>5.855</td>\n",
       "      <td>7.795</td>\n",
       "      <td>19.750</td>\n",
       "      <td>0.0</td>\n",
       "    </tr>\n",
       "  </tbody>\n",
       "</table>\n",
       "<p>5 rows × 190 columns</p>\n",
       "</div>"
      ],
      "text/plain": [
       "     ABL1    ABL2   AKT1   AKT2    AKT3     ALK  AURKA  AURKB  AURKC     AXL  \\\n",
       "0  22.025  15.450  0.000  0.990   2.985  92.700  7.445  0.175    0.0   4.685   \n",
       "1  94.970  91.785  0.000  0.000   2.115   1.945  0.000  1.280    0.0   0.000   \n",
       "2   0.000   0.000  0.000  1.080  12.670   2.790  0.000  3.790    0.0   0.000   \n",
       "3   0.000   0.000  1.925  2.565   0.000   3.255  0.000  5.020    0.0  16.875   \n",
       "4  36.300  15.345  0.000  1.320   0.000   1.670  0.000  8.850    0.0   2.150   \n",
       "\n",
       "   ...      TEK    TNK2  TSSK1B  TSSK2    TTK    TXK   TYK2  TYRO3    YES1  \\\n",
       "0  ...    3.555  88.590  32.070  6.055  1.210  3.300  0.000  0.165  62.310   \n",
       "1  ...    1.175   0.000  10.880  2.240  0.000  6.445  0.000  0.000  39.890   \n",
       "2  ...    0.300   0.000   1.855  0.000  0.000  0.000  5.605  5.685   3.090   \n",
       "3  ...    0.000   0.000   0.000  1.200  0.000  2.455  2.470  6.325   2.795   \n",
       "4  ...    1.800   1.675   0.000  0.720  3.485  1.000  5.855  7.795  19.750   \n",
       "\n",
       "   ZAP70  \n",
       "0    0.0  \n",
       "1    0.0  \n",
       "2    0.0  \n",
       "3    0.0  \n",
       "4    0.0  \n",
       "\n",
       "[5 rows x 190 columns]"
      ]
     },
     "execution_count": 30,
     "metadata": {},
     "output_type": "execute_result"
    }
   ],
   "source": [
    "df.head()"
   ]
  },
  {
   "cell_type": "code",
   "execution_count": 31,
   "metadata": {},
   "outputs": [],
   "source": [
    "# Save the feature names in order as a separate .csv file\n",
    "feature_names = list(df.columns)\n",
    "\n",
    "import csv\n",
    "with open('working_data/prepped_for_classifier/feature_names.csv', 'w') as myfile:\n",
    "    wr = csv.writer(myfile)\n",
    "    wr.writerow(feature_names)"
   ]
  },
  {
   "cell_type": "code",
   "execution_count": 32,
   "metadata": {},
   "outputs": [],
   "source": [
    "# Make sure I can load the feature_names.csv file into an ndarray object suitable for an sklearn classifier\n",
    "feature_names = np.loadtxt('working_data/prepped_for_classifier/feature_names.csv', dtype=str, delimiter=',')"
   ]
  },
  {
   "cell_type": "code",
   "execution_count": 33,
   "metadata": {},
   "outputs": [
    {
     "data": {
      "text/plain": [
       "array(['ABL1', 'ABL2', 'AKT1', 'AKT2', 'AKT3', 'ALK', 'AURKA', 'AURKB',\n",
       "       'AURKC', 'AXL', 'BLK', 'BMX', 'BRAF', 'BRSK1', 'BRSK2', 'BTK',\n",
       "       'CAMK1D', 'CAMK2A', 'CAMK2D', 'CAMK4', 'CDC42BPA', 'CDC42BPB',\n",
       "       'CDK1', 'CDK2', 'CDK3', 'CDK4', 'CDK5', 'CDK6', 'CHEK1', 'CHEK2',\n",
       "       'CHUK', 'CLK2', 'CLK3', 'CSF1R', 'CSK', 'CSNK1A1', 'CSNK1G1',\n",
       "       'CSNK1G2', 'CSNK1G3', 'DAPK1', 'DCLK2', 'DDR2', 'DYRK1A', 'DYRK1B',\n",
       "       'DYRK2', 'EGFR', 'EPHA2', 'EPHA3', 'EPHA4', 'EPHB2', 'EPHB3',\n",
       "       'EPHB4', 'ERBB2', 'ERBB4', 'FER', 'FES', 'FGFR1', 'FGFR2', 'FGFR3',\n",
       "       'FGFR4', 'FGR', 'FLT1', 'FLT3', 'FLT4', 'FRK', 'FYN', 'GRK6',\n",
       "       'GSK3A', 'GSK3B', 'HCK', 'HIPK1', 'IGF1R', 'IKBKB', 'IKBKE',\n",
       "       'INSR', 'INSRR', 'IRAK4', 'ITK', 'JAK1', 'JAK2', 'JAK3', 'KDR',\n",
       "       'KIT', 'LCK', 'LRRK2', 'LTK', 'LYN', 'MAP2K1', 'MAP4K2', 'MAP4K4',\n",
       "       'MAPK1', 'MAPK11', 'MAPK12', 'MAPK13', 'MAPK14', 'MAPK3', 'MAPK9',\n",
       "       'MAPKAPK2', 'MAPKAPK3', 'MAPKAPK5', 'MARK1', 'MARK2', 'MARK3',\n",
       "       'MARK4', 'MELK', 'MERTK', 'MET', 'MINK1', 'MKNK1', 'MKNK2',\n",
       "       'MST1R', 'MST4', 'MUSK', 'NEK1', 'NEK2', 'NEK6', 'NEK7', 'NEK9',\n",
       "       'NTRK1', 'NTRK2', 'NTRK3', 'NUAK1', 'PAK1', 'PAK2', 'PAK3', 'PAK6',\n",
       "       'PAK7', 'PASK', 'PDGFRA', 'PDGFRB', 'PDPK1', 'PHKG1', 'PHKG2',\n",
       "       'PI4KB', 'PIK3CA', 'PIK3CD', 'PIM1', 'PIM2', 'PIM3', 'PLK1',\n",
       "       'PRKAA2', 'PRKACA', 'PRKCA', 'PRKCB', 'PRKCG', 'PRKD1', 'PRKD2',\n",
       "       'PRKD3', 'PRKG1', 'PRKG2', 'PRKX', 'PTK2B', 'PTK6', 'RAF1', 'RET',\n",
       "       'ROCK1', 'ROCK2', 'ROS1', 'RPS6KA1', 'RPS6KA2', 'RPS6KA3',\n",
       "       'RPS6KA4', 'RPS6KA5', 'RPS6KA6', 'RPS6KB1', 'SGK1', 'SGK2', 'SGK3',\n",
       "       'SIK1', 'SIK2', 'SRC', 'SRMS', 'SRPK1', 'SRPK3', 'STK10', 'STK3',\n",
       "       'STK4', 'SYK', 'TBK1', 'TEC', 'TEK', 'TNK2', 'TSSK1B', 'TSSK2',\n",
       "       'TTK', 'TXK', 'TYK2', 'TYRO3', 'YES1', 'ZAP70'], dtype='<U8')"
      ]
     },
     "execution_count": 33,
     "metadata": {},
     "output_type": "execute_result"
    }
   ],
   "source": [
    "feature_names"
   ]
  },
  {
   "cell_type": "code",
   "execution_count": 34,
   "metadata": {},
   "outputs": [],
   "source": [
    "# Export the feature data as its own separate .csv file, WITHOUT column or row labels\n",
    "# so that it loads cleanly into an ndarray.\n",
    "df.to_csv('working_data/prepped_for_classifier/data.csv', sep=',', header=False, index=False)"
   ]
  },
  {
   "cell_type": "code",
   "execution_count": 35,
   "metadata": {},
   "outputs": [],
   "source": [
    "# Verify the import capability\n",
    "data = np.loadtxt('working_data/prepped_for_classifier/data.csv', delimiter=',', dtype=np.float64)"
   ]
  },
  {
   "cell_type": "code",
   "execution_count": 36,
   "metadata": {},
   "outputs": [
    {
     "data": {
      "text/plain": [
       "array([[22.025, 15.45 ,  0.   , ...,  0.165, 62.31 ,  0.   ],\n",
       "       [94.97 , 91.785,  0.   , ...,  0.   , 39.89 ,  0.   ],\n",
       "       [ 0.   ,  0.   ,  0.   , ...,  5.685,  3.09 ,  0.   ],\n",
       "       ...,\n",
       "       [ 3.73 ,  4.64 ,  0.26 , ...,  3.72 ,  2.41 ,  0.   ],\n",
       "       [ 8.44 ,  4.49 ,  0.9  , ...,  2.82 ,  2.03 ,  3.89 ],\n",
       "       [ 0.   ,  0.16 ,  0.   , ...,  2.21 ,  3.03 ,  0.   ]])"
      ]
     },
     "execution_count": 36,
     "metadata": {},
     "output_type": "execute_result"
    }
   ],
   "source": [
    "data"
   ]
  },
  {
   "cell_type": "code",
   "execution_count": 37,
   "metadata": {},
   "outputs": [
    {
     "data": {
      "text/html": [
       "<div>\n",
       "<style scoped>\n",
       "    .dataframe tbody tr th:only-of-type {\n",
       "        vertical-align: middle;\n",
       "    }\n",
       "\n",
       "    .dataframe tbody tr th {\n",
       "        vertical-align: top;\n",
       "    }\n",
       "\n",
       "    .dataframe thead th {\n",
       "        text-align: right;\n",
       "    }\n",
       "</style>\n",
       "<table border=\"1\" class=\"dataframe\">\n",
       "  <thead>\n",
       "    <tr style=\"text-align: right;\">\n",
       "      <th></th>\n",
       "      <th>ABL1</th>\n",
       "      <th>ABL2</th>\n",
       "      <th>AKT1</th>\n",
       "      <th>AKT2</th>\n",
       "      <th>AKT3</th>\n",
       "      <th>ALK</th>\n",
       "      <th>AURKA</th>\n",
       "      <th>AURKB</th>\n",
       "      <th>AURKC</th>\n",
       "      <th>AXL</th>\n",
       "      <th>...</th>\n",
       "      <th>TEK</th>\n",
       "      <th>TNK2</th>\n",
       "      <th>TSSK1B</th>\n",
       "      <th>TSSK2</th>\n",
       "      <th>TTK</th>\n",
       "      <th>TXK</th>\n",
       "      <th>TYK2</th>\n",
       "      <th>TYRO3</th>\n",
       "      <th>YES1</th>\n",
       "      <th>ZAP70</th>\n",
       "    </tr>\n",
       "  </thead>\n",
       "  <tbody>\n",
       "    <tr>\n",
       "      <th>0</th>\n",
       "      <td>22.025</td>\n",
       "      <td>15.450</td>\n",
       "      <td>0.000</td>\n",
       "      <td>0.990</td>\n",
       "      <td>2.985</td>\n",
       "      <td>92.700</td>\n",
       "      <td>7.445</td>\n",
       "      <td>0.175</td>\n",
       "      <td>0.0</td>\n",
       "      <td>4.685</td>\n",
       "      <td>...</td>\n",
       "      <td>3.555</td>\n",
       "      <td>88.590</td>\n",
       "      <td>32.070</td>\n",
       "      <td>6.055</td>\n",
       "      <td>1.210</td>\n",
       "      <td>3.300</td>\n",
       "      <td>0.000</td>\n",
       "      <td>0.165</td>\n",
       "      <td>62.310</td>\n",
       "      <td>0.0</td>\n",
       "    </tr>\n",
       "    <tr>\n",
       "      <th>1</th>\n",
       "      <td>94.970</td>\n",
       "      <td>91.785</td>\n",
       "      <td>0.000</td>\n",
       "      <td>0.000</td>\n",
       "      <td>2.115</td>\n",
       "      <td>1.945</td>\n",
       "      <td>0.000</td>\n",
       "      <td>1.280</td>\n",
       "      <td>0.0</td>\n",
       "      <td>0.000</td>\n",
       "      <td>...</td>\n",
       "      <td>1.175</td>\n",
       "      <td>0.000</td>\n",
       "      <td>10.880</td>\n",
       "      <td>2.240</td>\n",
       "      <td>0.000</td>\n",
       "      <td>6.445</td>\n",
       "      <td>0.000</td>\n",
       "      <td>0.000</td>\n",
       "      <td>39.890</td>\n",
       "      <td>0.0</td>\n",
       "    </tr>\n",
       "    <tr>\n",
       "      <th>2</th>\n",
       "      <td>0.000</td>\n",
       "      <td>0.000</td>\n",
       "      <td>0.000</td>\n",
       "      <td>1.080</td>\n",
       "      <td>12.670</td>\n",
       "      <td>2.790</td>\n",
       "      <td>0.000</td>\n",
       "      <td>3.790</td>\n",
       "      <td>0.0</td>\n",
       "      <td>0.000</td>\n",
       "      <td>...</td>\n",
       "      <td>0.300</td>\n",
       "      <td>0.000</td>\n",
       "      <td>1.855</td>\n",
       "      <td>0.000</td>\n",
       "      <td>0.000</td>\n",
       "      <td>0.000</td>\n",
       "      <td>5.605</td>\n",
       "      <td>5.685</td>\n",
       "      <td>3.090</td>\n",
       "      <td>0.0</td>\n",
       "    </tr>\n",
       "    <tr>\n",
       "      <th>3</th>\n",
       "      <td>0.000</td>\n",
       "      <td>0.000</td>\n",
       "      <td>1.925</td>\n",
       "      <td>2.565</td>\n",
       "      <td>0.000</td>\n",
       "      <td>3.255</td>\n",
       "      <td>0.000</td>\n",
       "      <td>5.020</td>\n",
       "      <td>0.0</td>\n",
       "      <td>16.875</td>\n",
       "      <td>...</td>\n",
       "      <td>0.000</td>\n",
       "      <td>0.000</td>\n",
       "      <td>0.000</td>\n",
       "      <td>1.200</td>\n",
       "      <td>0.000</td>\n",
       "      <td>2.455</td>\n",
       "      <td>2.470</td>\n",
       "      <td>6.325</td>\n",
       "      <td>2.795</td>\n",
       "      <td>0.0</td>\n",
       "    </tr>\n",
       "    <tr>\n",
       "      <th>4</th>\n",
       "      <td>36.300</td>\n",
       "      <td>15.345</td>\n",
       "      <td>0.000</td>\n",
       "      <td>1.320</td>\n",
       "      <td>0.000</td>\n",
       "      <td>1.670</td>\n",
       "      <td>0.000</td>\n",
       "      <td>8.850</td>\n",
       "      <td>0.0</td>\n",
       "      <td>2.150</td>\n",
       "      <td>...</td>\n",
       "      <td>1.800</td>\n",
       "      <td>1.675</td>\n",
       "      <td>0.000</td>\n",
       "      <td>0.720</td>\n",
       "      <td>3.485</td>\n",
       "      <td>1.000</td>\n",
       "      <td>5.855</td>\n",
       "      <td>7.795</td>\n",
       "      <td>19.750</td>\n",
       "      <td>0.0</td>\n",
       "    </tr>\n",
       "  </tbody>\n",
       "</table>\n",
       "<p>5 rows × 190 columns</p>\n",
       "</div>"
      ],
      "text/plain": [
       "     ABL1    ABL2   AKT1   AKT2    AKT3     ALK  AURKA  AURKB  AURKC     AXL  \\\n",
       "0  22.025  15.450  0.000  0.990   2.985  92.700  7.445  0.175    0.0   4.685   \n",
       "1  94.970  91.785  0.000  0.000   2.115   1.945  0.000  1.280    0.0   0.000   \n",
       "2   0.000   0.000  0.000  1.080  12.670   2.790  0.000  3.790    0.0   0.000   \n",
       "3   0.000   0.000  1.925  2.565   0.000   3.255  0.000  5.020    0.0  16.875   \n",
       "4  36.300  15.345  0.000  1.320   0.000   1.670  0.000  8.850    0.0   2.150   \n",
       "\n",
       "   ...      TEK    TNK2  TSSK1B  TSSK2    TTK    TXK   TYK2  TYRO3    YES1  \\\n",
       "0  ...    3.555  88.590  32.070  6.055  1.210  3.300  0.000  0.165  62.310   \n",
       "1  ...    1.175   0.000  10.880  2.240  0.000  6.445  0.000  0.000  39.890   \n",
       "2  ...    0.300   0.000   1.855  0.000  0.000  0.000  5.605  5.685   3.090   \n",
       "3  ...    0.000   0.000   0.000  1.200  0.000  2.455  2.470  6.325   2.795   \n",
       "4  ...    1.800   1.675   0.000  0.720  3.485  1.000  5.855  7.795  19.750   \n",
       "\n",
       "   ZAP70  \n",
       "0    0.0  \n",
       "1    0.0  \n",
       "2    0.0  \n",
       "3    0.0  \n",
       "4    0.0  \n",
       "\n",
       "[5 rows x 190 columns]"
      ]
     },
     "execution_count": 37,
     "metadata": {},
     "output_type": "execute_result"
    }
   ],
   "source": [
    "df.head()"
   ]
  },
  {
   "cell_type": "markdown",
   "metadata": {},
   "source": [
    "Looks good!"
   ]
  },
  {
   "cell_type": "markdown",
   "metadata": {},
   "source": [
    "### Establish a baseline"
   ]
  },
  {
   "cell_type": "markdown",
   "metadata": {},
   "source": [
    "Essentially, rather than assuming that my progress is starting at 0% accuracy, I'm seeing how good the classification accuracy is when I give the entire dataset to an sklearn SVM classifier with all the default settings. The project goal is to improve that accuracy as much as possible, first by feature selection, then by tuning the SVM (feature selection seems likely to contribute to overfitting)."
   ]
  },
  {
   "cell_type": "code",
   "execution_count": 38,
   "metadata": {},
   "outputs": [
    {
     "ename": "ValueError",
     "evalue": "Found input variables with inconsistent numbers of samples: [256, 0]",
     "output_type": "error",
     "traceback": [
      "\u001b[0;31m---------------------------------------------------------------------------\u001b[0m",
      "\u001b[0;31mValueError\u001b[0m                                Traceback (most recent call last)",
      "\u001b[0;32m<ipython-input-38-4ee844187c04>\u001b[0m in \u001b[0;36m<module>\u001b[0;34m()\u001b[0m\n\u001b[1;32m      1\u001b[0m \u001b[0;31m# Randomly split the full dataset into 70% training data and 30% test data\u001b[0m\u001b[0;34m\u001b[0m\u001b[0;34m\u001b[0m\u001b[0m\n\u001b[1;32m      2\u001b[0m \u001b[0;31m# K prefix is for Kinase\u001b[0m\u001b[0;34m\u001b[0m\u001b[0;34m\u001b[0m\u001b[0m\n\u001b[0;32m----> 3\u001b[0;31m \u001b[0mKX_train\u001b[0m\u001b[0;34m,\u001b[0m \u001b[0mKX_test\u001b[0m\u001b[0;34m,\u001b[0m \u001b[0mKy_train\u001b[0m\u001b[0;34m,\u001b[0m \u001b[0mKy_test\u001b[0m \u001b[0;34m=\u001b[0m \u001b[0mtrain_test_split\u001b[0m\u001b[0;34m(\u001b[0m\u001b[0mdata\u001b[0m\u001b[0;34m,\u001b[0m \u001b[0mtarget_vector\u001b[0m\u001b[0;34m,\u001b[0m \u001b[0mtest_size\u001b[0m \u001b[0;34m=\u001b[0m \u001b[0;36m0.3\u001b[0m\u001b[0;34m,\u001b[0m \u001b[0mrandom_state\u001b[0m \u001b[0;34m=\u001b[0m \u001b[0;36m12\u001b[0m\u001b[0;34m)\u001b[0m\u001b[0;34m\u001b[0m\u001b[0m\n\u001b[0m",
      "\u001b[0;32m~/anaconda3/lib/python3.6/site-packages/sklearn/model_selection/_split.py\u001b[0m in \u001b[0;36mtrain_test_split\u001b[0;34m(*arrays, **options)\u001b[0m\n\u001b[1;32m   2029\u001b[0m         \u001b[0mtest_size\u001b[0m \u001b[0;34m=\u001b[0m \u001b[0;36m0.25\u001b[0m\u001b[0;34m\u001b[0m\u001b[0m\n\u001b[1;32m   2030\u001b[0m \u001b[0;34m\u001b[0m\u001b[0m\n\u001b[0;32m-> 2031\u001b[0;31m     \u001b[0marrays\u001b[0m \u001b[0;34m=\u001b[0m \u001b[0mindexable\u001b[0m\u001b[0;34m(\u001b[0m\u001b[0;34m*\u001b[0m\u001b[0marrays\u001b[0m\u001b[0;34m)\u001b[0m\u001b[0;34m\u001b[0m\u001b[0m\n\u001b[0m\u001b[1;32m   2032\u001b[0m \u001b[0;34m\u001b[0m\u001b[0m\n\u001b[1;32m   2033\u001b[0m     \u001b[0;32mif\u001b[0m \u001b[0mshuffle\u001b[0m \u001b[0;32mis\u001b[0m \u001b[0;32mFalse\u001b[0m\u001b[0;34m:\u001b[0m\u001b[0;34m\u001b[0m\u001b[0m\n",
      "\u001b[0;32m~/anaconda3/lib/python3.6/site-packages/sklearn/utils/validation.py\u001b[0m in \u001b[0;36mindexable\u001b[0;34m(*iterables)\u001b[0m\n\u001b[1;32m    227\u001b[0m         \u001b[0;32melse\u001b[0m\u001b[0;34m:\u001b[0m\u001b[0;34m\u001b[0m\u001b[0m\n\u001b[1;32m    228\u001b[0m             \u001b[0mresult\u001b[0m\u001b[0;34m.\u001b[0m\u001b[0mappend\u001b[0m\u001b[0;34m(\u001b[0m\u001b[0mnp\u001b[0m\u001b[0;34m.\u001b[0m\u001b[0marray\u001b[0m\u001b[0;34m(\u001b[0m\u001b[0mX\u001b[0m\u001b[0;34m)\u001b[0m\u001b[0;34m)\u001b[0m\u001b[0;34m\u001b[0m\u001b[0m\n\u001b[0;32m--> 229\u001b[0;31m     \u001b[0mcheck_consistent_length\u001b[0m\u001b[0;34m(\u001b[0m\u001b[0;34m*\u001b[0m\u001b[0mresult\u001b[0m\u001b[0;34m)\u001b[0m\u001b[0;34m\u001b[0m\u001b[0m\n\u001b[0m\u001b[1;32m    230\u001b[0m     \u001b[0;32mreturn\u001b[0m \u001b[0mresult\u001b[0m\u001b[0;34m\u001b[0m\u001b[0m\n\u001b[1;32m    231\u001b[0m \u001b[0;34m\u001b[0m\u001b[0m\n",
      "\u001b[0;32m~/anaconda3/lib/python3.6/site-packages/sklearn/utils/validation.py\u001b[0m in \u001b[0;36mcheck_consistent_length\u001b[0;34m(*arrays)\u001b[0m\n\u001b[1;32m    202\u001b[0m     \u001b[0;32mif\u001b[0m \u001b[0mlen\u001b[0m\u001b[0;34m(\u001b[0m\u001b[0muniques\u001b[0m\u001b[0;34m)\u001b[0m \u001b[0;34m>\u001b[0m \u001b[0;36m1\u001b[0m\u001b[0;34m:\u001b[0m\u001b[0;34m\u001b[0m\u001b[0m\n\u001b[1;32m    203\u001b[0m         raise ValueError(\"Found input variables with inconsistent numbers of\"\n\u001b[0;32m--> 204\u001b[0;31m                          \" samples: %r\" % [int(l) for l in lengths])\n\u001b[0m\u001b[1;32m    205\u001b[0m \u001b[0;34m\u001b[0m\u001b[0m\n\u001b[1;32m    206\u001b[0m \u001b[0;34m\u001b[0m\u001b[0m\n",
      "\u001b[0;31mValueError\u001b[0m: Found input variables with inconsistent numbers of samples: [256, 0]"
     ]
    }
   ],
   "source": [
    "# Randomly split the full dataset into 70% training data and 30% test data\n",
    "# K prefix is for Kinase\n",
    "KX_train, KX_test, Ky_train, Ky_test = train_test_split(data, target_vector, test_size = 0.3, random_state = 12)"
   ]
  },
  {
   "cell_type": "code",
   "execution_count": null,
   "metadata": {},
   "outputs": [],
   "source": [
    "# Initialize a classifier object\n",
    "Kclf = svm.SVC()"
   ]
  },
  {
   "cell_type": "code",
   "execution_count": null,
   "metadata": {},
   "outputs": [],
   "source": [
    "# Train the classifier on the training data\n",
    "Kclf.fit(KX_train, Ky_train)"
   ]
  },
  {
   "cell_type": "code",
   "execution_count": null,
   "metadata": {
    "scrolled": true
   },
   "outputs": [],
   "source": [
    "# Let the classifier predict the labels of the reserved test data\n",
    "Kclf.predict(KX_test)"
   ]
  },
  {
   "cell_type": "code",
   "execution_count": null,
   "metadata": {},
   "outputs": [],
   "source": [
    "# Display the correct labels\n",
    "Ky_test"
   ]
  },
  {
   "cell_type": "code",
   "execution_count": null,
   "metadata": {},
   "outputs": [],
   "source": [
    "# Boolean vector: true if the predicted label matched the actual label for the reserved test data\n",
    "np.equal(Kclf.predict(KX_test), Ky_test)"
   ]
  },
  {
   "cell_type": "code",
   "execution_count": null,
   "metadata": {},
   "outputs": [],
   "source": [
    "# Return an accuracy score for the trained classifer (SVC.score() uses SVC.predict() internally)\n",
    "Kclf.score(KX_test, Ky_test)"
   ]
  },
  {
   "cell_type": "code",
   "execution_count": null,
   "metadata": {},
   "outputs": [],
   "source": [
    "# Run K-Fold Cross Validation (cv = K) on the entire data set, (no reserved data)\n",
    "# and assign the accuracy scores of each Cross Validation to scores\n",
    "Kscores = cross_val_score(Kclf, data, target_vector, cv=10)"
   ]
  },
  {
   "cell_type": "code",
   "execution_count": null,
   "metadata": {},
   "outputs": [],
   "source": [
    "print('Scores from 10-Fold CV on Kinase Inhibitors')\n",
    "print('--------------------------------------------')\n",
    "print(Kscores)\n",
    "print()\n",
    "print('Mean Score        :', str(Kscores.mean()))\n",
    "print('Standard Deviation:', str(Kscores.std()))"
   ]
  },
  {
   "cell_type": "code",
   "execution_count": null,
   "metadata": {},
   "outputs": [],
   "source": [
    "Kmean_accuracies = []\n",
    "Kstddev_accuracies = []\n",
    "for i in range(2, 21):\n",
    "    Kscores = cross_val_score(Kclf, data, target_vector, cv=i)\n",
    "    Kmean_accuracies.append(Kscores.mean())\n",
    "    Kstddev_accuracies.append(Kscores.std())\n",
    "    print('Scores from {}-Fold CV on Kinase Inhibitors'.format(i))\n",
    "    print('-------------------------------------------')\n",
    "    print(scores)\n",
    "    print()\n",
    "    print('Mean Score        :', str(Kscores.mean()))\n",
    "    print('Standard Deviation:', str(Kscores.std()))\n",
    "    print('\\n', '#'*80, '\\n', sep='')"
   ]
  },
  {
   "cell_type": "code",
   "execution_count": null,
   "metadata": {},
   "outputs": [],
   "source": [
    "Kfig = plt.figure(figsize=(15, 15))\n",
    "\n",
    "Kmeanax = Kfig.add_subplot(211)\n",
    "Kmeanax.plot([i for i in range(2, 21)], Kmean_accuracies, 'ro')\n",
    "Kmeanax.set_xlabel('K in K-Fold Cross Validation')\n",
    "Kmeanax.set_xlim((1, 21))\n",
    "Kmeanax.set_xticks([i for i in range(2, 21)])\n",
    "Kmeanax.set_ylabel('Mean Accuracy')\n",
    "Kmeanax.set_title('Mean Accuracies from K-Fold CV on Kinase Inhibitors')\n",
    "\n",
    "Kstddevax = Kfig.add_subplot(212)\n",
    "Kstddevax.plot([i for i in range(2, 21)], Kstddev_accuracies, 'bx')\n",
    "Kstddevax.set_xlabel('K in K-Fold Cross Validation')\n",
    "Kstddevax.set_xlim((1, 21))\n",
    "Kstddevax.set_xticks([i for i in range(2, 21)])\n",
    "Kstddevax.set_ylabel('Standard Deviation Accuracy')\n",
    "Kstddevax.set_title('Standard Deviation of Accuracies from K-Fold CV on Kinase Inhibitors')\n",
    "\n",
    "plt.show()"
   ]
  },
  {
   "cell_type": "markdown",
   "metadata": {},
   "source": [
    "**Results:** Definitely a stronger upward trend than with the iris data, but if you look at the y-scales, the differences are negligible."
   ]
  },
  {
   "cell_type": "code",
   "execution_count": null,
   "metadata": {},
   "outputs": [],
   "source": []
  }
 ],
 "metadata": {
  "kernelspec": {
   "display_name": "Python 3",
   "language": "python",
   "name": "python3"
  },
  "language_info": {
   "codemirror_mode": {
    "name": "ipython",
    "version": 3
   },
   "file_extension": ".py",
   "mimetype": "text/x-python",
   "name": "python",
   "nbconvert_exporter": "python",
   "pygments_lexer": "ipython3",
   "version": "3.6.4"
  }
 },
 "nbformat": 4,
 "nbformat_minor": 2
}
