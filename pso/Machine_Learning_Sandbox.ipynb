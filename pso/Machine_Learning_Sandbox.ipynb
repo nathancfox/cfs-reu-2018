{
 "cells": [
  {
   "cell_type": "code",
   "execution_count": 1,
   "metadata": {},
   "outputs": [],
   "source": [
    "import numpy as np\n",
    "from sklearn import svm\n",
    "from sklearn import datasets\n",
    "from sklearn.model_selection import train_test_split\n",
    "from sklearn.model_selection import cross_val_score\n",
    "from sklearn.model_selection import cross_validate"
   ]
  },
  {
   "cell_type": "code",
   "execution_count": 2,
   "metadata": {},
   "outputs": [],
   "source": [
    "iris = datasets.load_iris()"
   ]
  },
  {
   "cell_type": "code",
   "execution_count": 3,
   "metadata": {},
   "outputs": [
    {
     "data": {
      "text/plain": [
       "sklearn.utils.Bunch"
      ]
     },
     "execution_count": 3,
     "metadata": {},
     "output_type": "execute_result"
    }
   ],
   "source": [
    "type(iris)"
   ]
  },
  {
   "cell_type": "code",
   "execution_count": 6,
   "metadata": {},
   "outputs": [
    {
     "data": {
      "text/plain": [
       "['DESCR', 'data', 'feature_names', 'target', 'target_names']"
      ]
     },
     "execution_count": 6,
     "metadata": {},
     "output_type": "execute_result"
    }
   ],
   "source": [
    "dir(iris)"
   ]
  },
  {
   "cell_type": "code",
   "execution_count": 9,
   "metadata": {},
   "outputs": [
    {
     "name": "stdout",
     "output_type": "stream",
     "text": [
      "Iris Plants Database\n",
      "====================\n",
      "\n",
      "Notes\n",
      "-----\n",
      "Data Set Characteristics:\n",
      "    :Number of Instances: 150 (50 in each of three classes)\n",
      "    :Number of Attributes: 4 numeric, predictive attributes and the class\n",
      "    :Attribute Information:\n",
      "        - sepal length in cm\n",
      "        - sepal width in cm\n",
      "        - petal length in cm\n",
      "        - petal width in cm\n",
      "        - class:\n",
      "                - Iris-Setosa\n",
      "                - Iris-Versicolour\n",
      "                - Iris-Virginica\n",
      "    :Summary Statistics:\n",
      "\n",
      "    ============== ==== ==== ======= ===== ====================\n",
      "                    Min  Max   Mean    SD   Class Correlation\n",
      "    ============== ==== ==== ======= ===== ====================\n",
      "    sepal length:   4.3  7.9   5.84   0.83    0.7826\n",
      "    sepal width:    2.0  4.4   3.05   0.43   -0.4194\n",
      "    petal length:   1.0  6.9   3.76   1.76    0.9490  (high!)\n",
      "    petal width:    0.1  2.5   1.20  0.76     0.9565  (high!)\n",
      "    ============== ==== ==== ======= ===== ====================\n",
      "\n",
      "    :Missing Attribute Values: None\n",
      "    :Class Distribution: 33.3% for each of 3 classes.\n",
      "    :Creator: R.A. Fisher\n",
      "    :Donor: Michael Marshall (MARSHALL%PLU@io.arc.nasa.gov)\n",
      "    :Date: July, 1988\n",
      "\n",
      "This is a copy of UCI ML iris datasets.\n",
      "http://archive.ics.uci.edu/ml/datasets/Iris\n",
      "\n",
      "The famous Iris database, first used by Sir R.A Fisher\n",
      "\n",
      "This is perhaps the best known database to be found in the\n",
      "pattern recognition literature.  Fisher's paper is a classic in the field and\n",
      "is referenced frequently to this day.  (See Duda & Hart, for example.)  The\n",
      "data set contains 3 classes of 50 instances each, where each class refers to a\n",
      "type of iris plant.  One class is linearly separable from the other 2; the\n",
      "latter are NOT linearly separable from each other.\n",
      "\n",
      "References\n",
      "----------\n",
      "   - Fisher,R.A. \"The use of multiple measurements in taxonomic problems\"\n",
      "     Annual Eugenics, 7, Part II, 179-188 (1936); also in \"Contributions to\n",
      "     Mathematical Statistics\" (John Wiley, NY, 1950).\n",
      "   - Duda,R.O., & Hart,P.E. (1973) Pattern Classification and Scene Analysis.\n",
      "     (Q327.D83) John Wiley & Sons.  ISBN 0-471-22361-1.  See page 218.\n",
      "   - Dasarathy, B.V. (1980) \"Nosing Around the Neighborhood: A New System\n",
      "     Structure and Classification Rule for Recognition in Partially Exposed\n",
      "     Environments\".  IEEE Transactions on Pattern Analysis and Machine\n",
      "     Intelligence, Vol. PAMI-2, No. 1, 67-71.\n",
      "   - Gates, G.W. (1972) \"The Reduced Nearest Neighbor Rule\".  IEEE Transactions\n",
      "     on Information Theory, May 1972, 431-433.\n",
      "   - See also: 1988 MLC Proceedings, 54-64.  Cheeseman et al\"s AUTOCLASS II\n",
      "     conceptual clustering system finds 3 classes in the data.\n",
      "   - Many, many more ...\n",
      "\n"
     ]
    }
   ],
   "source": [
    "print(iris.DESCR)"
   ]
  },
  {
   "cell_type": "code",
   "execution_count": 29,
   "metadata": {},
   "outputs": [
    {
     "name": "stdout",
     "output_type": "stream",
     "text": [
      "<class 'numpy.ndarray'>\n",
      "(150, 4)\n",
      "[[5.1 3.5 1.4 0.2]\n",
      " [4.9 3.  1.4 0.2]\n",
      " [4.7 3.2 1.3 0.2]\n",
      " [4.6 3.1 1.5 0.2]\n",
      " [5.  3.6 1.4 0.2]]\n"
     ]
    }
   ],
   "source": [
    "print(type(iris.data))\n",
    "print(iris.data.shape)\n",
    "print(iris.data[:5, :])"
   ]
  },
  {
   "cell_type": "code",
   "execution_count": 26,
   "metadata": {},
   "outputs": [
    {
     "name": "stdout",
     "output_type": "stream",
     "text": [
      "<class 'list'>\n",
      "4\n",
      "['sepal length (cm)', 'sepal width (cm)', 'petal length (cm)', 'petal width (cm)']\n"
     ]
    }
   ],
   "source": [
    "print(type(iris.feature_names))\n",
    "print(len(iris.feature_names))\n",
    "print(iris.feature_names)"
   ]
  },
  {
   "cell_type": "code",
   "execution_count": 24,
   "metadata": {},
   "outputs": [
    {
     "name": "stdout",
     "output_type": "stream",
     "text": [
      "<class 'numpy.ndarray'>\n",
      "(150,)\n",
      "[0 0 0 0 0 0 0 0 0 0 0 0 0 0 0 0 0 0 0 0 0 0 0 0 0 0 0 0 0 0 0 0 0 0 0 0 0\n",
      " 0 0 0 0 0 0 0 0 0 0 0 0 0 1 1 1 1 1 1 1 1 1 1 1 1 1 1 1 1 1 1 1 1 1 1 1 1\n",
      " 1 1 1 1 1 1 1 1 1 1 1 1 1 1 1 1 1 1 1 1 1 1 1 1 1 1 2 2 2 2 2 2 2 2 2 2 2\n",
      " 2 2 2 2 2 2 2 2 2 2 2 2 2 2 2 2 2 2 2 2 2 2 2 2 2 2 2 2 2 2 2 2 2 2 2 2 2\n",
      " 2 2]\n"
     ]
    }
   ],
   "source": [
    "print(type(iris.target))\n",
    "print(iris.target.shape)\n",
    "print(iris.target)"
   ]
  },
  {
   "cell_type": "code",
   "execution_count": 17,
   "metadata": {},
   "outputs": [
    {
     "name": "stdout",
     "output_type": "stream",
     "text": [
      "<class 'numpy.ndarray'>\n",
      "(3,)\n",
      "['setosa' 'versicolor' 'virginica']\n"
     ]
    }
   ],
   "source": [
    "print(type(iris.target_names))\n",
    "print(iris.target_names.shape)\n",
    "print(iris.target_names)"
   ]
  },
  {
   "cell_type": "code",
   "execution_count": 32,
   "metadata": {},
   "outputs": [],
   "source": [
    "X_train, X_test, y_train, y_test = train_test_split(iris.data, iris.target, test_size = 0.3, random_state = 12)"
   ]
  },
  {
   "cell_type": "code",
   "execution_count": 30,
   "metadata": {},
   "outputs": [],
   "source": [
    "clf = svm.SVC()"
   ]
  },
  {
   "cell_type": "code",
   "execution_count": 33,
   "metadata": {},
   "outputs": [
    {
     "data": {
      "text/plain": [
       "SVC(C=1.0, cache_size=200, class_weight=None, coef0=0.0,\n",
       "  decision_function_shape='ovr', degree=3, gamma='auto', kernel='rbf',\n",
       "  max_iter=-1, probability=False, random_state=None, shrinking=True,\n",
       "  tol=0.001, verbose=False)"
      ]
     },
     "execution_count": 33,
     "metadata": {},
     "output_type": "execute_result"
    }
   ],
   "source": [
    "clf.fit(X_train, y_train)"
   ]
  },
  {
   "cell_type": "code",
   "execution_count": 34,
   "metadata": {},
   "outputs": [
    {
     "data": {
      "text/plain": [
       "0.9777777777777777"
      ]
     },
     "execution_count": 34,
     "metadata": {},
     "output_type": "execute_result"
    }
   ],
   "source": [
    "clf.score(X_test, y_test)"
   ]
  },
  {
   "cell_type": "code",
   "execution_count": 37,
   "metadata": {},
   "outputs": [],
   "source": [
    "scores = cross_val_score(clf, iris.data, iris.target, cv=10)"
   ]
  },
  {
   "cell_type": "code",
   "execution_count": 39,
   "metadata": {},
   "outputs": [
    {
     "name": "stdout",
     "output_type": "stream",
     "text": [
      "[1.         0.93333333 1.         1.         1.         0.93333333\n",
      " 0.93333333 1.         1.         1.        ]\n",
      "0.9800000000000001\n",
      "0.030550504633038926\n"
     ]
    }
   ],
   "source": [
    "print(scores)\n",
    "print(scores.mean())\n",
    "print(scores.std())"
   ]
  },
  {
   "cell_type": "code",
   "execution_count": 44,
   "metadata": {},
   "outputs": [
    {
     "data": {
      "text/plain": [
       "0.9777777777777777"
      ]
     },
     "execution_count": 44,
     "metadata": {},
     "output_type": "execute_result"
    }
   ],
   "source": [
    "clf.score(X_test, y_test)"
   ]
  },
  {
   "cell_type": "code",
   "execution_count": 41,
   "metadata": {},
   "outputs": [],
   "source": [
    "import pandas as pd"
   ]
  },
  {
   "cell_type": "code",
   "execution_count": 42,
   "metadata": {},
   "outputs": [],
   "source": [
    "df = pd.read_csv('working_data/Neurite_Total_Length_Input.csv')"
   ]
  },
  {
   "cell_type": "code",
   "execution_count": 43,
   "metadata": {},
   "outputs": [
    {
     "data": {
      "text/html": [
       "<div>\n",
       "<style scoped>\n",
       "    .dataframe tbody tr th:only-of-type {\n",
       "        vertical-align: middle;\n",
       "    }\n",
       "\n",
       "    .dataframe tbody tr th {\n",
       "        vertical-align: top;\n",
       "    }\n",
       "\n",
       "    .dataframe thead th {\n",
       "        text-align: right;\n",
       "    }\n",
       "</style>\n",
       "<table border=\"1\" class=\"dataframe\">\n",
       "  <thead>\n",
       "    <tr style=\"text-align: right;\">\n",
       "      <th></th>\n",
       "      <th>Compound Name</th>\n",
       "      <th>Stratified screen category (1=hit, 0=non-hit)</th>\n",
       "      <th>ABL1</th>\n",
       "      <th>ABL2</th>\n",
       "      <th>AKT1</th>\n",
       "      <th>AKT2</th>\n",
       "      <th>AKT3</th>\n",
       "      <th>ALK</th>\n",
       "      <th>AURKA</th>\n",
       "      <th>AURKB</th>\n",
       "      <th>...</th>\n",
       "      <th>TEK</th>\n",
       "      <th>TNK2</th>\n",
       "      <th>TSSK1B</th>\n",
       "      <th>TSSK2</th>\n",
       "      <th>TTK</th>\n",
       "      <th>TXK</th>\n",
       "      <th>TYK2</th>\n",
       "      <th>TYRO3</th>\n",
       "      <th>YES1</th>\n",
       "      <th>ZAP70</th>\n",
       "    </tr>\n",
       "  </thead>\n",
       "  <tbody>\n",
       "    <tr>\n",
       "      <th>0</th>\n",
       "      <td>ASP3026</td>\n",
       "      <td>1</td>\n",
       "      <td>22.025</td>\n",
       "      <td>15.450</td>\n",
       "      <td>0.000</td>\n",
       "      <td>0.990</td>\n",
       "      <td>2.985</td>\n",
       "      <td>92.700</td>\n",
       "      <td>7.445</td>\n",
       "      <td>0.175</td>\n",
       "      <td>...</td>\n",
       "      <td>3.555</td>\n",
       "      <td>88.590</td>\n",
       "      <td>32.070</td>\n",
       "      <td>6.055</td>\n",
       "      <td>1.210</td>\n",
       "      <td>3.300</td>\n",
       "      <td>0.000</td>\n",
       "      <td>0.165</td>\n",
       "      <td>62.310</td>\n",
       "      <td>0.0</td>\n",
       "    </tr>\n",
       "    <tr>\n",
       "      <th>1</th>\n",
       "      <td>Bafetinib</td>\n",
       "      <td>1</td>\n",
       "      <td>94.970</td>\n",
       "      <td>91.785</td>\n",
       "      <td>0.000</td>\n",
       "      <td>0.000</td>\n",
       "      <td>2.115</td>\n",
       "      <td>1.945</td>\n",
       "      <td>0.000</td>\n",
       "      <td>1.280</td>\n",
       "      <td>...</td>\n",
       "      <td>1.175</td>\n",
       "      <td>0.000</td>\n",
       "      <td>10.880</td>\n",
       "      <td>2.240</td>\n",
       "      <td>0.000</td>\n",
       "      <td>6.445</td>\n",
       "      <td>0.000</td>\n",
       "      <td>0.000</td>\n",
       "      <td>39.890</td>\n",
       "      <td>0.0</td>\n",
       "    </tr>\n",
       "    <tr>\n",
       "      <th>2</th>\n",
       "      <td>Bisindolylmaleimide I</td>\n",
       "      <td>1</td>\n",
       "      <td>0.000</td>\n",
       "      <td>0.000</td>\n",
       "      <td>0.000</td>\n",
       "      <td>1.080</td>\n",
       "      <td>12.670</td>\n",
       "      <td>2.790</td>\n",
       "      <td>0.000</td>\n",
       "      <td>3.790</td>\n",
       "      <td>...</td>\n",
       "      <td>0.300</td>\n",
       "      <td>0.000</td>\n",
       "      <td>1.855</td>\n",
       "      <td>0.000</td>\n",
       "      <td>0.000</td>\n",
       "      <td>0.000</td>\n",
       "      <td>5.605</td>\n",
       "      <td>5.685</td>\n",
       "      <td>3.090</td>\n",
       "      <td>0.0</td>\n",
       "    </tr>\n",
       "    <tr>\n",
       "      <th>3</th>\n",
       "      <td>EMD1214063</td>\n",
       "      <td>1</td>\n",
       "      <td>0.000</td>\n",
       "      <td>0.000</td>\n",
       "      <td>1.925</td>\n",
       "      <td>2.565</td>\n",
       "      <td>0.000</td>\n",
       "      <td>3.255</td>\n",
       "      <td>0.000</td>\n",
       "      <td>5.020</td>\n",
       "      <td>...</td>\n",
       "      <td>0.000</td>\n",
       "      <td>0.000</td>\n",
       "      <td>0.000</td>\n",
       "      <td>1.200</td>\n",
       "      <td>0.000</td>\n",
       "      <td>2.455</td>\n",
       "      <td>2.470</td>\n",
       "      <td>6.325</td>\n",
       "      <td>2.795</td>\n",
       "      <td>0.0</td>\n",
       "    </tr>\n",
       "    <tr>\n",
       "      <th>4</th>\n",
       "      <td>Flt-3 Inhibitor III</td>\n",
       "      <td>1</td>\n",
       "      <td>36.300</td>\n",
       "      <td>15.345</td>\n",
       "      <td>0.000</td>\n",
       "      <td>1.320</td>\n",
       "      <td>0.000</td>\n",
       "      <td>1.670</td>\n",
       "      <td>0.000</td>\n",
       "      <td>8.850</td>\n",
       "      <td>...</td>\n",
       "      <td>1.800</td>\n",
       "      <td>1.675</td>\n",
       "      <td>0.000</td>\n",
       "      <td>0.720</td>\n",
       "      <td>3.485</td>\n",
       "      <td>1.000</td>\n",
       "      <td>5.855</td>\n",
       "      <td>7.795</td>\n",
       "      <td>19.750</td>\n",
       "      <td>0.0</td>\n",
       "    </tr>\n",
       "  </tbody>\n",
       "</table>\n",
       "<p>5 rows × 192 columns</p>\n",
       "</div>"
      ],
      "text/plain": [
       "           Compound Name  Stratified screen category (1=hit, 0=non-hit)  \\\n",
       "0                ASP3026                                              1   \n",
       "1              Bafetinib                                              1   \n",
       "2  Bisindolylmaleimide I                                              1   \n",
       "3             EMD1214063                                              1   \n",
       "4    Flt-3 Inhibitor III                                              1   \n",
       "\n",
       "     ABL1    ABL2   AKT1   AKT2    AKT3     ALK  AURKA  AURKB  ...      TEK  \\\n",
       "0  22.025  15.450  0.000  0.990   2.985  92.700  7.445  0.175  ...    3.555   \n",
       "1  94.970  91.785  0.000  0.000   2.115   1.945  0.000  1.280  ...    1.175   \n",
       "2   0.000   0.000  0.000  1.080  12.670   2.790  0.000  3.790  ...    0.300   \n",
       "3   0.000   0.000  1.925  2.565   0.000   3.255  0.000  5.020  ...    0.000   \n",
       "4  36.300  15.345  0.000  1.320   0.000   1.670  0.000  8.850  ...    1.800   \n",
       "\n",
       "     TNK2  TSSK1B  TSSK2    TTK    TXK   TYK2  TYRO3    YES1  ZAP70  \n",
       "0  88.590  32.070  6.055  1.210  3.300  0.000  0.165  62.310    0.0  \n",
       "1   0.000  10.880  2.240  0.000  6.445  0.000  0.000  39.890    0.0  \n",
       "2   0.000   1.855  0.000  0.000  0.000  5.605  5.685   3.090    0.0  \n",
       "3   0.000   0.000  1.200  0.000  2.455  2.470  6.325   2.795    0.0  \n",
       "4   1.675   0.000  0.720  3.485  1.000  5.855  7.795  19.750    0.0  \n",
       "\n",
       "[5 rows x 192 columns]"
      ]
     },
     "execution_count": 43,
     "metadata": {},
     "output_type": "execute_result"
    }
   ],
   "source": [
    "df.head()"
   ]
  },
  {
   "cell_type": "code",
   "execution_count": 50,
   "metadata": {},
   "outputs": [
    {
     "name": "stdout",
     "output_type": "stream",
     "text": [
      "<class 'pandas.core.series.Series'>\n"
     ]
    }
   ],
   "source": [
    "target = df['Stratified screen category (1=hit, 0=non-hit)']\n",
    "print(type(target))\n",
    "target.to_csv('working_data/target.csv', sep=',', index=False)"
   ]
  },
  {
   "cell_type": "code",
   "execution_count": 53,
   "metadata": {},
   "outputs": [],
   "source": [
    "test = np.loadtxt('working_data/target.csv', delimiter=',', dtype=np.int8)"
   ]
  },
  {
   "cell_type": "code",
   "execution_count": 54,
   "metadata": {},
   "outputs": [
    {
     "data": {
      "text/plain": [
       "array([1, 1, 1, 1, 1, 1, 1, 1, 1, 1, 1, 1, 1, 1, 1, 1, 1, 1, 1, 1, 1, 1,\n",
       "       1, 1, 1, 1, 1, 1, 1, 1, 1, 1, 1, 1, 1, 1, 1, 1, 1, 1, 1, 1, 1, 1,\n",
       "       1, 1, 1, 1, 1, 1, 1, 1, 1, 1, 1, 1, 1, 1, 1, 1, 1, 1, 1, 1, 1, 1,\n",
       "       1, 1, 1, 1, 1, 1, 0, 0, 0, 0, 0, 0, 0, 0, 0, 0, 0, 0, 0, 0, 0, 0,\n",
       "       0, 0, 0, 0, 0, 0, 0, 0, 0, 0, 0, 0, 0, 0, 0, 0, 0, 0, 0, 0, 0, 0,\n",
       "       0, 0, 0, 0, 0, 0, 0, 0, 0, 0, 0, 0, 0, 0, 0, 0, 0, 0, 0, 0, 0, 0,\n",
       "       0, 0, 0, 0, 0, 0, 0, 0, 0, 0, 0, 0, 0, 0, 0, 0, 0, 0, 0, 0, 0, 0,\n",
       "       0, 0, 0, 0, 0, 0, 0, 0, 0, 0, 0, 0, 0, 0, 0, 0, 0, 0, 0, 0, 0, 0,\n",
       "       0, 0, 0, 0, 0, 0, 0, 0, 0, 0, 0, 0, 0, 0, 0, 0, 0, 0, 0, 0, 0, 0,\n",
       "       0, 0, 0, 0, 0, 0, 0, 0, 0, 0, 0, 0, 0, 0, 0, 0, 0, 0, 0, 0, 0, 0,\n",
       "       0, 0, 0, 0, 0, 0, 0, 0, 0, 0, 0, 0, 0, 0, 0, 0, 0, 0, 0, 0, 0, 0,\n",
       "       0, 0, 0, 0, 0, 0, 0, 0, 0, 0, 0, 0, 0, 0], dtype=int8)"
      ]
     },
     "execution_count": 54,
     "metadata": {},
     "output_type": "execute_result"
    }
   ],
   "source": [
    "test"
   ]
  },
  {
   "cell_type": "code",
   "execution_count": 57,
   "metadata": {},
   "outputs": [],
   "source": [
    "df.drop(['Compound Name', 'Stratified screen category (1=hit, 0=non-hit)'],\n",
    "        axis=1, inplace=True)"
   ]
  },
  {
   "cell_type": "code",
   "execution_count": 58,
   "metadata": {},
   "outputs": [
    {
     "data": {
      "text/html": [
       "<div>\n",
       "<style scoped>\n",
       "    .dataframe tbody tr th:only-of-type {\n",
       "        vertical-align: middle;\n",
       "    }\n",
       "\n",
       "    .dataframe tbody tr th {\n",
       "        vertical-align: top;\n",
       "    }\n",
       "\n",
       "    .dataframe thead th {\n",
       "        text-align: right;\n",
       "    }\n",
       "</style>\n",
       "<table border=\"1\" class=\"dataframe\">\n",
       "  <thead>\n",
       "    <tr style=\"text-align: right;\">\n",
       "      <th></th>\n",
       "      <th>ABL1</th>\n",
       "      <th>ABL2</th>\n",
       "      <th>AKT1</th>\n",
       "      <th>AKT2</th>\n",
       "      <th>AKT3</th>\n",
       "      <th>ALK</th>\n",
       "      <th>AURKA</th>\n",
       "      <th>AURKB</th>\n",
       "      <th>AURKC</th>\n",
       "      <th>AXL</th>\n",
       "      <th>...</th>\n",
       "      <th>TEK</th>\n",
       "      <th>TNK2</th>\n",
       "      <th>TSSK1B</th>\n",
       "      <th>TSSK2</th>\n",
       "      <th>TTK</th>\n",
       "      <th>TXK</th>\n",
       "      <th>TYK2</th>\n",
       "      <th>TYRO3</th>\n",
       "      <th>YES1</th>\n",
       "      <th>ZAP70</th>\n",
       "    </tr>\n",
       "  </thead>\n",
       "  <tbody>\n",
       "    <tr>\n",
       "      <th>0</th>\n",
       "      <td>22.025</td>\n",
       "      <td>15.450</td>\n",
       "      <td>0.000</td>\n",
       "      <td>0.990</td>\n",
       "      <td>2.985</td>\n",
       "      <td>92.700</td>\n",
       "      <td>7.445</td>\n",
       "      <td>0.175</td>\n",
       "      <td>0.0</td>\n",
       "      <td>4.685</td>\n",
       "      <td>...</td>\n",
       "      <td>3.555</td>\n",
       "      <td>88.590</td>\n",
       "      <td>32.070</td>\n",
       "      <td>6.055</td>\n",
       "      <td>1.210</td>\n",
       "      <td>3.300</td>\n",
       "      <td>0.000</td>\n",
       "      <td>0.165</td>\n",
       "      <td>62.310</td>\n",
       "      <td>0.0</td>\n",
       "    </tr>\n",
       "    <tr>\n",
       "      <th>1</th>\n",
       "      <td>94.970</td>\n",
       "      <td>91.785</td>\n",
       "      <td>0.000</td>\n",
       "      <td>0.000</td>\n",
       "      <td>2.115</td>\n",
       "      <td>1.945</td>\n",
       "      <td>0.000</td>\n",
       "      <td>1.280</td>\n",
       "      <td>0.0</td>\n",
       "      <td>0.000</td>\n",
       "      <td>...</td>\n",
       "      <td>1.175</td>\n",
       "      <td>0.000</td>\n",
       "      <td>10.880</td>\n",
       "      <td>2.240</td>\n",
       "      <td>0.000</td>\n",
       "      <td>6.445</td>\n",
       "      <td>0.000</td>\n",
       "      <td>0.000</td>\n",
       "      <td>39.890</td>\n",
       "      <td>0.0</td>\n",
       "    </tr>\n",
       "    <tr>\n",
       "      <th>2</th>\n",
       "      <td>0.000</td>\n",
       "      <td>0.000</td>\n",
       "      <td>0.000</td>\n",
       "      <td>1.080</td>\n",
       "      <td>12.670</td>\n",
       "      <td>2.790</td>\n",
       "      <td>0.000</td>\n",
       "      <td>3.790</td>\n",
       "      <td>0.0</td>\n",
       "      <td>0.000</td>\n",
       "      <td>...</td>\n",
       "      <td>0.300</td>\n",
       "      <td>0.000</td>\n",
       "      <td>1.855</td>\n",
       "      <td>0.000</td>\n",
       "      <td>0.000</td>\n",
       "      <td>0.000</td>\n",
       "      <td>5.605</td>\n",
       "      <td>5.685</td>\n",
       "      <td>3.090</td>\n",
       "      <td>0.0</td>\n",
       "    </tr>\n",
       "    <tr>\n",
       "      <th>3</th>\n",
       "      <td>0.000</td>\n",
       "      <td>0.000</td>\n",
       "      <td>1.925</td>\n",
       "      <td>2.565</td>\n",
       "      <td>0.000</td>\n",
       "      <td>3.255</td>\n",
       "      <td>0.000</td>\n",
       "      <td>5.020</td>\n",
       "      <td>0.0</td>\n",
       "      <td>16.875</td>\n",
       "      <td>...</td>\n",
       "      <td>0.000</td>\n",
       "      <td>0.000</td>\n",
       "      <td>0.000</td>\n",
       "      <td>1.200</td>\n",
       "      <td>0.000</td>\n",
       "      <td>2.455</td>\n",
       "      <td>2.470</td>\n",
       "      <td>6.325</td>\n",
       "      <td>2.795</td>\n",
       "      <td>0.0</td>\n",
       "    </tr>\n",
       "    <tr>\n",
       "      <th>4</th>\n",
       "      <td>36.300</td>\n",
       "      <td>15.345</td>\n",
       "      <td>0.000</td>\n",
       "      <td>1.320</td>\n",
       "      <td>0.000</td>\n",
       "      <td>1.670</td>\n",
       "      <td>0.000</td>\n",
       "      <td>8.850</td>\n",
       "      <td>0.0</td>\n",
       "      <td>2.150</td>\n",
       "      <td>...</td>\n",
       "      <td>1.800</td>\n",
       "      <td>1.675</td>\n",
       "      <td>0.000</td>\n",
       "      <td>0.720</td>\n",
       "      <td>3.485</td>\n",
       "      <td>1.000</td>\n",
       "      <td>5.855</td>\n",
       "      <td>7.795</td>\n",
       "      <td>19.750</td>\n",
       "      <td>0.0</td>\n",
       "    </tr>\n",
       "  </tbody>\n",
       "</table>\n",
       "<p>5 rows × 190 columns</p>\n",
       "</div>"
      ],
      "text/plain": [
       "     ABL1    ABL2   AKT1   AKT2    AKT3     ALK  AURKA  AURKB  AURKC     AXL  \\\n",
       "0  22.025  15.450  0.000  0.990   2.985  92.700  7.445  0.175    0.0   4.685   \n",
       "1  94.970  91.785  0.000  0.000   2.115   1.945  0.000  1.280    0.0   0.000   \n",
       "2   0.000   0.000  0.000  1.080  12.670   2.790  0.000  3.790    0.0   0.000   \n",
       "3   0.000   0.000  1.925  2.565   0.000   3.255  0.000  5.020    0.0  16.875   \n",
       "4  36.300  15.345  0.000  1.320   0.000   1.670  0.000  8.850    0.0   2.150   \n",
       "\n",
       "   ...      TEK    TNK2  TSSK1B  TSSK2    TTK    TXK   TYK2  TYRO3    YES1  \\\n",
       "0  ...    3.555  88.590  32.070  6.055  1.210  3.300  0.000  0.165  62.310   \n",
       "1  ...    1.175   0.000  10.880  2.240  0.000  6.445  0.000  0.000  39.890   \n",
       "2  ...    0.300   0.000   1.855  0.000  0.000  0.000  5.605  5.685   3.090   \n",
       "3  ...    0.000   0.000   0.000  1.200  0.000  2.455  2.470  6.325   2.795   \n",
       "4  ...    1.800   1.675   0.000  0.720  3.485  1.000  5.855  7.795  19.750   \n",
       "\n",
       "   ZAP70  \n",
       "0    0.0  \n",
       "1    0.0  \n",
       "2    0.0  \n",
       "3    0.0  \n",
       "4    0.0  \n",
       "\n",
       "[5 rows x 190 columns]"
      ]
     },
     "execution_count": 58,
     "metadata": {},
     "output_type": "execute_result"
    }
   ],
   "source": [
    "df.head()"
   ]
  },
  {
   "cell_type": "code",
   "execution_count": 62,
   "metadata": {},
   "outputs": [],
   "source": [
    "mylist = list(df.columns)\n",
    "import csv\n",
    "\n",
    "with open('feature_names.csv', 'w') as myfile:\n",
    "    wr = csv.writer(myfile)\n",
    "    wr.writerow(mylist)"
   ]
  },
  {
   "cell_type": "code",
   "execution_count": 63,
   "metadata": {},
   "outputs": [],
   "source": [
    "target_names = np.loadtxt('feature_names.csv', dtype=str, delimiter=',')"
   ]
  },
  {
   "cell_type": "code",
   "execution_count": 64,
   "metadata": {},
   "outputs": [
    {
     "data": {
      "text/plain": [
       "array(['ABL1', 'ABL2', 'AKT1', 'AKT2', 'AKT3', 'ALK', 'AURKA', 'AURKB',\n",
       "       'AURKC', 'AXL', 'BLK', 'BMX', 'BRAF', 'BRSK1', 'BRSK2', 'BTK',\n",
       "       'CAMK1D', 'CAMK2A', 'CAMK2D', 'CAMK4', 'CDC42BPA', 'CDC42BPB',\n",
       "       'CDK1', 'CDK2', 'CDK3', 'CDK4', 'CDK5', 'CDK6', 'CHEK1', 'CHEK2',\n",
       "       'CHUK', 'CLK2', 'CLK3', 'CSF1R', 'CSK', 'CSNK1A1', 'CSNK1G1',\n",
       "       'CSNK1G2', 'CSNK1G3', 'DAPK1', 'DCLK2', 'DDR2', 'DYRK1A', 'DYRK1B',\n",
       "       'DYRK2', 'EGFR', 'EPHA2', 'EPHA3', 'EPHA4', 'EPHB2', 'EPHB3',\n",
       "       'EPHB4', 'ERBB2', 'ERBB4', 'FER', 'FES', 'FGFR1', 'FGFR2', 'FGFR3',\n",
       "       'FGFR4', 'FGR', 'FLT1', 'FLT3', 'FLT4', 'FRK', 'FYN', 'GRK6',\n",
       "       'GSK3A', 'GSK3B', 'HCK', 'HIPK1', 'IGF1R', 'IKBKB', 'IKBKE',\n",
       "       'INSR', 'INSRR', 'IRAK4', 'ITK', 'JAK1', 'JAK2', 'JAK3', 'KDR',\n",
       "       'KIT', 'LCK', 'LRRK2', 'LTK', 'LYN', 'MAP2K1', 'MAP4K2', 'MAP4K4',\n",
       "       'MAPK1', 'MAPK11', 'MAPK12', 'MAPK13', 'MAPK14', 'MAPK3', 'MAPK9',\n",
       "       'MAPKAPK2', 'MAPKAPK3', 'MAPKAPK5', 'MARK1', 'MARK2', 'MARK3',\n",
       "       'MARK4', 'MELK', 'MERTK', 'MET', 'MINK1', 'MKNK1', 'MKNK2',\n",
       "       'MST1R', 'MST4', 'MUSK', 'NEK1', 'NEK2', 'NEK6', 'NEK7', 'NEK9',\n",
       "       'NTRK1', 'NTRK2', 'NTRK3', 'NUAK1', 'PAK1', 'PAK2', 'PAK3', 'PAK6',\n",
       "       'PAK7', 'PASK', 'PDGFRA', 'PDGFRB', 'PDPK1', 'PHKG1', 'PHKG2',\n",
       "       'PI4KB', 'PIK3CA', 'PIK3CD', 'PIM1', 'PIM2', 'PIM3', 'PLK1',\n",
       "       'PRKAA2', 'PRKACA', 'PRKCA', 'PRKCB', 'PRKCG', 'PRKD1', 'PRKD2',\n",
       "       'PRKD3', 'PRKG1', 'PRKG2', 'PRKX', 'PTK2B', 'PTK6', 'RAF1', 'RET',\n",
       "       'ROCK1', 'ROCK2', 'ROS1', 'RPS6KA1', 'RPS6KA2', 'RPS6KA3',\n",
       "       'RPS6KA4', 'RPS6KA5', 'RPS6KA6', 'RPS6KB1', 'SGK1', 'SGK2', 'SGK3',\n",
       "       'SIK1', 'SIK2', 'SRC', 'SRMS', 'SRPK1', 'SRPK3', 'STK10', 'STK3',\n",
       "       'STK4', 'SYK', 'TBK1', 'TEC', 'TEK', 'TNK2', 'TSSK1B', 'TSSK2',\n",
       "       'TTK', 'TXK', 'TYK2', 'TYRO3', 'YES1', 'ZAP70'], dtype='<U8')"
      ]
     },
     "execution_count": 64,
     "metadata": {},
     "output_type": "execute_result"
    }
   ],
   "source": [
    "target_names"
   ]
  },
  {
   "cell_type": "code",
   "execution_count": 66,
   "metadata": {},
   "outputs": [
    {
     "data": {
      "text/html": [
       "<div>\n",
       "<style scoped>\n",
       "    .dataframe tbody tr th:only-of-type {\n",
       "        vertical-align: middle;\n",
       "    }\n",
       "\n",
       "    .dataframe tbody tr th {\n",
       "        vertical-align: top;\n",
       "    }\n",
       "\n",
       "    .dataframe thead th {\n",
       "        text-align: right;\n",
       "    }\n",
       "</style>\n",
       "<table border=\"1\" class=\"dataframe\">\n",
       "  <thead>\n",
       "    <tr style=\"text-align: right;\">\n",
       "      <th></th>\n",
       "      <th>ABL1</th>\n",
       "      <th>ABL2</th>\n",
       "      <th>AKT1</th>\n",
       "      <th>AKT2</th>\n",
       "      <th>AKT3</th>\n",
       "      <th>ALK</th>\n",
       "      <th>AURKA</th>\n",
       "      <th>AURKB</th>\n",
       "      <th>AURKC</th>\n",
       "      <th>AXL</th>\n",
       "      <th>...</th>\n",
       "      <th>TEK</th>\n",
       "      <th>TNK2</th>\n",
       "      <th>TSSK1B</th>\n",
       "      <th>TSSK2</th>\n",
       "      <th>TTK</th>\n",
       "      <th>TXK</th>\n",
       "      <th>TYK2</th>\n",
       "      <th>TYRO3</th>\n",
       "      <th>YES1</th>\n",
       "      <th>ZAP70</th>\n",
       "    </tr>\n",
       "  </thead>\n",
       "  <tbody>\n",
       "    <tr>\n",
       "      <th>0</th>\n",
       "      <td>22.025</td>\n",
       "      <td>15.450</td>\n",
       "      <td>0.000</td>\n",
       "      <td>0.990</td>\n",
       "      <td>2.985</td>\n",
       "      <td>92.700</td>\n",
       "      <td>7.445</td>\n",
       "      <td>0.175</td>\n",
       "      <td>0.0</td>\n",
       "      <td>4.685</td>\n",
       "      <td>...</td>\n",
       "      <td>3.555</td>\n",
       "      <td>88.590</td>\n",
       "      <td>32.070</td>\n",
       "      <td>6.055</td>\n",
       "      <td>1.210</td>\n",
       "      <td>3.300</td>\n",
       "      <td>0.000</td>\n",
       "      <td>0.165</td>\n",
       "      <td>62.310</td>\n",
       "      <td>0.0</td>\n",
       "    </tr>\n",
       "    <tr>\n",
       "      <th>1</th>\n",
       "      <td>94.970</td>\n",
       "      <td>91.785</td>\n",
       "      <td>0.000</td>\n",
       "      <td>0.000</td>\n",
       "      <td>2.115</td>\n",
       "      <td>1.945</td>\n",
       "      <td>0.000</td>\n",
       "      <td>1.280</td>\n",
       "      <td>0.0</td>\n",
       "      <td>0.000</td>\n",
       "      <td>...</td>\n",
       "      <td>1.175</td>\n",
       "      <td>0.000</td>\n",
       "      <td>10.880</td>\n",
       "      <td>2.240</td>\n",
       "      <td>0.000</td>\n",
       "      <td>6.445</td>\n",
       "      <td>0.000</td>\n",
       "      <td>0.000</td>\n",
       "      <td>39.890</td>\n",
       "      <td>0.0</td>\n",
       "    </tr>\n",
       "    <tr>\n",
       "      <th>2</th>\n",
       "      <td>0.000</td>\n",
       "      <td>0.000</td>\n",
       "      <td>0.000</td>\n",
       "      <td>1.080</td>\n",
       "      <td>12.670</td>\n",
       "      <td>2.790</td>\n",
       "      <td>0.000</td>\n",
       "      <td>3.790</td>\n",
       "      <td>0.0</td>\n",
       "      <td>0.000</td>\n",
       "      <td>...</td>\n",
       "      <td>0.300</td>\n",
       "      <td>0.000</td>\n",
       "      <td>1.855</td>\n",
       "      <td>0.000</td>\n",
       "      <td>0.000</td>\n",
       "      <td>0.000</td>\n",
       "      <td>5.605</td>\n",
       "      <td>5.685</td>\n",
       "      <td>3.090</td>\n",
       "      <td>0.0</td>\n",
       "    </tr>\n",
       "    <tr>\n",
       "      <th>3</th>\n",
       "      <td>0.000</td>\n",
       "      <td>0.000</td>\n",
       "      <td>1.925</td>\n",
       "      <td>2.565</td>\n",
       "      <td>0.000</td>\n",
       "      <td>3.255</td>\n",
       "      <td>0.000</td>\n",
       "      <td>5.020</td>\n",
       "      <td>0.0</td>\n",
       "      <td>16.875</td>\n",
       "      <td>...</td>\n",
       "      <td>0.000</td>\n",
       "      <td>0.000</td>\n",
       "      <td>0.000</td>\n",
       "      <td>1.200</td>\n",
       "      <td>0.000</td>\n",
       "      <td>2.455</td>\n",
       "      <td>2.470</td>\n",
       "      <td>6.325</td>\n",
       "      <td>2.795</td>\n",
       "      <td>0.0</td>\n",
       "    </tr>\n",
       "    <tr>\n",
       "      <th>4</th>\n",
       "      <td>36.300</td>\n",
       "      <td>15.345</td>\n",
       "      <td>0.000</td>\n",
       "      <td>1.320</td>\n",
       "      <td>0.000</td>\n",
       "      <td>1.670</td>\n",
       "      <td>0.000</td>\n",
       "      <td>8.850</td>\n",
       "      <td>0.0</td>\n",
       "      <td>2.150</td>\n",
       "      <td>...</td>\n",
       "      <td>1.800</td>\n",
       "      <td>1.675</td>\n",
       "      <td>0.000</td>\n",
       "      <td>0.720</td>\n",
       "      <td>3.485</td>\n",
       "      <td>1.000</td>\n",
       "      <td>5.855</td>\n",
       "      <td>7.795</td>\n",
       "      <td>19.750</td>\n",
       "      <td>0.0</td>\n",
       "    </tr>\n",
       "  </tbody>\n",
       "</table>\n",
       "<p>5 rows × 190 columns</p>\n",
       "</div>"
      ],
      "text/plain": [
       "     ABL1    ABL2   AKT1   AKT2    AKT3     ALK  AURKA  AURKB  AURKC     AXL  \\\n",
       "0  22.025  15.450  0.000  0.990   2.985  92.700  7.445  0.175    0.0   4.685   \n",
       "1  94.970  91.785  0.000  0.000   2.115   1.945  0.000  1.280    0.0   0.000   \n",
       "2   0.000   0.000  0.000  1.080  12.670   2.790  0.000  3.790    0.0   0.000   \n",
       "3   0.000   0.000  1.925  2.565   0.000   3.255  0.000  5.020    0.0  16.875   \n",
       "4  36.300  15.345  0.000  1.320   0.000   1.670  0.000  8.850    0.0   2.150   \n",
       "\n",
       "   ...      TEK    TNK2  TSSK1B  TSSK2    TTK    TXK   TYK2  TYRO3    YES1  \\\n",
       "0  ...    3.555  88.590  32.070  6.055  1.210  3.300  0.000  0.165  62.310   \n",
       "1  ...    1.175   0.000  10.880  2.240  0.000  6.445  0.000  0.000  39.890   \n",
       "2  ...    0.300   0.000   1.855  0.000  0.000  0.000  5.605  5.685   3.090   \n",
       "3  ...    0.000   0.000   0.000  1.200  0.000  2.455  2.470  6.325   2.795   \n",
       "4  ...    1.800   1.675   0.000  0.720  3.485  1.000  5.855  7.795  19.750   \n",
       "\n",
       "   ZAP70  \n",
       "0    0.0  \n",
       "1    0.0  \n",
       "2    0.0  \n",
       "3    0.0  \n",
       "4    0.0  \n",
       "\n",
       "[5 rows x 190 columns]"
      ]
     },
     "execution_count": 66,
     "metadata": {},
     "output_type": "execute_result"
    }
   ],
   "source": [
    "df.head()"
   ]
  },
  {
   "cell_type": "code",
   "execution_count": 67,
   "metadata": {},
   "outputs": [],
   "source": [
    "df.to_csv('working_data/data.csv', sep=',', header=False, index=False)"
   ]
  },
  {
   "cell_type": "code",
   "execution_count": 68,
   "metadata": {},
   "outputs": [],
   "source": [
    "data = np.loadtxt('working_data/data.csv', delimiter=',', dtype=np.float64)"
   ]
  },
  {
   "cell_type": "code",
   "execution_count": 69,
   "metadata": {},
   "outputs": [
    {
     "data": {
      "text/plain": [
       "array([[22.025, 15.45 ,  0.   , ...,  0.165, 62.31 ,  0.   ],\n",
       "       [94.97 , 91.785,  0.   , ...,  0.   , 39.89 ,  0.   ],\n",
       "       [ 0.   ,  0.   ,  0.   , ...,  5.685,  3.09 ,  0.   ],\n",
       "       ...,\n",
       "       [ 3.73 ,  4.64 ,  0.26 , ...,  3.72 ,  2.41 ,  0.   ],\n",
       "       [ 8.44 ,  4.49 ,  0.9  , ...,  2.82 ,  2.03 ,  3.89 ],\n",
       "       [ 0.   ,  0.16 ,  0.   , ...,  2.21 ,  3.03 ,  0.   ]])"
      ]
     },
     "execution_count": 69,
     "metadata": {},
     "output_type": "execute_result"
    }
   ],
   "source": [
    "data"
   ]
  },
  {
   "cell_type": "code",
   "execution_count": 71,
   "metadata": {},
   "outputs": [],
   "source": [
    "target = test"
   ]
  },
  {
   "cell_type": "code",
   "execution_count": 72,
   "metadata": {},
   "outputs": [
    {
     "data": {
      "text/plain": [
       "array([1, 1, 1, 1, 1, 1, 1, 1, 1, 1, 1, 1, 1, 1, 1, 1, 1, 1, 1, 1, 1, 1,\n",
       "       1, 1, 1, 1, 1, 1, 1, 1, 1, 1, 1, 1, 1, 1, 1, 1, 1, 1, 1, 1, 1, 1,\n",
       "       1, 1, 1, 1, 1, 1, 1, 1, 1, 1, 1, 1, 1, 1, 1, 1, 1, 1, 1, 1, 1, 1,\n",
       "       1, 1, 1, 1, 1, 1, 0, 0, 0, 0, 0, 0, 0, 0, 0, 0, 0, 0, 0, 0, 0, 0,\n",
       "       0, 0, 0, 0, 0, 0, 0, 0, 0, 0, 0, 0, 0, 0, 0, 0, 0, 0, 0, 0, 0, 0,\n",
       "       0, 0, 0, 0, 0, 0, 0, 0, 0, 0, 0, 0, 0, 0, 0, 0, 0, 0, 0, 0, 0, 0,\n",
       "       0, 0, 0, 0, 0, 0, 0, 0, 0, 0, 0, 0, 0, 0, 0, 0, 0, 0, 0, 0, 0, 0,\n",
       "       0, 0, 0, 0, 0, 0, 0, 0, 0, 0, 0, 0, 0, 0, 0, 0, 0, 0, 0, 0, 0, 0,\n",
       "       0, 0, 0, 0, 0, 0, 0, 0, 0, 0, 0, 0, 0, 0, 0, 0, 0, 0, 0, 0, 0, 0,\n",
       "       0, 0, 0, 0, 0, 0, 0, 0, 0, 0, 0, 0, 0, 0, 0, 0, 0, 0, 0, 0, 0, 0,\n",
       "       0, 0, 0, 0, 0, 0, 0, 0, 0, 0, 0, 0, 0, 0, 0, 0, 0, 0, 0, 0, 0, 0,\n",
       "       0, 0, 0, 0, 0, 0, 0, 0, 0, 0, 0, 0, 0, 0], dtype=int8)"
      ]
     },
     "execution_count": 72,
     "metadata": {},
     "output_type": "execute_result"
    }
   ],
   "source": [
    "target"
   ]
  },
  {
   "cell_type": "code",
   "execution_count": 73,
   "metadata": {},
   "outputs": [],
   "source": [
    "KX_train, KX_test, Ky_train, Ky_test = train_test_split(data, target, test_size = 0.3, random_state = 12)"
   ]
  },
  {
   "cell_type": "code",
   "execution_count": 74,
   "metadata": {},
   "outputs": [],
   "source": [
    "Kclf = svm.SVC()"
   ]
  },
  {
   "cell_type": "code",
   "execution_count": 75,
   "metadata": {},
   "outputs": [
    {
     "data": {
      "text/plain": [
       "SVC(C=1.0, cache_size=200, class_weight=None, coef0=0.0,\n",
       "  decision_function_shape='ovr', degree=3, gamma='auto', kernel='rbf',\n",
       "  max_iter=-1, probability=False, random_state=None, shrinking=True,\n",
       "  tol=0.001, verbose=False)"
      ]
     },
     "execution_count": 75,
     "metadata": {},
     "output_type": "execute_result"
    }
   ],
   "source": [
    "Kclf.fit(KX_train, Ky_train)"
   ]
  },
  {
   "cell_type": "code",
   "execution_count": 77,
   "metadata": {},
   "outputs": [
    {
     "data": {
      "text/plain": [
       "0.7272727272727273"
      ]
     },
     "execution_count": 77,
     "metadata": {},
     "output_type": "execute_result"
    }
   ],
   "source": [
    "Kclf.score(KX_test, Ky_test)"
   ]
  },
  {
   "cell_type": "code",
   "execution_count": 78,
   "metadata": {},
   "outputs": [
    {
     "name": "stdout",
     "output_type": "stream",
     "text": [
      "[0.7037037  0.7037037  0.73076923 0.73076923 0.72       0.72\n",
      " 0.72       0.72       0.72       0.72      ]\n",
      "0.7188945868945869\n",
      "0.008665286073402657\n"
     ]
    }
   ],
   "source": [
    "Kscores = cross_val_score(Kclf, data, target, cv=10)\n",
    "print(Kscores)\n",
    "print(Kscores.mean())\n",
    "print(Kscores.std())"
   ]
  },
  {
   "cell_type": "code",
   "execution_count": null,
   "metadata": {},
   "outputs": [],
   "source": []
  }
 ],
 "metadata": {
  "kernelspec": {
   "display_name": "Python 3",
   "language": "python",
   "name": "python3"
  },
  "language_info": {
   "codemirror_mode": {
    "name": "ipython",
    "version": 3
   },
   "file_extension": ".py",
   "mimetype": "text/x-python",
   "name": "python",
   "nbconvert_exporter": "python",
   "pygments_lexer": "ipython3",
   "version": "3.6.4"
  }
 },
 "nbformat": 4,
 "nbformat_minor": 2
}
