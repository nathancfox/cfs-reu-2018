{
 "cells": [
  {
   "cell_type": "markdown",
   "metadata": {},
   "source": [
    "Verified in the shell that both files ran through the python interpreter without errors."
   ]
  },
  {
   "cell_type": "code",
   "execution_count": 1,
   "metadata": {},
   "outputs": [],
   "source": [
    "from cpso_particle import COMB_Particle\n",
    "import numpy as np\n",
    "import matplotlib.pyplot as plt\n",
    "import pandas as pd\n",
    "from scipy.special import expit\n",
    "from sklearn import svm\n",
    "from sklearn import datasets\n",
    "from sklearn.model_selection import train_test_split\n",
    "from sklearn.model_selection import cross_val_score"
   ]
  },
  {
   "cell_type": "code",
   "execution_count": 2,
   "metadata": {},
   "outputs": [],
   "source": [
    "part1 = COMB_Particle(2.1, 2.1, 2.1, 5, (-6.0, 6.0), (-4.0, 0.25), (0.4, 0.9))"
   ]
  },
  {
   "cell_type": "raw",
   "metadata": {},
   "source": [
    "---------------------------------------------------------------------------\n",
    "AttributeError                            Traceback (most recent call last)\n",
    "<ipython-input-4-eddeedd9fea0> in <module>()\n",
    "----> 1 part1 = COMB_Particle(2.1, 2.1, 2.1, 5, (-6.0, 6.0), (-4.0, 0.25), (0.4, 0.9))\n",
    "\n",
    "~/Programs/cfs/cfs-reu/pso/cpso_particle.py in __init__(self, c1, c2, c3, ndim, x_bounds, v_bounds, w_bounds)\n",
    "    114         self.x = np.zeros(ndim)\n",
    "    115         self.v = np.zeros(ndim)\n",
    "--> 116         self.initialize_position()\n",
    "    117         self.initialize_velocity()\n",
    "    118         self.b = np.zeros(ndim) # Unnecessary, but a placeholder for readability\n",
    "\n",
    "~/Programs/cfs/cfs-reu/pso/cpso_particle.py in initialize_position(self)\n",
    "    214         # This implementation cannot start at the upper bound,\n",
    "    215         # Not sure if that's a problem\n",
    "--> 216         self.x = np.random.uniform(low=self.x_bounds[0],\n",
    "    217                                    high=self.x_bounds[1],\n",
    "    218                                    size=self.ndim)\n",
    "\n",
    "AttributeError: 'COMB_Particle' object has no attribute 'x_bounds'\n"
   ]
  },
  {
   "cell_type": "markdown",
   "metadata": {},
   "source": [
    "I need to reorder the lines in the `__init__` method so that all the static attributes are assigned before any other methods are called."
   ]
  },
  {
   "cell_type": "code",
   "execution_count": 3,
   "metadata": {},
   "outputs": [
    {
     "data": {
      "text/plain": [
       "['__class__',\n",
       " '__delattr__',\n",
       " '__dict__',\n",
       " '__dir__',\n",
       " '__doc__',\n",
       " '__eq__',\n",
       " '__format__',\n",
       " '__ge__',\n",
       " '__getattribute__',\n",
       " '__gt__',\n",
       " '__hash__',\n",
       " '__init__',\n",
       " '__init_subclass__',\n",
       " '__le__',\n",
       " '__lt__',\n",
       " '__module__',\n",
       " '__ne__',\n",
       " '__new__',\n",
       " '__reduce__',\n",
       " '__reduce_ex__',\n",
       " '__repr__',\n",
       " '__setattr__',\n",
       " '__sizeof__',\n",
       " '__str__',\n",
       " '__subclasshook__',\n",
       " '__weakref__',\n",
       " 'b',\n",
       " 'c1',\n",
       " 'c2',\n",
       " 'c3',\n",
       " 'convert_pos_to_binary',\n",
       " 'initialize_position',\n",
       " 'initialize_velocity',\n",
       " 'jaccard_index',\n",
       " 'ndim',\n",
       " 'p_fitness',\n",
       " 'pbest',\n",
       " 'pbinary',\n",
       " 'update_binary_position',\n",
       " 'update_inertia',\n",
       " 'update_position',\n",
       " 'update_velocity',\n",
       " 'v',\n",
       " 'v_bounds',\n",
       " 'w',\n",
       " 'w_bounds',\n",
       " 'x',\n",
       " 'x_bounds']"
      ]
     },
     "execution_count": 3,
     "metadata": {},
     "output_type": "execute_result"
    }
   ],
   "source": [
    "dir(part1)"
   ]
  },
  {
   "cell_type": "code",
   "execution_count": 4,
   "metadata": {},
   "outputs": [
    {
     "name": "stdout",
     "output_type": "stream",
     "text": [
      "b         : [False False False  True False]\n",
      "c1        : 2.1\n",
      "c2        : 2.1\n",
      "c3        : 2.1\n",
      "ndim      : 5\n",
      "p_fitness : 0.0\n",
      "pbest     : [-0.6436683  -4.60231346  0.06766747  5.2844454   0.04817905]\n",
      "pbinary   : [False False False  True False]\n",
      "v         : [-3.9338973  -0.92535269 -1.32961543 -1.59761497 -3.43179165]\n",
      "v_bounds  : (-4.0, 0.25)\n",
      "w         : 0\n",
      "w_bounds  : (0.4, 0.9)\n",
      "x         : [-0.6436683  -4.60231346  0.06766747  5.2844454   0.04817905]\n",
      "x_bounds  : (-6.0, 6.0)\n"
     ]
    }
   ],
   "source": [
    "print('{:10}: {}'.format('b', part1.b))\n",
    "print('{:10}: {}'.format('c1', part1.c1))\n",
    "print('{:10}: {}'.format('c2', part1.c2))\n",
    "print('{:10}: {}'.format('c3', part1.c3))\n",
    "print('{:10}: {}'.format('ndim', part1.ndim))\n",
    "print('{:10}: {}'.format('p_fitness', part1.p_fitness))\n",
    "print('{:10}: {}'.format('pbest', part1.pbest))\n",
    "print('{:10}: {}'.format('pbinary', part1.pbinary))\n",
    "print('{:10}: {}'.format('v', part1.v))\n",
    "print('{:10}: {}'.format('v_bounds', part1.v_bounds))\n",
    "print('{:10}: {}'.format('w', part1.w))\n",
    "print('{:10}: {}'.format('w_bounds', part1.w_bounds))\n",
    "print('{:10}: {}'.format('x', part1.x))\n",
    "print('{:10}: {}'.format('x_bounds', part1.x_bounds))"
   ]
  },
  {
   "cell_type": "raw",
   "metadata": {},
   "source": [
    "PREVIOUS ERRONEOUS OUTPUT\n",
    "=============================================================================\n",
    "b         : [False False  True  True  True]\n",
    "c1        : 2.1\n",
    "c2        : 2.1\n",
    "c3        : 2.1\n",
    "ndim      : 5\n",
    "p_fitness : 0.0\n",
    "pbest     : [-5.26917898 -5.2695123  -0.23785201 -0.32502398 -1.04040292]\n",
    "pbinary   : [False False  True  True  True]\n",
    "v         : [0. 0. 0. 0. 0.]\n",
    "v_bounds  : (-4.0, 0.25)\n",
    "w         : 0\n",
    "w_bounds  : (0.4, 0.9)\n",
    "x         : [-5.26917898 -5.2695123  -0.23785201 -0.32502398 -1.04040292]\n",
    "x_bounds  : (-6.0, 6.0)\n"
   ]
  },
  {
   "cell_type": "markdown",
   "metadata": {},
   "source": [
    "This all looks pretty much like I'd expect. A few notes:\n",
    "* pbest and pbinary should be copies of x and b, that's good.\n",
    "* p_fitness and w are initialized manually by the swarm, so they still have their zero placeholders\n",
    "\n",
    "Things to follow up on:\n",
    "* I don't know if c1, c2, and c3 initialized properly because they're all the same value, I should run another initialization with all different values just to be sure.\n",
    "* v should NOT be all zeros. Something went wrong with `initialize_velocity()`.\n",
    "* I don't know if the values for the binary and position vectors are correct because I haven't checked those methods yet. However, everything looks to have the correct type and shape."
   ]
  },
  {
   "cell_type": "markdown",
   "metadata": {},
   "source": [
    "**FIX:** `initialize_velocity()` was setting `v` instead of `self.v`."
   ]
  },
  {
   "cell_type": "code",
   "execution_count": 5,
   "metadata": {},
   "outputs": [
    {
     "name": "stdout",
     "output_type": "stream",
     "text": [
      "b         : [False False False  True  True]\n",
      "c1        : 2.1\n",
      "c2        : 2.2\n",
      "c3        : 2.3\n",
      "ndim      : 5\n",
      "p_fitness : 0.0\n",
      "pbest     : [-5.27198033 -1.52905092  1.30228432 -0.25221179  3.50845514]\n",
      "pbinary   : [False False False  True  True]\n",
      "v         : [-1.850354   -1.97529278 -1.16501075 -3.93817826 -2.1103038 ]\n",
      "v_bounds  : (-4.0, 0.25)\n",
      "w         : 0\n",
      "w_bounds  : (0.4, 0.9)\n",
      "x         : [-5.27198033 -1.52905092  1.30228432 -0.25221179  3.50845514]\n",
      "x_bounds  : (-6.0, 6.0)\n"
     ]
    }
   ],
   "source": [
    "throwaway = COMB_Particle(2.1, 2.2, 2.3, 5, (-6.0, 6.0), (-4.0, 0.25), (0.4, 0.9))\n",
    "print('{:10}: {}'.format('b', throwaway.b))\n",
    "print('{:10}: {}'.format('c1', throwaway.c1))\n",
    "print('{:10}: {}'.format('c2', throwaway.c2))\n",
    "print('{:10}: {}'.format('c3', throwaway.c3))\n",
    "print('{:10}: {}'.format('ndim', throwaway.ndim))\n",
    "print('{:10}: {}'.format('p_fitness', throwaway.p_fitness))\n",
    "print('{:10}: {}'.format('pbest', throwaway.pbest))\n",
    "print('{:10}: {}'.format('pbinary', throwaway.pbinary))\n",
    "print('{:10}: {}'.format('v', throwaway.v))\n",
    "print('{:10}: {}'.format('v_bounds', throwaway.v_bounds))\n",
    "print('{:10}: {}'.format('w', throwaway.w))\n",
    "print('{:10}: {}'.format('w_bounds', throwaway.w_bounds))\n",
    "print('{:10}: {}'.format('x', throwaway.x))\n",
    "print('{:10}: {}'.format('x_bounds', throwaway.x_bounds))"
   ]
  },
  {
   "cell_type": "raw",
   "metadata": {},
   "source": [
    "b         : [False False False  True False]\n",
    "c1        : 2.1\n",
    "c2        : 2.2\n",
    "c3        : 2.3\n",
    "ndim      : 5\n",
    "p_fitness : 0.0\n",
    "pbest     : [-5.73720921 -3.56280577 -1.41375904  1.28130234  0.03500343]\n",
    "pbinary   : [False False False  True False]\n",
    "v         : [-1.44537859 -0.99279764 -1.18034335 -1.86680597 -2.71761947]\n",
    "v_bounds  : (-4.0, 0.25)\n",
    "w         : 0\n",
    "w_bounds  : (0.4, 0.9)\n",
    "x         : [-5.73720921 -3.56280577 -1.41375904  1.28130234  0.03500343]\n",
    "x_bounds  : (-6.0, 6.0)"
   ]
  },
  {
   "cell_type": "markdown",
   "metadata": {},
   "source": [
    "This looks good. The places where there should be randomness are different from each other between part1 and the throwaway. Additionally, none of the values of x or v are outside the bounds. v is fixed; the c constants populated correctly. The `__init__` function appears to be doing what I want."
   ]
  },
  {
   "cell_type": "markdown",
   "metadata": {},
   "source": [
    "Let's check on the `initialize_position` and `initialize_velocity` functions"
   ]
  },
  {
   "cell_type": "raw",
   "metadata": {},
   "source": [
    "    def initialize_position(self):\n",
    "        \"\"\"Initialize the position vector, x.\n",
    "\n",
    "        Randomizes the initial position vector of the particle. Typically used\n",
    "        for particle initialization at the beginning of a COMB-PSO search.\n",
    "\n",
    "        Parameters\n",
    "        ----------\n",
    "        None\n",
    "\n",
    "        Returns\n",
    "        -------\n",
    "        None\n",
    "\n",
    "        Raises\n",
    "        ------\n",
    "        None\n",
    "        \"\"\"\n",
    "        # This implementation cannot start at the upper bound,\n",
    "        # Not sure if that's a problem\n",
    "        self.x = np.random.uniform(low=self.x_bounds[0],\n",
    "                                   high=self.x_bounds[1],\n",
    "                                   size=self.ndim)\n",
    "\n",
    "    def initialize_velocity(self):\n",
    "        \"\"\"Initialize the velocity vector, v.\n",
    "\n",
    "        Randomizes the initial velocity vector of the particle. Typically used\n",
    "        for particle initialization at the beginning of a COMB-PSO search.\n",
    "\n",
    "        Parameters\n",
    "        ----------\n",
    "        None\n",
    "\n",
    "        Returns\n",
    "        -------\n",
    "        None\n",
    "\n",
    "        Raises\n",
    "        ------\n",
    "        None\n",
    "        \"\"\"\n",
    "        # This implementation cannot start at the upper bound,\n",
    "        # Not sure if that's a problem\n",
    "        self.v = np.random.uniform(low=self.v_bounds[0],\n",
    "                              high=self.v_bounds[1],\n",
    "                              size=self.ndim)"
   ]
  },
  {
   "cell_type": "markdown",
   "metadata": {},
   "source": [
    "According to the documentation, numpy.random.uniform returns an nd array of values drawn from a uniform distribution over the interval \\[low, high\\). Each of these methods *should* give back a 1-Dimensional ndarray of random values in the correct bounds. Let me sanity check a few things."
   ]
  },
  {
   "cell_type": "code",
   "execution_count": 6,
   "metadata": {},
   "outputs": [],
   "source": [
    "part1.initialize_position()"
   ]
  },
  {
   "cell_type": "code",
   "execution_count": 7,
   "metadata": {},
   "outputs": [
    {
     "data": {
      "text/plain": [
       "numpy.ndarray"
      ]
     },
     "execution_count": 7,
     "metadata": {},
     "output_type": "execute_result"
    }
   ],
   "source": [
    "type(part1.x)"
   ]
  },
  {
   "cell_type": "code",
   "execution_count": 8,
   "metadata": {},
   "outputs": [
    {
     "data": {
      "text/plain": [
       "(5,)"
      ]
     },
     "execution_count": 8,
     "metadata": {},
     "output_type": "execute_result"
    }
   ],
   "source": [
    "part1.x.shape"
   ]
  },
  {
   "cell_type": "code",
   "execution_count": 9,
   "metadata": {},
   "outputs": [
    {
     "data": {
      "text/plain": [
       "5"
      ]
     },
     "execution_count": 9,
     "metadata": {},
     "output_type": "execute_result"
    }
   ],
   "source": [
    "part1.ndim"
   ]
  },
  {
   "cell_type": "code",
   "execution_count": 10,
   "metadata": {},
   "outputs": [
    {
     "data": {
      "text/plain": [
       "array([-0.47056802,  5.58439167, -4.34797764, -0.99226722,  5.25983447])"
      ]
     },
     "execution_count": 10,
     "metadata": {},
     "output_type": "execute_result"
    }
   ],
   "source": [
    "part1.x"
   ]
  },
  {
   "cell_type": "code",
   "execution_count": 11,
   "metadata": {},
   "outputs": [
    {
     "name": "stdout",
     "output_type": "stream",
     "text": [
      "[ 1.51322349 -1.31315356 -1.48935144  0.35901691 -2.639056  ]\n",
      "[-5.89948664 -0.70492015 -4.50551678 -0.50769804 -5.30104814]\n",
      "[4.91815469 2.12233929 5.06730288 3.8929764  2.20704014]\n",
      "[ 4.11659714  0.76765189  5.84012724 -2.76624241  3.47432598]\n",
      "[ 3.82506759  0.70558956 -4.64462629  2.89442318 -5.79399248]\n",
      "[-5.94149496  3.99879613  3.61893008 -5.86201252  0.50337249]\n",
      "[ 3.80994756 -5.24349006 -2.5283742   5.79571998 -2.61611503]\n",
      "[ 0.7452442  -2.21763309  1.32603986 -0.35210195  5.81649206]\n",
      "[-5.49046921  3.32601708  4.65353145  4.90415209 -2.56487149]\n",
      "[-2.04763478  1.82113745 -1.56665592  5.87793031  2.20207426]\n"
     ]
    }
   ],
   "source": [
    "for i in range(10):\n",
    "    part1.initialize_position()\n",
    "    print(part1.x)"
   ]
  },
  {
   "cell_type": "code",
   "execution_count": 12,
   "metadata": {},
   "outputs": [
    {
     "data": {
      "text/plain": [
       "(-6.0, 6.0)"
      ]
     },
     "execution_count": 12,
     "metadata": {},
     "output_type": "execute_result"
    }
   ],
   "source": [
    "part1.x_bounds"
   ]
  },
  {
   "cell_type": "markdown",
   "metadata": {},
   "source": [
    "part1.x has the correct type and shape after calling `initialize_position()`. It looks good to the eye. Calling it 10 times in a row appears to give randomness (it certainly doesn't repeat) and none of the 100 values go outside the bounds. I don't think it's necessary to check that numpy.random.uniform gives a uniform distribution of values."
   ]
  },
  {
   "cell_type": "code",
   "execution_count": 13,
   "metadata": {},
   "outputs": [],
   "source": [
    "part1.initialize_velocity()"
   ]
  },
  {
   "cell_type": "code",
   "execution_count": 14,
   "metadata": {},
   "outputs": [
    {
     "data": {
      "text/plain": [
       "numpy.ndarray"
      ]
     },
     "execution_count": 14,
     "metadata": {},
     "output_type": "execute_result"
    }
   ],
   "source": [
    "type(part1.v)"
   ]
  },
  {
   "cell_type": "code",
   "execution_count": 15,
   "metadata": {},
   "outputs": [
    {
     "data": {
      "text/plain": [
       "(5,)"
      ]
     },
     "execution_count": 15,
     "metadata": {},
     "output_type": "execute_result"
    }
   ],
   "source": [
    "part1.v.shape"
   ]
  },
  {
   "cell_type": "code",
   "execution_count": 16,
   "metadata": {},
   "outputs": [
    {
     "data": {
      "text/plain": [
       "5"
      ]
     },
     "execution_count": 16,
     "metadata": {},
     "output_type": "execute_result"
    }
   ],
   "source": [
    "part1.ndim"
   ]
  },
  {
   "cell_type": "code",
   "execution_count": 17,
   "metadata": {},
   "outputs": [
    {
     "data": {
      "text/plain": [
       "array([-1.447529  , -1.0042817 , -3.35079024, -0.79029877, -0.42973469])"
      ]
     },
     "execution_count": 17,
     "metadata": {},
     "output_type": "execute_result"
    }
   ],
   "source": [
    "part1.v"
   ]
  },
  {
   "cell_type": "code",
   "execution_count": 18,
   "metadata": {},
   "outputs": [
    {
     "name": "stdout",
     "output_type": "stream",
     "text": [
      "[-1.58463188 -3.85911867 -1.7701193  -2.3253065  -2.3406663 ]\n",
      "[-3.82816851 -0.54636607 -1.74834598 -3.21807183 -1.03098214]\n",
      "[-2.21079059 -3.20218952 -3.95163175 -3.80371644 -3.63523202]\n",
      "[-3.13406972 -0.00709941 -2.87474132 -1.82160361 -2.09921244]\n",
      "[-0.751557   -2.30317622 -0.31881909 -3.50968108 -0.20630922]\n",
      "[-1.82285285 -0.3712144  -3.03610235 -2.17164294 -1.2417643 ]\n",
      "[-3.785041   -1.04681397 -2.97746106 -0.44305266 -3.73951336]\n",
      "[-3.59846419 -1.08089866 -0.22183591 -1.18110758 -1.1934413 ]\n",
      "[-3.86345309 -1.64929725 -1.15146805 -1.20137871 -1.20207854]\n",
      "[-1.39182157 -3.33697211 -1.23544622 -2.25861834 -0.19558185]\n"
     ]
    }
   ],
   "source": [
    "for i in range(10):\n",
    "    part1.initialize_velocity()\n",
    "    print(part1.v)"
   ]
  },
  {
   "cell_type": "code",
   "execution_count": 19,
   "metadata": {},
   "outputs": [
    {
     "data": {
      "text/plain": [
       "(-4.0, 0.25)"
      ]
     },
     "execution_count": 19,
     "metadata": {},
     "output_type": "execute_result"
    }
   ],
   "source": [
    "part1.v_bounds"
   ]
  },
  {
   "cell_type": "markdown",
   "metadata": {},
   "source": [
    "All the same conclusions apply to `initialize_velocity()`"
   ]
  },
  {
   "cell_type": "raw",
   "metadata": {},
   "source": [
    "    def update_binary_position(self):\n",
    "        \"\"\"Convert continuous position vector to binary position vector.\n",
    "\n",
    "        Updates the binary position vector, b, by converting the current\n",
    "        continuous position vector, x using a passed function.\n",
    "\n",
    "        Parameters\n",
    "        ----------\n",
    "        None\n",
    "\n",
    "        Returns\n",
    "        -------\n",
    "        None\n",
    "\n",
    "        Raises\n",
    "        ------\n",
    "        None\n",
    "        \"\"\"\n",
    "        # Use if random numbers need to be saved\n",
    "        # rand_compar = np.random.uniform(size=self.ndim)\n",
    "        # Save rand_compar to file\n",
    "        # self.b = (self.x < rand_compar).astype(int)\n",
    "\n",
    "        # Use if random numbers do Not need to be saved\n",
    "        self.b = self.convert_pos_to_binary(self.x)\n",
    "\n",
    "    def convert_pos_to_binary(self, x):\n",
    "        \"\"\"Convert a continuous position vector to a binary position vector.\n",
    "\n",
    "        Converts any continuous position vector to a binary position\n",
    "        vector according to the following formula.\n",
    "\n",
    "                 { True, if rand() < S(x[i,j])  \n",
    "        b[i,j] = {\n",
    "                 { False, otherwise\n",
    "\n",
    "        where b is the binary position vector, b[i] is the binary position\n",
    "        vector of particle i, b[i, j] is a feature (True for inclusion,\n",
    "        False for exclusion) in b[i], rand() is a uniform random\n",
    "        number ϵ [0.0, 1.0), S is a logistic transformation, x is the\n",
    "        continuous position vector, and x[i]/x[i,j] are analogous to\n",
    "        b[i]/b[i,j].\n",
    "\n",
    "        Parameters\n",
    "        ----------\n",
    "        x : 1-Dimensional ndarray; holds a continuous position vector.\n",
    "\n",
    "        Returns\n",
    "        -------\n",
    "        binary : ndarray, size ndim; boolean ndarray that holds the\n",
    "                 binary version of x, a continuous position vector.\n",
    "\n",
    "        Raises\n",
    "        ------\n",
    "        None\n",
    "        \"\"\"\n",
    "        return (np.random.uniform(size=x.size) < expit(x))\n"
   ]
  },
  {
   "cell_type": "markdown",
   "metadata": {},
   "source": [
    "`update_binary_position()` outsources all of its function to `convert_pos_to_binary()` so as long as I'm sure that it's passing the correct arguments (I am) and that it's assigning the returned value to the correct variable (I am), then I just have to convince myself that `convert_pos_to_binary()` is correct to be confident in `update_binary_position()`."
   ]
  },
  {
   "cell_type": "code",
   "execution_count": 20,
   "metadata": {},
   "outputs": [],
   "source": [
    "testx = np.array([1.0, 2.0, 3.0, 4.0, 5.0])\n",
    "testu = np.random.uniform(size=testx.size)"
   ]
  },
  {
   "cell_type": "code",
   "execution_count": 21,
   "metadata": {},
   "outputs": [
    {
     "data": {
      "text/plain": [
       "array([1., 2., 3., 4., 5.])"
      ]
     },
     "execution_count": 21,
     "metadata": {},
     "output_type": "execute_result"
    }
   ],
   "source": [
    "testx"
   ]
  },
  {
   "cell_type": "code",
   "execution_count": 22,
   "metadata": {},
   "outputs": [
    {
     "data": {
      "text/plain": [
       "array([0.36846507, 0.99720522, 0.69820463, 0.44106394, 0.49651695])"
      ]
     },
     "execution_count": 22,
     "metadata": {},
     "output_type": "execute_result"
    }
   ],
   "source": [
    "testu"
   ]
  },
  {
   "cell_type": "code",
   "execution_count": 23,
   "metadata": {},
   "outputs": [],
   "source": [
    "testexpx = expit(testx)"
   ]
  },
  {
   "cell_type": "code",
   "execution_count": 24,
   "metadata": {},
   "outputs": [
    {
     "data": {
      "text/plain": [
       "array([0.73105858, 0.88079708, 0.95257413, 0.98201379, 0.99330715])"
      ]
     },
     "execution_count": 24,
     "metadata": {},
     "output_type": "execute_result"
    }
   ],
   "source": [
    "testexpx"
   ]
  },
  {
   "cell_type": "markdown",
   "metadata": {},
   "source": [
    "I tested `expit()` against [this calculator](https://www.fxsolver.com/solve/) to see if the function behaved like I expected. It did. "
   ]
  },
  {
   "cell_type": "code",
   "execution_count": 25,
   "metadata": {},
   "outputs": [
    {
     "data": {
      "text/plain": [
       "array([ True, False,  True,  True,  True])"
      ]
     },
     "execution_count": 25,
     "metadata": {},
     "output_type": "execute_result"
    }
   ],
   "source": [
    "testu < testexpx"
   ]
  },
  {
   "cell_type": "code",
   "execution_count": 26,
   "metadata": {},
   "outputs": [
    {
     "data": {
      "text/plain": [
       "array([False, False, False,  True,  True])"
      ]
     },
     "execution_count": 26,
     "metadata": {},
     "output_type": "execute_result"
    }
   ],
   "source": [
    "testu < expit(np.array([-2, -1, 0, 1, 2]))"
   ]
  },
  {
   "cell_type": "markdown",
   "metadata": {},
   "source": [
    "These give the boolean results I was expecting. I trust `convert_pos_to_binary()` and by extension, I trust `update_binary_position()`."
   ]
  },
  {
   "cell_type": "raw",
   "metadata": {},
   "source": [
    "    def update_position(self):\n",
    "        \"\"\"Update the position vector for one time step.\n",
    "\n",
    "        Updates the position vector for a single time step, according\n",
    "        to the COMB-PSO position equation. Clips to within the bounds\n",
    "        given in x_bounds.\n",
    "        \n",
    "        NOTE: The velocity vector must be updated BEFORE the position vector.\n",
    "\n",
    "        Parameters\n",
    "        ----------\n",
    "        None\n",
    "\n",
    "        Returns\n",
    "        -------\n",
    "        None\n",
    "\n",
    "        Raises\n",
    "        ------\n",
    "        None\n",
    "        \"\"\"\n",
    "        self.x = self.x + self.v\n",
    "        # Clipping position if outside bounds\n",
    "        self.x[self.x < self.x_bounds[0]] = self.x_bounds[0]\n",
    "        self.x[self.x > self.x_bounds[1]] = self.x_bounds[1]\n",
    "\n",
    "    def update_velocity(self, gbest, abest):\n",
    "        \"\"\"Update the velocity vector for one time step.\n",
    "\n",
    "        Updates the velocity vector for a single time step, according\n",
    "        to the COMB-PSO velocity equation. The equation terms, in order,\n",
    "        represent the inertia component, the cognitive component, the\n",
    "        social component, and the diversity component. Clips to within the\n",
    "        bounds given in v_bounds.\n",
    "\n",
    "        NOTE: The velocity vector must be updated BEFORE the position vector.\n",
    "\n",
    "        Parameters\n",
    "        ----------\n",
    "        gbest : ndarray, shape (ndim,); the best position vector found by\n",
    "                any particle so far.\n",
    "\n",
    "        abest : ndarray, shape (ndim,); the archived best position vector\n",
    "                found by any particle so far. Used as an archive to allow\n",
    "                gbest to be shuffled on stagnation.\n",
    "\n",
    "        Returns\n",
    "        -------\n",
    "        None\n",
    "\n",
    "        Raises\n",
    "        ------\n",
    "        None\n",
    "        \"\"\"\n",
    "        self.v = (\n",
    "                   (self.w*self.v)\n",
    "                 + (self.c1*np.random.uniform(size=self.ndim)*(self.pbest-self.x))\n",
    "                 + (self.c2*np.random.uniform(size=self.ndim)*(gbest-self.x))\n",
    "                 + (self.c3*np.random.uniform(size=self.ndim)*(abest-self.x))\n",
    "                 )\n",
    "        # Clipping velocity if outside bounds\n",
    "        self.v[self.v < self.v_bounds[0]] = self.v_bounds[0]\n",
    "        self.v[self.v > self.v_bounds[1]] = self.v_bounds[1]"
   ]
  },
  {
   "cell_type": "markdown",
   "metadata": {},
   "source": [
    "`update_position()` is a very simple vector addition equation. I visually confirmed that the equation matches the one in the text. I'll verify that ndarray addition works like vector addition."
   ]
  },
  {
   "cell_type": "code",
   "execution_count": 27,
   "metadata": {},
   "outputs": [
    {
     "data": {
      "text/plain": [
       "array([ 2,  4,  6,  8, 10])"
      ]
     },
     "execution_count": 27,
     "metadata": {},
     "output_type": "execute_result"
    }
   ],
   "source": [
    "testa = np.array([1, 2, 3, 4, 5])\n",
    "testb = np.array([1, 2, 3, 4, 5])\n",
    "testc = testa + testb\n",
    "testc"
   ]
  },
  {
   "cell_type": "markdown",
   "metadata": {},
   "source": [
    "I'll also verify that the clipping is working like I expect."
   ]
  },
  {
   "cell_type": "code",
   "execution_count": 28,
   "metadata": {},
   "outputs": [],
   "source": [
    "testa[testa < 3] = 3"
   ]
  },
  {
   "cell_type": "code",
   "execution_count": 29,
   "metadata": {},
   "outputs": [
    {
     "data": {
      "text/plain": [
       "array([3, 3, 3, 4, 5])"
      ]
     },
     "execution_count": 29,
     "metadata": {},
     "output_type": "execute_result"
    }
   ],
   "source": [
    "testa"
   ]
  },
  {
   "cell_type": "code",
   "execution_count": 30,
   "metadata": {},
   "outputs": [],
   "source": [
    "testb[testb > 3] = 3"
   ]
  },
  {
   "cell_type": "code",
   "execution_count": 31,
   "metadata": {},
   "outputs": [
    {
     "data": {
      "text/plain": [
       "array([1, 2, 3, 3, 3])"
      ]
     },
     "execution_count": 31,
     "metadata": {},
     "output_type": "execute_result"
    }
   ],
   "source": [
    "testb"
   ]
  },
  {
   "cell_type": "code",
   "execution_count": 32,
   "metadata": {},
   "outputs": [],
   "source": [
    "part1.x = np.array([5.0, 4.0, 3.0, 2.0, 1.0])\n",
    "part1.v = np.array([3.0, 3.0, 3.0, 3.0, 3.0])"
   ]
  },
  {
   "cell_type": "code",
   "execution_count": 33,
   "metadata": {},
   "outputs": [
    {
     "data": {
      "text/plain": [
       "array([5., 4., 3., 2., 1.])"
      ]
     },
     "execution_count": 33,
     "metadata": {},
     "output_type": "execute_result"
    }
   ],
   "source": [
    "part1.x"
   ]
  },
  {
   "cell_type": "code",
   "execution_count": 34,
   "metadata": {},
   "outputs": [
    {
     "data": {
      "text/plain": [
       "array([3., 3., 3., 3., 3.])"
      ]
     },
     "execution_count": 34,
     "metadata": {},
     "output_type": "execute_result"
    }
   ],
   "source": [
    "part1.v"
   ]
  },
  {
   "cell_type": "code",
   "execution_count": 35,
   "metadata": {},
   "outputs": [
    {
     "data": {
      "text/plain": [
       "array([8., 7., 6., 5., 4.])"
      ]
     },
     "execution_count": 35,
     "metadata": {},
     "output_type": "execute_result"
    }
   ],
   "source": [
    "part1.x + part1.v"
   ]
  },
  {
   "cell_type": "code",
   "execution_count": 36,
   "metadata": {},
   "outputs": [
    {
     "data": {
      "text/plain": [
       "(-6.0, 6.0)"
      ]
     },
     "execution_count": 36,
     "metadata": {},
     "output_type": "execute_result"
    }
   ],
   "source": [
    "part1.x_bounds"
   ]
  },
  {
   "cell_type": "code",
   "execution_count": 37,
   "metadata": {},
   "outputs": [],
   "source": [
    "part1.update_position()"
   ]
  },
  {
   "cell_type": "code",
   "execution_count": 38,
   "metadata": {},
   "outputs": [
    {
     "data": {
      "text/plain": [
       "array([6., 6., 6., 5., 4.])"
      ]
     },
     "execution_count": 38,
     "metadata": {},
     "output_type": "execute_result"
    }
   ],
   "source": [
    "part1.x"
   ]
  },
  {
   "cell_type": "code",
   "execution_count": 39,
   "metadata": {},
   "outputs": [
    {
     "data": {
      "text/plain": [
       "array([3., 3., 3., 3., 3.])"
      ]
     },
     "execution_count": 39,
     "metadata": {},
     "output_type": "execute_result"
    }
   ],
   "source": [
    "part1.v"
   ]
  },
  {
   "cell_type": "code",
   "execution_count": 40,
   "metadata": {},
   "outputs": [],
   "source": [
    "part1.x = (part1.x * -1) + 2"
   ]
  },
  {
   "cell_type": "code",
   "execution_count": 41,
   "metadata": {},
   "outputs": [
    {
     "data": {
      "text/plain": [
       "array([-4., -4., -4., -3., -2.])"
      ]
     },
     "execution_count": 41,
     "metadata": {},
     "output_type": "execute_result"
    }
   ],
   "source": [
    "part1.x"
   ]
  },
  {
   "cell_type": "code",
   "execution_count": 42,
   "metadata": {},
   "outputs": [],
   "source": [
    "part1.v = part1.v * -1"
   ]
  },
  {
   "cell_type": "code",
   "execution_count": 43,
   "metadata": {},
   "outputs": [
    {
     "data": {
      "text/plain": [
       "array([-3., -3., -3., -3., -3.])"
      ]
     },
     "execution_count": 43,
     "metadata": {},
     "output_type": "execute_result"
    }
   ],
   "source": [
    "part1.v"
   ]
  },
  {
   "cell_type": "code",
   "execution_count": 44,
   "metadata": {},
   "outputs": [],
   "source": [
    "part1.update_position()"
   ]
  },
  {
   "cell_type": "code",
   "execution_count": 45,
   "metadata": {},
   "outputs": [
    {
     "data": {
      "text/plain": [
       "array([-6., -6., -6., -6., -5.])"
      ]
     },
     "execution_count": 45,
     "metadata": {},
     "output_type": "execute_result"
    }
   ],
   "source": [
    "part1.x"
   ]
  },
  {
   "cell_type": "code",
   "execution_count": 46,
   "metadata": {},
   "outputs": [
    {
     "data": {
      "text/plain": [
       "array([-3., -3., -3., -3., -3.])"
      ]
     },
     "execution_count": 46,
     "metadata": {},
     "output_type": "execute_result"
    }
   ],
   "source": [
    "part1.v"
   ]
  },
  {
   "cell_type": "markdown",
   "metadata": {},
   "source": [
    "I'm satisfied that the clipping works like I expected it to. I'm going to reinitialize to get rid of all the manual editing I just did to the attributes."
   ]
  },
  {
   "cell_type": "code",
   "execution_count": 47,
   "metadata": {},
   "outputs": [],
   "source": [
    "part1 = COMB_Particle(2.1, 2.1, 2.1, 5, (-6.0, 6.0), (-4.0, 0.25), (0.4, 0.9))"
   ]
  },
  {
   "cell_type": "markdown",
   "metadata": {},
   "source": [
    "`update_velocity()` is much more complicated. I carefully double checked that the equation matched the text. I will check the individual terms now and substitute non random variables so that I can test the math."
   ]
  },
  {
   "cell_type": "code",
   "execution_count": 48,
   "metadata": {},
   "outputs": [
    {
     "data": {
      "text/plain": [
       "0"
      ]
     },
     "execution_count": 48,
     "metadata": {},
     "output_type": "execute_result"
    }
   ],
   "source": [
    "part1.w"
   ]
  },
  {
   "cell_type": "code",
   "execution_count": 49,
   "metadata": {},
   "outputs": [
    {
     "data": {
      "text/plain": [
       "array([-1.43464834, -1.21500088, -3.27713762, -3.12516513,  0.09912318])"
      ]
     },
     "execution_count": 49,
     "metadata": {},
     "output_type": "execute_result"
    }
   ],
   "source": [
    "part1.v"
   ]
  },
  {
   "cell_type": "code",
   "execution_count": 50,
   "metadata": {},
   "outputs": [
    {
     "data": {
      "text/plain": [
       "array([-0., -0., -0., -0.,  0.])"
      ]
     },
     "execution_count": 50,
     "metadata": {},
     "output_type": "execute_result"
    }
   ],
   "source": [
    "part1.w * part1.v"
   ]
  },
  {
   "cell_type": "code",
   "execution_count": 51,
   "metadata": {},
   "outputs": [],
   "source": [
    "part1.w = 0.6"
   ]
  },
  {
   "cell_type": "code",
   "execution_count": 52,
   "metadata": {},
   "outputs": [
    {
     "data": {
      "text/plain": [
       "0.6"
      ]
     },
     "execution_count": 52,
     "metadata": {},
     "output_type": "execute_result"
    }
   ],
   "source": [
    "part1.w"
   ]
  },
  {
   "cell_type": "code",
   "execution_count": 53,
   "metadata": {},
   "outputs": [
    {
     "data": {
      "text/plain": [
       "array([-1.43464834, -1.21500088, -3.27713762, -3.12516513,  0.09912318])"
      ]
     },
     "execution_count": 53,
     "metadata": {},
     "output_type": "execute_result"
    }
   ],
   "source": [
    "part1.v"
   ]
  },
  {
   "cell_type": "code",
   "execution_count": 54,
   "metadata": {},
   "outputs": [
    {
     "data": {
      "text/plain": [
       "array([-0.86078901, -0.72900053, -1.96628257, -1.87509908,  0.05947391])"
      ]
     },
     "execution_count": 54,
     "metadata": {},
     "output_type": "execute_result"
    }
   ],
   "source": [
    "part1.w * part1.v"
   ]
  },
  {
   "cell_type": "code",
   "execution_count": 55,
   "metadata": {},
   "outputs": [
    {
     "data": {
      "text/plain": [
       "0.6"
      ]
     },
     "execution_count": 55,
     "metadata": {},
     "output_type": "execute_result"
    }
   ],
   "source": [
    "part1.w"
   ]
  },
  {
   "cell_type": "code",
   "execution_count": 56,
   "metadata": {},
   "outputs": [
    {
     "data": {
      "text/plain": [
       "array([-1.43464834, -1.21500088, -3.27713762, -3.12516513,  0.09912318])"
      ]
     },
     "execution_count": 56,
     "metadata": {},
     "output_type": "execute_result"
    }
   ],
   "source": [
    "part1.v"
   ]
  },
  {
   "cell_type": "code",
   "execution_count": 57,
   "metadata": {},
   "outputs": [
    {
     "data": {
      "text/plain": [
       "2.1"
      ]
     },
     "execution_count": 57,
     "metadata": {},
     "output_type": "execute_result"
    }
   ],
   "source": [
    "part1.c1"
   ]
  },
  {
   "cell_type": "code",
   "execution_count": 58,
   "metadata": {},
   "outputs": [
    {
     "data": {
      "text/plain": [
       "2.1"
      ]
     },
     "execution_count": 58,
     "metadata": {},
     "output_type": "execute_result"
    }
   ],
   "source": [
    "part1.c2"
   ]
  },
  {
   "cell_type": "code",
   "execution_count": 59,
   "metadata": {},
   "outputs": [
    {
     "data": {
      "text/plain": [
       "2.1"
      ]
     },
     "execution_count": 59,
     "metadata": {},
     "output_type": "execute_result"
    }
   ],
   "source": [
    "part1.c3"
   ]
  },
  {
   "cell_type": "code",
   "execution_count": 60,
   "metadata": {},
   "outputs": [
    {
     "data": {
      "text/plain": [
       "5"
      ]
     },
     "execution_count": 60,
     "metadata": {},
     "output_type": "execute_result"
    }
   ],
   "source": [
    "part1.ndim"
   ]
  },
  {
   "cell_type": "code",
   "execution_count": 61,
   "metadata": {},
   "outputs": [
    {
     "data": {
      "text/plain": [
       "array([1, 1, 1, 1, 1])"
      ]
     },
     "execution_count": 61,
     "metadata": {},
     "output_type": "execute_result"
    }
   ],
   "source": [
    "np.array([1 for i in range(part1.ndim)])"
   ]
  },
  {
   "cell_type": "code",
   "execution_count": 62,
   "metadata": {},
   "outputs": [
    {
     "data": {
      "text/plain": [
       "array([ 2.75264903,  2.54902447, -3.13381338,  0.99502314, -0.55662921])"
      ]
     },
     "execution_count": 62,
     "metadata": {},
     "output_type": "execute_result"
    }
   ],
   "source": [
    "part1.pbest"
   ]
  },
  {
   "cell_type": "code",
   "execution_count": 63,
   "metadata": {},
   "outputs": [],
   "source": [
    "part1.pbest = part1.pbest + 2"
   ]
  },
  {
   "cell_type": "code",
   "execution_count": 64,
   "metadata": {},
   "outputs": [
    {
     "data": {
      "text/plain": [
       "array([ 4.75264903,  4.54902447, -1.13381338,  2.99502314,  1.44337079])"
      ]
     },
     "execution_count": 64,
     "metadata": {},
     "output_type": "execute_result"
    }
   ],
   "source": [
    "part1.pbest"
   ]
  },
  {
   "cell_type": "code",
   "execution_count": 65,
   "metadata": {},
   "outputs": [
    {
     "data": {
      "text/plain": [
       "array([ 2.75264903,  2.54902447, -3.13381338,  0.99502314, -0.55662921])"
      ]
     },
     "execution_count": 65,
     "metadata": {},
     "output_type": "execute_result"
    }
   ],
   "source": [
    "part1.x"
   ]
  },
  {
   "cell_type": "code",
   "execution_count": 66,
   "metadata": {},
   "outputs": [
    {
     "data": {
      "text/plain": [
       "array([ 5.75264903,  5.54902447, -0.13381338,  3.99502314,  2.44337079])"
      ]
     },
     "execution_count": 66,
     "metadata": {},
     "output_type": "execute_result"
    }
   ],
   "source": [
    "testgbest = part1.pbest + 1\n",
    "testgbest"
   ]
  },
  {
   "cell_type": "code",
   "execution_count": 67,
   "metadata": {},
   "outputs": [
    {
     "data": {
      "text/plain": [
       "array([6.75264903, 6.54902447, 0.86618662, 4.99502314, 3.44337079])"
      ]
     },
     "execution_count": 67,
     "metadata": {},
     "output_type": "execute_result"
    }
   ],
   "source": [
    "testabest = part1.pbest + 2\n",
    "testabest"
   ]
  },
  {
   "cell_type": "code",
   "execution_count": 68,
   "metadata": {},
   "outputs": [
    {
     "data": {
      "text/plain": [
       "array([4.2, 4.2, 4.2, 4.2, 4.2])"
      ]
     },
     "execution_count": 68,
     "metadata": {},
     "output_type": "execute_result"
    }
   ],
   "source": [
    "(part1.c1*np.array([1 for i in range(part1.ndim)])*(part1.pbest-part1.x))"
   ]
  },
  {
   "cell_type": "markdown",
   "metadata": {},
   "source": [
    "Looks good. pbest was originally equivalent to x but I incremented it by 2. So this should have been 2.1 * array of 1's size 5 * array of 2's size 5 = array of 4.2's size 5. Check! The next two terms should be similar but 2.1 * 3 = 6.3 and 2.1 * 4 = 8.4"
   ]
  },
  {
   "cell_type": "code",
   "execution_count": 69,
   "metadata": {
    "scrolled": true
   },
   "outputs": [
    {
     "data": {
      "text/plain": [
       "array([6.3, 6.3, 6.3, 6.3, 6.3])"
      ]
     },
     "execution_count": 69,
     "metadata": {},
     "output_type": "execute_result"
    }
   ],
   "source": [
    "(part1.c2*np.array([1 for i in range(part1.ndim)])*(testgbest-part1.x))"
   ]
  },
  {
   "cell_type": "code",
   "execution_count": 70,
   "metadata": {},
   "outputs": [
    {
     "data": {
      "text/plain": [
       "array([8.4, 8.4, 8.4, 8.4, 8.4])"
      ]
     },
     "execution_count": 70,
     "metadata": {},
     "output_type": "execute_result"
    }
   ],
   "source": [
    "(part1.c3*np.array([1 for i in range(part1.ndim)])*(testabest-part1.x))"
   ]
  },
  {
   "cell_type": "markdown",
   "metadata": {},
   "source": [
    "Looks great! Now to make sure that they all add up correctly. should end up with an array of size 5 where each element = 18.9 + the elements from w * v. To verify, I'll run the equation, then subtract 18.9 from it."
   ]
  },
  {
   "cell_type": "code",
   "execution_count": 71,
   "metadata": {},
   "outputs": [
    {
     "data": {
      "text/plain": [
       "array([-0.86078901, -0.72900053, -1.96628257, -1.87509908,  0.05947391])"
      ]
     },
     "execution_count": 71,
     "metadata": {},
     "output_type": "execute_result"
    }
   ],
   "source": [
    "(\n",
    "  (part1.w*part1.v)\n",
    "+ (part1.c1*np.array([1 for i in range(part1.ndim)])*(part1.pbest-part1.x))\n",
    "+ (part1.c2*np.array([1 for i in range(part1.ndim)])*(testgbest-part1.x))\n",
    "+ (part1.c3*np.array([1 for i in range(part1.ndim)])*(testabest-part1.x))\n",
    ") - 18.9"
   ]
  },
  {
   "cell_type": "code",
   "execution_count": 72,
   "metadata": {},
   "outputs": [
    {
     "data": {
      "text/plain": [
       "array([-0.86078901, -0.72900053, -1.96628257, -1.87509908,  0.05947391])"
      ]
     },
     "execution_count": 72,
     "metadata": {},
     "output_type": "execute_result"
    }
   ],
   "source": [
    "part1.w * part1.v"
   ]
  },
  {
   "cell_type": "markdown",
   "metadata": {},
   "source": [
    "Awesome! I trust `update_velocity()`"
   ]
  },
  {
   "cell_type": "markdown",
   "metadata": {},
   "source": [
    "Now to check the last two methods: `update_inertia()` and its dependency, `jaccard_index()`."
   ]
  },
  {
   "cell_type": "code",
   "execution_count": 73,
   "metadata": {},
   "outputs": [
    {
     "data": {
      "text/plain": [
       "array([ True, False,  True, False,  True])"
      ]
     },
     "execution_count": 73,
     "metadata": {},
     "output_type": "execute_result"
    }
   ],
   "source": [
    "testgbinary = np.array([1, 0, 1, 0, 1]).astype(np.bool_)\n",
    "testgbinary"
   ]
  },
  {
   "cell_type": "code",
   "execution_count": 74,
   "metadata": {},
   "outputs": [
    {
     "data": {
      "text/plain": [
       "array([ True,  True, False,  True,  True])"
      ]
     },
     "execution_count": 74,
     "metadata": {},
     "output_type": "execute_result"
    }
   ],
   "source": [
    "part1.b"
   ]
  },
  {
   "cell_type": "markdown",
   "metadata": {},
   "source": [
    "**NOTE:** These tests will look different to anyone who runs this after me because part1.b is randomly generated."
   ]
  },
  {
   "cell_type": "code",
   "execution_count": 75,
   "metadata": {},
   "outputs": [],
   "source": [
    "test2gbinary = np.array([False, True, False, True, False])\n",
    "test3gbinary = np.array([True, True, False, True, True])"
   ]
  },
  {
   "cell_type": "code",
   "execution_count": 76,
   "metadata": {},
   "outputs": [
    {
     "data": {
      "text/plain": [
       "array([ True,  True, False,  True,  True])"
      ]
     },
     "execution_count": 76,
     "metadata": {},
     "output_type": "execute_result"
    }
   ],
   "source": [
    "part1.b"
   ]
  },
  {
   "cell_type": "code",
   "execution_count": 77,
   "metadata": {},
   "outputs": [
    {
     "data": {
      "text/plain": [
       "array([ True, False,  True, False,  True])"
      ]
     },
     "execution_count": 77,
     "metadata": {},
     "output_type": "execute_result"
    }
   ],
   "source": [
    "testgbinary"
   ]
  },
  {
   "cell_type": "code",
   "execution_count": 78,
   "metadata": {},
   "outputs": [
    {
     "data": {
      "text/plain": [
       "array([False,  True, False,  True, False])"
      ]
     },
     "execution_count": 78,
     "metadata": {},
     "output_type": "execute_result"
    }
   ],
   "source": [
    "test2gbinary"
   ]
  },
  {
   "cell_type": "code",
   "execution_count": 79,
   "metadata": {},
   "outputs": [
    {
     "data": {
      "text/plain": [
       "array([ True,  True, False,  True,  True])"
      ]
     },
     "execution_count": 79,
     "metadata": {},
     "output_type": "execute_result"
    }
   ],
   "source": [
    "test3gbinary"
   ]
  },
  {
   "cell_type": "markdown",
   "metadata": {},
   "source": [
    "The jaccard index for testgbinary should be M11 = 0, n = 5, M00 = 0; J = 0/5 = 0\n",
    "\n",
    "The jaccard index for test2gbinary should be M11 = 2, n = 5, M00 = 3; J = 2/2 = 1\n",
    "\n",
    "The jaccard index for test3gbinary should be M11 = 2, n = 5, M00 = 1; J = 1/4 = 0.50"
   ]
  },
  {
   "cell_type": "code",
   "execution_count": 80,
   "metadata": {},
   "outputs": [
    {
     "data": {
      "text/plain": [
       "0.4"
      ]
     },
     "execution_count": 80,
     "metadata": {},
     "output_type": "execute_result"
    }
   ],
   "source": [
    "part1.jaccard_index(testgbinary)"
   ]
  },
  {
   "cell_type": "markdown",
   "metadata": {},
   "source": [
    "0.0"
   ]
  },
  {
   "cell_type": "code",
   "execution_count": 81,
   "metadata": {},
   "outputs": [
    {
     "data": {
      "text/plain": [
       "0.5"
      ]
     },
     "execution_count": 81,
     "metadata": {},
     "output_type": "execute_result"
    }
   ],
   "source": [
    "part1.jaccard_index(test2gbinary)"
   ]
  },
  {
   "cell_type": "raw",
   "metadata": {},
   "source": [
    "---------------------------------------------------------------------------\n",
    "ZeroDivisionError                         Traceback (most recent call last)\n",
    "<ipython-input-97-8d765aab448c> in <module>()\n",
    "----> 1 part1.jaccard_index(test2gbinary)\n",
    "\n",
    "~/Programs/cfs/cfs-reu/pso/cpso_particle.py in jaccard_index(self, gbinary)\n",
    "    371                 else:\n",
    "    372                     m00 += 1\n",
    "--> 373         return (m11 / (self.ndim - m00))\n",
    "\n",
    "ZeroDivisionError: division by zero"
   ]
  },
  {
   "cell_type": "code",
   "execution_count": 82,
   "metadata": {},
   "outputs": [
    {
     "data": {
      "text/plain": [
       "1.0"
      ]
     },
     "execution_count": 82,
     "metadata": {},
     "output_type": "execute_result"
    }
   ],
   "source": [
    "part1.jaccard_index(test3gbinary)"
   ]
  },
  {
   "cell_type": "markdown",
   "metadata": {},
   "source": [
    "0.0"
   ]
  },
  {
   "cell_type": "markdown",
   "metadata": {},
   "source": [
    "Uh oh, two of them gave back 0.0 and one divided by 0 which should be impossible. Something is wrong. Better test this line by line."
   ]
  },
  {
   "cell_type": "code",
   "execution_count": 83,
   "metadata": {},
   "outputs": [],
   "source": [
    "m11, m00 = 0, 0"
   ]
  },
  {
   "cell_type": "code",
   "execution_count": 84,
   "metadata": {},
   "outputs": [
    {
     "data": {
      "text/plain": [
       "0"
      ]
     },
     "execution_count": 84,
     "metadata": {},
     "output_type": "execute_result"
    }
   ],
   "source": [
    "m11"
   ]
  },
  {
   "cell_type": "code",
   "execution_count": 85,
   "metadata": {},
   "outputs": [
    {
     "data": {
      "text/plain": [
       "0"
      ]
     },
     "execution_count": 85,
     "metadata": {},
     "output_type": "execute_result"
    }
   ],
   "source": [
    "m00"
   ]
  },
  {
   "cell_type": "code",
   "execution_count": 86,
   "metadata": {},
   "outputs": [
    {
     "data": {
      "text/plain": [
       "array([ True,  True, False,  True,  True])"
      ]
     },
     "execution_count": 86,
     "metadata": {},
     "output_type": "execute_result"
    }
   ],
   "source": [
    "part1.b"
   ]
  },
  {
   "cell_type": "code",
   "execution_count": 87,
   "metadata": {},
   "outputs": [
    {
     "data": {
      "text/plain": [
       "5"
      ]
     },
     "execution_count": 87,
     "metadata": {},
     "output_type": "execute_result"
    }
   ],
   "source": [
    "part1.ndim"
   ]
  },
  {
   "cell_type": "code",
   "execution_count": 88,
   "metadata": {},
   "outputs": [
    {
     "data": {
      "text/plain": [
       "array([False,  True, False,  True, False])"
      ]
     },
     "execution_count": 88,
     "metadata": {},
     "output_type": "execute_result"
    }
   ],
   "source": [
    "test2gbinary"
   ]
  },
  {
   "cell_type": "code",
   "execution_count": 89,
   "metadata": {},
   "outputs": [
    {
     "name": "stdout",
     "output_type": "stream",
     "text": [
      "0\n",
      "1\n",
      "2\n",
      "3\n",
      "4\n"
     ]
    }
   ],
   "source": [
    "for i in range(part1.ndim):\n",
    "    print(i)"
   ]
  },
  {
   "cell_type": "code",
   "execution_count": 90,
   "metadata": {},
   "outputs": [
    {
     "data": {
      "text/plain": [
       "False"
      ]
     },
     "execution_count": 90,
     "metadata": {},
     "output_type": "execute_result"
    }
   ],
   "source": [
    "test2gbinary[0] is part1.b[0]"
   ]
  },
  {
   "cell_type": "code",
   "execution_count": 91,
   "metadata": {},
   "outputs": [
    {
     "data": {
      "text/plain": [
       "False"
      ]
     },
     "execution_count": 91,
     "metadata": {},
     "output_type": "execute_result"
    }
   ],
   "source": [
    "test2gbinary[0] is True"
   ]
  },
  {
   "cell_type": "code",
   "execution_count": 92,
   "metadata": {},
   "outputs": [
    {
     "name": "stdout",
     "output_type": "stream",
     "text": [
      "b            : [ True  True False  True  True]\n",
      "test2gbinary : [False  True False  True False]\n",
      "\n",
      "m11 = 0\n",
      "m00 = 0\n",
      "\n",
      "Counter: i = 0\n",
      "\n",
      "m11 = 0\n",
      "m00 = 0\n",
      "return here would be: 0.0\n",
      "\n",
      "Counter: i = 1\n",
      "IF Statement ONE\n",
      "IF Statement TWO-Else\n",
      "\n",
      "m11 = 0\n",
      "m00 = 1\n",
      "return here would be: 0.0\n",
      "\n",
      "Counter: i = 2\n",
      "IF Statement ONE\n",
      "IF Statement TWO-Else\n",
      "\n",
      "m11 = 0\n",
      "m00 = 2\n",
      "return here would be: 0.0\n",
      "\n",
      "Counter: i = 3\n",
      "IF Statement ONE\n",
      "IF Statement TWO-Else\n",
      "\n",
      "m11 = 0\n",
      "m00 = 3\n",
      "return here would be: 0.0\n",
      "\n",
      "Counter: i = 4\n",
      "\n",
      "m11 = 0\n",
      "m00 = 3\n",
      "return here would be: 0.0\n",
      "\n"
     ]
    }
   ],
   "source": [
    "print('b            : {}'.format(str(part1.b)))\n",
    "print('test2gbinary : {}'.format(str(test2gbinary)))\n",
    "m11, m00 = 0, 0\n",
    "print('\\nm11 = {}\\nm00 = {}\\n'.format(m11, m00))\n",
    "for i in range(part1.ndim):\n",
    "    print('Counter: i = {}'.format(i))\n",
    "    if test2gbinary[i] is part1.b[i]:\n",
    "        print('IF Statement ONE')\n",
    "        if test2gbinary[i] is True:\n",
    "            print('IF Statement TWO-True')\n",
    "            m11 += 1\n",
    "        else:\n",
    "            print('IF Statement TWO-Else')\n",
    "            m00 += 1\n",
    "    print('\\nm11 = {}\\nm00 = {}'.format(m11, m00))\n",
    "    print('return here would be: {}\\n'.format(m11/(part1.ndim-m00)))"
   ]
  },
  {
   "cell_type": "raw",
   "metadata": {},
   "source": [
    "b            : [False  True False  True False]\n",
    "test2gbinary : [False  True False  True False]\n",
    "\n",
    "m11 = 0\n",
    "m00 = 0\n",
    "\n",
    "Counter: i = 0\n",
    "IF Statement ONE\n",
    "IF Statement TWO-Else\n",
    "\n",
    "m11 = 0\n",
    "m00 = 1\n",
    "return here would be: 0.0\n",
    "\n",
    "Counter: i = 1\n",
    "IF Statement ONE\n",
    "IF Statement TWO-Else\n",
    "\n",
    "m11 = 0\n",
    "m00 = 2\n",
    "return here would be: 0.0\n",
    "\n",
    "Counter: i = 2\n",
    "IF Statement ONE\n",
    "IF Statement TWO-Else\n",
    "\n",
    "m11 = 0\n",
    "m00 = 3\n",
    "return here would be: 0.0\n",
    "\n",
    "Counter: i = 3\n",
    "IF Statement ONE\n",
    "IF Statement TWO-Else\n",
    "\n",
    "m11 = 0\n",
    "m00 = 4\n",
    "return here would be: 0.0\n",
    "\n",
    "Counter: i = 4\n",
    "IF Statement ONE\n",
    "IF Statement TWO-Else\n",
    "\n",
    "m11 = 0\n",
    "m00 = 5\n",
    "\n",
    "---------------------------------------------------------------------------\n",
    "ZeroDivisionError                         Traceback (most recent call last)\n",
    "<ipython-input-116-74a897ee72c1> in <module>()\n",
    "     14             m00 += 1\n",
    "     15     print('\\nm11 = {}\\nm00 = {}'.format(m11, m00))\n",
    "---> 16     print('return here would be: {}\\n'.format(m11/(part1.ndim-m00)))\n",
    "\n",
    "ZeroDivisionError: division by zero"
   ]
  },
  {
   "cell_type": "code",
   "execution_count": 93,
   "metadata": {},
   "outputs": [
    {
     "data": {
      "text/plain": [
       "True"
      ]
     },
     "execution_count": 93,
     "metadata": {},
     "output_type": "execute_result"
    }
   ],
   "source": [
    "test2gbinary[1]"
   ]
  },
  {
   "cell_type": "raw",
   "metadata": {},
   "source": [
    "True"
   ]
  },
  {
   "cell_type": "code",
   "execution_count": 94,
   "metadata": {},
   "outputs": [
    {
     "data": {
      "text/plain": [
       "False"
      ]
     },
     "execution_count": 94,
     "metadata": {},
     "output_type": "execute_result"
    }
   ],
   "source": [
    "test2gbinary[1] is True"
   ]
  },
  {
   "cell_type": "raw",
   "metadata": {},
   "source": [
    "False"
   ]
  },
  {
   "cell_type": "code",
   "execution_count": 95,
   "metadata": {},
   "outputs": [
    {
     "data": {
      "text/plain": [
       "True"
      ]
     },
     "execution_count": 95,
     "metadata": {},
     "output_type": "execute_result"
    }
   ],
   "source": [
    "test2gbinary[1] == True"
   ]
  },
  {
   "cell_type": "markdown",
   "metadata": {},
   "source": [
    "WHOA. An element of an boolean ndarray that == True does not is True"
   ]
  },
  {
   "cell_type": "code",
   "execution_count": 96,
   "metadata": {},
   "outputs": [
    {
     "name": "stdout",
     "output_type": "stream",
     "text": [
      "b            : [ True  True False  True  True]\n",
      "test2gbinary : [False  True False  True False]\n",
      "\n",
      "m11 = 0\n",
      "m00 = 0\n",
      "\n",
      "Counter: i = 0\n",
      "\n",
      "m11 = 0\n",
      "m00 = 0\n",
      "return here would be: 0.0\n",
      "\n",
      "Counter: i = 1\n",
      "IF Statement ONE\n",
      "IF Statement TWO-True\n",
      "\n",
      "m11 = 1\n",
      "m00 = 0\n",
      "return here would be: 0.2\n",
      "\n",
      "Counter: i = 2\n",
      "IF Statement ONE\n",
      "IF Statement TWO-Else\n",
      "\n",
      "m11 = 1\n",
      "m00 = 1\n",
      "return here would be: 0.25\n",
      "\n",
      "Counter: i = 3\n",
      "IF Statement ONE\n",
      "IF Statement TWO-True\n",
      "\n",
      "m11 = 2\n",
      "m00 = 1\n",
      "return here would be: 0.5\n",
      "\n",
      "Counter: i = 4\n",
      "\n",
      "m11 = 2\n",
      "m00 = 1\n",
      "return here would be: 0.5\n",
      "\n"
     ]
    }
   ],
   "source": [
    "print('b            : {}'.format(str(part1.b)))\n",
    "print('test2gbinary : {}'.format(str(test2gbinary)))\n",
    "m11, m00 = 0, 0\n",
    "print('\\nm11 = {}\\nm00 = {}\\n'.format(m11, m00))\n",
    "for i in range(part1.ndim):\n",
    "    print('Counter: i = {}'.format(i))\n",
    "    if test2gbinary[i] == part1.b[i]:\n",
    "        print('IF Statement ONE')\n",
    "        if test2gbinary[i] == True:\n",
    "            print('IF Statement TWO-True')\n",
    "            m11 += 1\n",
    "        else:\n",
    "            print('IF Statement TWO-Else')\n",
    "            m00 += 1\n",
    "    print('\\nm11 = {}\\nm00 = {}'.format(m11, m00))\n",
    "    print('return here would be: {}\\n'.format(m11/(part1.ndim-m00)))"
   ]
  },
  {
   "cell_type": "markdown",
   "metadata": {},
   "source": [
    "That seems to have fixed it. I changed all the \"is\" statements to \"==\" operators"
   ]
  },
  {
   "cell_type": "code",
   "execution_count": 97,
   "metadata": {},
   "outputs": [
    {
     "data": {
      "text/plain": [
       "array([ True,  True, False,  True,  True])"
      ]
     },
     "execution_count": 97,
     "metadata": {},
     "output_type": "execute_result"
    }
   ],
   "source": [
    "part1.b"
   ]
  },
  {
   "cell_type": "code",
   "execution_count": 99,
   "metadata": {},
   "outputs": [],
   "source": [
    "testgbinary = np.array([False, False, True, False, False])\n",
    "test2gbinary = np.array([True, True, False, True, True])\n",
    "test3gbinary = np.array([False, True, False, True, False])"
   ]
  },
  {
   "cell_type": "markdown",
   "metadata": {},
   "source": [
    "The jaccard index for testgbinary should be M11 = 0, n = 5, M00 = 0; J = 0/5 = 0\n",
    "\n",
    "The jaccard index for test2gbinary should be M11 = 4, n = 5, M00 = 1; J = 4/4 = 1\n",
    "\n",
    "The jaccard index for test3gbinary should be M11 = 2, n = 5, M00 = 1; J = 1/4 = 0.50"
   ]
  },
  {
   "cell_type": "code",
   "execution_count": 100,
   "metadata": {},
   "outputs": [
    {
     "name": "stdout",
     "output_type": "stream",
     "text": [
      "0.0\n",
      "1.0\n",
      "0.5\n"
     ]
    }
   ],
   "source": [
    "print(part1.jaccard_index(testgbinary))\n",
    "print(part1.jaccard_index(test2gbinary))\n",
    "print(part1.jaccard_index(test3gbinary))"
   ]
  },
  {
   "cell_type": "markdown",
   "metadata": {},
   "source": [
    "Yay! It worked! I trust `jaccard_index` with everything except catching a zero division error, but I don't think that is extremely important right now because if `jaccard_index()` is getting passed a gbinary of all `False` then I have problems elsewhere."
   ]
  },
  {
   "cell_type": "code",
   "execution_count": 102,
   "metadata": {},
   "outputs": [
    {
     "data": {
      "text/plain": [
       "(0.4, 0.9)"
      ]
     },
     "execution_count": 102,
     "metadata": {},
     "output_type": "execute_result"
    }
   ],
   "source": [
    "part1.w_bounds"
   ]
  },
  {
   "cell_type": "code",
   "execution_count": 103,
   "metadata": {},
   "outputs": [
    {
     "data": {
      "text/plain": [
       "0.6"
      ]
     },
     "execution_count": 103,
     "metadata": {},
     "output_type": "execute_result"
    }
   ],
   "source": [
    "part1.w"
   ]
  },
  {
   "cell_type": "markdown",
   "metadata": {},
   "source": [
    "If I pass the three test gbinary arrays above, update_inertia should give back:\n",
    "* 0.9-(0.5 * 0) = 0.9\n",
    "* 0.9-(0.5 * 1) = 0.4\n",
    "* 0.9-(0.5 * 0.5) = 0.65\n",
    "\n",
    "These should be the upper and lower bounds, and the halfway point."
   ]
  },
  {
   "cell_type": "code",
   "execution_count": 105,
   "metadata": {},
   "outputs": [
    {
     "name": "stdout",
     "output_type": "stream",
     "text": [
      "0.65\n",
      "0.9\n",
      "0.4\n",
      "0.65\n"
     ]
    }
   ],
   "source": [
    "print(part1.w)\n",
    "part1.update_inertia(testgbinary)\n",
    "print(part1.w)\n",
    "part1.update_inertia(test2gbinary)\n",
    "print(part1.w)\n",
    "part1.update_inertia(test3gbinary)\n",
    "print(part1.w)"
   ]
  },
  {
   "cell_type": "markdown",
   "metadata": {},
   "source": [
    "Yay! I trust `update_inertia()`. I think that's everything. I checked every method and they all did what I believed them to do. I also made sure that the `__init__()` method was doing what I expected. I need to double check when I test `COMB_Swarm` that it is initializing the `COMB_Particle.w` and the `COMB_Particle.p_fitness` attributes correctly."
   ]
  },
  {
   "cell_type": "code",
   "execution_count": null,
   "metadata": {},
   "outputs": [],
   "source": []
  }
 ],
 "metadata": {
  "kernelspec": {
   "display_name": "Python 3",
   "language": "python",
   "name": "python3"
  },
  "language_info": {
   "codemirror_mode": {
    "name": "ipython",
    "version": 3
   },
   "file_extension": ".py",
   "mimetype": "text/x-python",
   "name": "python",
   "nbconvert_exporter": "python",
   "pygments_lexer": "ipython3",
   "version": "3.6.4"
  }
 },
 "nbformat": 4,
 "nbformat_minor": 2
}
