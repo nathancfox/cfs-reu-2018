{
 "cells": [
  {
   "cell_type": "code",
   "execution_count": 1,
   "metadata": {},
   "outputs": [],
   "source": [
    "import numpy as np\n",
    "from cpso_particle import COMB_Particle\n",
    "from cpso_swarm import COMB_Swarm"
   ]
  },
  {
   "cell_type": "code",
   "execution_count": 2,
   "metadata": {},
   "outputs": [],
   "source": [
    "npart = 2\n",
    "c1 = 2.1\n",
    "c2 = 2.2\n",
    "c3 = 2.3\n",
    "ndim = 190\n",
    "alpha = 0.5\n",
    "test_size = 0.3\n",
    "x_bounds = (-6.0, 6.0)\n",
    "v_bounds = (-4.0, 0.25)\n",
    "w_bounds = (0.4, 0.9)\n",
    "t_bounds = (0, 3)\n",
    "data_path = 'working_data/prepped_for_classifier/data.csv'\n",
    "target_path = 'working_data/prepped_for_classifier/target.csv'"
   ]
  },
  {
   "cell_type": "code",
   "execution_count": 3,
   "metadata": {},
   "outputs": [],
   "source": [
    "swarm = COMB_Swarm(npart, c1, c2, c3, ndim, alpha, test_size,\n",
    "                   x_bounds, v_bounds, w_bounds, t_bounds,\n",
    "                   data_path, target_path)"
   ]
  },
  {
   "cell_type": "markdown",
   "metadata": {},
   "source": [
    "That's good, the `__init__` method didn't raise any errors."
   ]
  },
  {
   "cell_type": "code",
   "execution_count": 4,
   "metadata": {},
   "outputs": [
    {
     "data": {
      "text/plain": [
       "2"
      ]
     },
     "execution_count": 4,
     "metadata": {},
     "output_type": "execute_result"
    }
   ],
   "source": [
    "swarm.npart"
   ]
  },
  {
   "cell_type": "code",
   "execution_count": 5,
   "metadata": {},
   "outputs": [
    {
     "data": {
      "text/plain": [
       "2.1"
      ]
     },
     "execution_count": 5,
     "metadata": {},
     "output_type": "execute_result"
    }
   ],
   "source": [
    "swarm.c1"
   ]
  },
  {
   "cell_type": "code",
   "execution_count": 6,
   "metadata": {},
   "outputs": [
    {
     "data": {
      "text/plain": [
       "2.2"
      ]
     },
     "execution_count": 6,
     "metadata": {},
     "output_type": "execute_result"
    }
   ],
   "source": [
    "swarm.c2"
   ]
  },
  {
   "cell_type": "code",
   "execution_count": 7,
   "metadata": {},
   "outputs": [
    {
     "data": {
      "text/plain": [
       "2.3"
      ]
     },
     "execution_count": 7,
     "metadata": {},
     "output_type": "execute_result"
    }
   ],
   "source": [
    "swarm.c3"
   ]
  },
  {
   "cell_type": "code",
   "execution_count": 8,
   "metadata": {},
   "outputs": [
    {
     "data": {
      "text/plain": [
       "190"
      ]
     },
     "execution_count": 8,
     "metadata": {},
     "output_type": "execute_result"
    }
   ],
   "source": [
    "swarm.ndim"
   ]
  },
  {
   "cell_type": "code",
   "execution_count": 9,
   "metadata": {},
   "outputs": [
    {
     "data": {
      "text/plain": [
       "0.5"
      ]
     },
     "execution_count": 9,
     "metadata": {},
     "output_type": "execute_result"
    }
   ],
   "source": [
    "swarm.alpha"
   ]
  },
  {
   "cell_type": "code",
   "execution_count": 10,
   "metadata": {},
   "outputs": [
    {
     "data": {
      "text/plain": [
       "(-6.0, 6.0)"
      ]
     },
     "execution_count": 10,
     "metadata": {},
     "output_type": "execute_result"
    }
   ],
   "source": [
    "swarm.x_bounds"
   ]
  },
  {
   "cell_type": "code",
   "execution_count": 11,
   "metadata": {},
   "outputs": [
    {
     "data": {
      "text/plain": [
       "(-4.0, 0.25)"
      ]
     },
     "execution_count": 11,
     "metadata": {},
     "output_type": "execute_result"
    }
   ],
   "source": [
    "swarm.v_bounds"
   ]
  },
  {
   "cell_type": "code",
   "execution_count": 12,
   "metadata": {},
   "outputs": [
    {
     "data": {
      "text/plain": [
       "(0.4, 0.9)"
      ]
     },
     "execution_count": 12,
     "metadata": {},
     "output_type": "execute_result"
    }
   ],
   "source": [
    "swarm.w_bounds"
   ]
  },
  {
   "cell_type": "code",
   "execution_count": 13,
   "metadata": {},
   "outputs": [
    {
     "data": {
      "text/plain": [
       "(0, 3)"
      ]
     },
     "execution_count": 13,
     "metadata": {},
     "output_type": "execute_result"
    }
   ],
   "source": [
    "swarm.t_bounds"
   ]
  },
  {
   "cell_type": "code",
   "execution_count": 14,
   "metadata": {},
   "outputs": [
    {
     "data": {
      "text/plain": [
       "array([0., 0., 0., 0., 0., 0., 0., 0., 0., 0., 0., 0., 0., 0., 0., 0., 0.,\n",
       "       0., 0., 0., 0., 0., 0., 0., 0., 0., 0., 0., 0., 0., 0., 0., 0., 0.,\n",
       "       0., 0., 0., 0., 0., 0., 0., 0., 0., 0., 0., 0., 0., 0., 0., 0., 0.,\n",
       "       0., 0., 0., 0., 0., 0., 0., 0., 0., 0., 0., 0., 0., 0., 0., 0., 0.,\n",
       "       0., 0., 0., 0., 0., 0., 0., 0., 0., 0., 0., 0., 0., 0., 0., 0., 0.,\n",
       "       0., 0., 0., 0., 0., 0., 0., 0., 0., 0., 0., 0., 0., 0., 0., 0., 0.,\n",
       "       0., 0., 0., 0., 0., 0., 0., 0., 0., 0., 0., 0., 0., 0., 0., 0., 0.,\n",
       "       0., 0., 0., 0., 0., 0., 0., 0., 0., 0., 0., 0., 0., 0., 0., 0., 0.,\n",
       "       0., 0., 0., 0., 0., 0., 0., 0., 0., 0., 0., 0., 0., 0., 0., 0., 0.,\n",
       "       0., 0., 0., 0., 0., 0., 0., 0., 0., 0., 0., 0., 0., 0., 0., 0., 0.,\n",
       "       0., 0., 0., 0., 0., 0., 0., 0., 0., 0., 0., 0., 0., 0., 0., 0., 0.,\n",
       "       0., 0., 0.])"
      ]
     },
     "execution_count": 14,
     "metadata": {},
     "output_type": "execute_result"
    }
   ],
   "source": [
    "swarm.gbest"
   ]
  },
  {
   "cell_type": "code",
   "execution_count": 15,
   "metadata": {},
   "outputs": [
    {
     "data": {
      "text/plain": [
       "0"
      ]
     },
     "execution_count": 15,
     "metadata": {},
     "output_type": "execute_result"
    }
   ],
   "source": [
    "swarm.gbest_counter"
   ]
  },
  {
   "cell_type": "code",
   "execution_count": 16,
   "metadata": {},
   "outputs": [
    {
     "data": {
      "text/plain": [
       "array([0., 0., 0., 0., 0., 0., 0., 0., 0., 0., 0., 0., 0., 0., 0., 0., 0.,\n",
       "       0., 0., 0., 0., 0., 0., 0., 0., 0., 0., 0., 0., 0., 0., 0., 0., 0.,\n",
       "       0., 0., 0., 0., 0., 0., 0., 0., 0., 0., 0., 0., 0., 0., 0., 0., 0.,\n",
       "       0., 0., 0., 0., 0., 0., 0., 0., 0., 0., 0., 0., 0., 0., 0., 0., 0.,\n",
       "       0., 0., 0., 0., 0., 0., 0., 0., 0., 0., 0., 0., 0., 0., 0., 0., 0.,\n",
       "       0., 0., 0., 0., 0., 0., 0., 0., 0., 0., 0., 0., 0., 0., 0., 0., 0.,\n",
       "       0., 0., 0., 0., 0., 0., 0., 0., 0., 0., 0., 0., 0., 0., 0., 0., 0.,\n",
       "       0., 0., 0., 0., 0., 0., 0., 0., 0., 0., 0., 0., 0., 0., 0., 0., 0.,\n",
       "       0., 0., 0., 0., 0., 0., 0., 0., 0., 0., 0., 0., 0., 0., 0., 0., 0.,\n",
       "       0., 0., 0., 0., 0., 0., 0., 0., 0., 0., 0., 0., 0., 0., 0., 0., 0.,\n",
       "       0., 0., 0., 0., 0., 0., 0., 0., 0., 0., 0., 0., 0., 0., 0., 0., 0.,\n",
       "       0., 0., 0.])"
      ]
     },
     "execution_count": 16,
     "metadata": {},
     "output_type": "execute_result"
    }
   ],
   "source": [
    "swarm.gbinary"
   ]
  },
  {
   "cell_type": "code",
   "execution_count": 17,
   "metadata": {},
   "outputs": [
    {
     "data": {
      "text/plain": [
       "0.0"
      ]
     },
     "execution_count": 17,
     "metadata": {},
     "output_type": "execute_result"
    }
   ],
   "source": [
    "swarm.g_fitness"
   ]
  },
  {
   "cell_type": "code",
   "execution_count": 18,
   "metadata": {},
   "outputs": [
    {
     "data": {
      "text/plain": [
       "array([0., 0., 0., 0., 0., 0., 0., 0., 0., 0., 0., 0., 0., 0., 0., 0., 0.,\n",
       "       0., 0., 0., 0., 0., 0., 0., 0., 0., 0., 0., 0., 0., 0., 0., 0., 0.,\n",
       "       0., 0., 0., 0., 0., 0., 0., 0., 0., 0., 0., 0., 0., 0., 0., 0., 0.,\n",
       "       0., 0., 0., 0., 0., 0., 0., 0., 0., 0., 0., 0., 0., 0., 0., 0., 0.,\n",
       "       0., 0., 0., 0., 0., 0., 0., 0., 0., 0., 0., 0., 0., 0., 0., 0., 0.,\n",
       "       0., 0., 0., 0., 0., 0., 0., 0., 0., 0., 0., 0., 0., 0., 0., 0., 0.,\n",
       "       0., 0., 0., 0., 0., 0., 0., 0., 0., 0., 0., 0., 0., 0., 0., 0., 0.,\n",
       "       0., 0., 0., 0., 0., 0., 0., 0., 0., 0., 0., 0., 0., 0., 0., 0., 0.,\n",
       "       0., 0., 0., 0., 0., 0., 0., 0., 0., 0., 0., 0., 0., 0., 0., 0., 0.,\n",
       "       0., 0., 0., 0., 0., 0., 0., 0., 0., 0., 0., 0., 0., 0., 0., 0., 0.,\n",
       "       0., 0., 0., 0., 0., 0., 0., 0., 0., 0., 0., 0., 0., 0., 0., 0., 0.,\n",
       "       0., 0., 0.])"
      ]
     },
     "execution_count": 18,
     "metadata": {},
     "output_type": "execute_result"
    }
   ],
   "source": [
    "swarm.abest"
   ]
  },
  {
   "cell_type": "code",
   "execution_count": 19,
   "metadata": {},
   "outputs": [
    {
     "data": {
      "text/plain": [
       "array([0., 0., 0., 0., 0., 0., 0., 0., 0., 0., 0., 0., 0., 0., 0., 0., 0.,\n",
       "       0., 0., 0., 0., 0., 0., 0., 0., 0., 0., 0., 0., 0., 0., 0., 0., 0.,\n",
       "       0., 0., 0., 0., 0., 0., 0., 0., 0., 0., 0., 0., 0., 0., 0., 0., 0.,\n",
       "       0., 0., 0., 0., 0., 0., 0., 0., 0., 0., 0., 0., 0., 0., 0., 0., 0.,\n",
       "       0., 0., 0., 0., 0., 0., 0., 0., 0., 0., 0., 0., 0., 0., 0., 0., 0.,\n",
       "       0., 0., 0., 0., 0., 0., 0., 0., 0., 0., 0., 0., 0., 0., 0., 0., 0.,\n",
       "       0., 0., 0., 0., 0., 0., 0., 0., 0., 0., 0., 0., 0., 0., 0., 0., 0.,\n",
       "       0., 0., 0., 0., 0., 0., 0., 0., 0., 0., 0., 0., 0., 0., 0., 0., 0.,\n",
       "       0., 0., 0., 0., 0., 0., 0., 0., 0., 0., 0., 0., 0., 0., 0., 0., 0.,\n",
       "       0., 0., 0., 0., 0., 0., 0., 0., 0., 0., 0., 0., 0., 0., 0., 0., 0.,\n",
       "       0., 0., 0., 0., 0., 0., 0., 0., 0., 0., 0., 0., 0., 0., 0., 0., 0.,\n",
       "       0., 0., 0.])"
      ]
     },
     "execution_count": 19,
     "metadata": {},
     "output_type": "execute_result"
    }
   ],
   "source": [
    "swarm.abinary"
   ]
  },
  {
   "cell_type": "code",
   "execution_count": 20,
   "metadata": {},
   "outputs": [
    {
     "data": {
      "text/plain": [
       "0.0"
      ]
     },
     "execution_count": 20,
     "metadata": {},
     "output_type": "execute_result"
    }
   ],
   "source": [
    "swarm.a_fitness"
   ]
  },
  {
   "cell_type": "code",
   "execution_count": 21,
   "metadata": {},
   "outputs": [
    {
     "data": {
      "text/plain": [
       "[]"
      ]
     },
     "execution_count": 21,
     "metadata": {},
     "output_type": "execute_result"
    }
   ],
   "source": [
    "swarm.swarm"
   ]
  },
  {
   "cell_type": "code",
   "execution_count": 22,
   "metadata": {},
   "outputs": [
    {
     "data": {
      "text/plain": [
       "SVC(C=1.0, cache_size=200, class_weight=None, coef0=0.0,\n",
       "  decision_function_shape='ovr', degree=3, gamma='auto', kernel='rbf',\n",
       "  max_iter=-1, probability=False, random_state=None, shrinking=True,\n",
       "  tol=0.001, verbose=False)"
      ]
     },
     "execution_count": 22,
     "metadata": {},
     "output_type": "execute_result"
    }
   ],
   "source": [
    "swarm.clf"
   ]
  },
  {
   "cell_type": "code",
   "execution_count": 23,
   "metadata": {},
   "outputs": [
    {
     "data": {
      "text/plain": [
       "array([[22.025, 15.45 ,  0.   , ...,  0.165, 62.31 ,  0.   ],\n",
       "       [94.97 , 91.785,  0.   , ...,  0.   , 39.89 ,  0.   ],\n",
       "       [ 0.   ,  0.   ,  0.   , ...,  5.685,  3.09 ,  0.   ],\n",
       "       ...,\n",
       "       [ 3.73 ,  4.64 ,  0.26 , ...,  3.72 ,  2.41 ,  0.   ],\n",
       "       [ 8.44 ,  4.49 ,  0.9  , ...,  2.82 ,  2.03 ,  3.89 ],\n",
       "       [ 0.   ,  0.16 ,  0.   , ...,  2.21 ,  3.03 ,  0.   ]])"
      ]
     },
     "execution_count": 23,
     "metadata": {},
     "output_type": "execute_result"
    }
   ],
   "source": [
    "swarm.data"
   ]
  },
  {
   "cell_type": "code",
   "execution_count": 24,
   "metadata": {},
   "outputs": [
    {
     "data": {
      "text/plain": [
       "(256, 190)"
      ]
     },
     "execution_count": 24,
     "metadata": {},
     "output_type": "execute_result"
    }
   ],
   "source": [
    "swarm.data.shape"
   ]
  },
  {
   "cell_type": "code",
   "execution_count": 25,
   "metadata": {},
   "outputs": [
    {
     "data": {
      "text/plain": [
       "array([1, 1, 1, 1, 1, 1, 1, 1, 1, 1, 1, 1, 1, 1, 1, 1, 1, 1, 1, 1, 1, 1,\n",
       "       1, 1, 1, 1, 1, 1, 1, 1, 1, 1, 1, 1, 1, 1, 1, 1, 1, 1, 1, 1, 1, 1,\n",
       "       1, 1, 1, 1, 1, 1, 1, 1, 1, 1, 1, 1, 1, 1, 1, 1, 1, 1, 1, 1, 1, 1,\n",
       "       1, 1, 1, 1, 1, 1, 0, 0, 0, 0, 0, 0, 0, 0, 0, 0, 0, 0, 0, 0, 0, 0,\n",
       "       0, 0, 0, 0, 0, 0, 0, 0, 0, 0, 0, 0, 0, 0, 0, 0, 0, 0, 0, 0, 0, 0,\n",
       "       0, 0, 0, 0, 0, 0, 0, 0, 0, 0, 0, 0, 0, 0, 0, 0, 0, 0, 0, 0, 0, 0,\n",
       "       0, 0, 0, 0, 0, 0, 0, 0, 0, 0, 0, 0, 0, 0, 0, 0, 0, 0, 0, 0, 0, 0,\n",
       "       0, 0, 0, 0, 0, 0, 0, 0, 0, 0, 0, 0, 0, 0, 0, 0, 0, 0, 0, 0, 0, 0,\n",
       "       0, 0, 0, 0, 0, 0, 0, 0, 0, 0, 0, 0, 0, 0, 0, 0, 0, 0, 0, 0, 0, 0,\n",
       "       0, 0, 0, 0, 0, 0, 0, 0, 0, 0, 0, 0, 0, 0, 0, 0, 0, 0, 0, 0, 0, 0,\n",
       "       0, 0, 0, 0, 0, 0, 0, 0, 0, 0, 0, 0, 0, 0, 0, 0, 0, 0, 0, 0, 0, 0,\n",
       "       0, 0, 0, 0, 0, 0, 0, 0, 0, 0, 0, 0, 0, 0], dtype=int8)"
      ]
     },
     "execution_count": 25,
     "metadata": {},
     "output_type": "execute_result"
    }
   ],
   "source": [
    "swarm.target"
   ]
  },
  {
   "cell_type": "code",
   "execution_count": 26,
   "metadata": {},
   "outputs": [
    {
     "data": {
      "text/plain": [
       "(256,)"
      ]
     },
     "execution_count": 26,
     "metadata": {},
     "output_type": "execute_result"
    }
   ],
   "source": [
    "swarm.target.shape"
   ]
  },
  {
   "cell_type": "code",
   "execution_count": 27,
   "metadata": {},
   "outputs": [
    {
     "data": {
      "text/plain": [
       "array([[2.5700e+00, 2.8600e+00, 1.2600e+00, ..., 3.8800e+00, 2.5700e+00,\n",
       "        2.3600e+00],\n",
       "       [7.6855e+01, 4.1450e+01, 0.0000e+00, ..., 8.7300e+00, 4.7175e+01,\n",
       "        3.8350e+00],\n",
       "       [0.0000e+00, 0.0000e+00, 0.0000e+00, ..., 2.4800e+00, 2.1200e+00,\n",
       "        0.0000e+00],\n",
       "       ...,\n",
       "       [3.1200e+00, 2.1700e+00, 6.6000e-01, ..., 1.5900e+00, 2.1800e+00,\n",
       "        0.0000e+00],\n",
       "       [3.5100e+00, 2.2000e+00, 0.0000e+00, ..., 1.5500e+00, 2.9300e+00,\n",
       "        2.7600e+00],\n",
       "       [7.0600e+00, 4.1300e+00, 7.0000e-02, ..., 4.3000e-01, 3.6400e+00,\n",
       "        1.7900e+00]])"
      ]
     },
     "execution_count": 27,
     "metadata": {},
     "output_type": "execute_result"
    }
   ],
   "source": [
    "swarm.X_train"
   ]
  },
  {
   "cell_type": "code",
   "execution_count": 28,
   "metadata": {},
   "outputs": [
    {
     "data": {
      "text/plain": [
       "(179, 190)"
      ]
     },
     "execution_count": 28,
     "metadata": {},
     "output_type": "execute_result"
    }
   ],
   "source": [
    "swarm.X_train.shape"
   ]
  },
  {
   "cell_type": "code",
   "execution_count": 29,
   "metadata": {},
   "outputs": [
    {
     "data": {
      "text/plain": [
       "array([0, 1, 0, 0, 1, 0, 0, 0, 0, 0, 0, 0, 0, 0, 1, 0, 0, 0, 1, 0, 1, 0,\n",
       "       0, 0, 1, 0, 0, 1, 0, 0, 1, 1, 0, 1, 0, 0, 1, 0, 1, 1, 0, 1, 0, 1,\n",
       "       0, 0, 0, 0, 0, 0, 1, 0, 0, 0, 0, 0, 1, 1, 0, 0, 1, 0, 0, 0, 0, 0,\n",
       "       1, 0, 0, 0, 0, 0, 0, 0, 1, 0, 0, 0, 1, 0, 0, 1, 0, 1, 0, 0, 0, 0,\n",
       "       0, 0, 0, 0, 1, 0, 1, 1, 0, 0, 0, 0, 0, 0, 0, 0, 1, 0, 0, 0, 0, 0,\n",
       "       1, 0, 1, 1, 0, 0, 0, 0, 0, 0, 1, 0, 0, 0, 0, 1, 1, 1, 0, 0, 0, 0,\n",
       "       0, 1, 0, 0, 1, 0, 0, 0, 0, 0, 0, 0, 0, 0, 1, 0, 0, 1, 1, 0, 0, 0,\n",
       "       0, 0, 1, 1, 1, 0, 0, 0, 0, 0, 0, 1, 0, 1, 0, 1, 1, 0, 0, 1, 1, 0,\n",
       "       1, 1, 0], dtype=int8)"
      ]
     },
     "execution_count": 29,
     "metadata": {},
     "output_type": "execute_result"
    }
   ],
   "source": [
    "swarm.y_train"
   ]
  },
  {
   "cell_type": "code",
   "execution_count": 30,
   "metadata": {},
   "outputs": [
    {
     "data": {
      "text/plain": [
       "(179,)"
      ]
     },
     "execution_count": 30,
     "metadata": {},
     "output_type": "execute_result"
    }
   ],
   "source": [
    "swarm.y_train.shape"
   ]
  },
  {
   "cell_type": "code",
   "execution_count": 31,
   "metadata": {},
   "outputs": [
    {
     "data": {
      "text/plain": [
       "array([[6.03, 5.73, 2.32, ..., 2.35, 3.59, 2.51],\n",
       "       [0.  , 0.  , 0.  , ..., 2.24, 2.17, 0.  ],\n",
       "       [2.59, 2.56, 1.37, ..., 0.  , 6.79, 0.  ],\n",
       "       ...,\n",
       "       [5.34, 6.5 , 0.53, ..., 1.52, 2.59, 0.  ],\n",
       "       [4.06, 2.48, 0.11, ..., 3.67, 5.64, 2.71],\n",
       "       [2.32, 1.72, 1.09, ..., 1.85, 3.05, 0.  ]])"
      ]
     },
     "execution_count": 31,
     "metadata": {},
     "output_type": "execute_result"
    }
   ],
   "source": [
    "swarm.X_test"
   ]
  },
  {
   "cell_type": "code",
   "execution_count": 32,
   "metadata": {},
   "outputs": [
    {
     "data": {
      "text/plain": [
       "(77, 190)"
      ]
     },
     "execution_count": 32,
     "metadata": {},
     "output_type": "execute_result"
    }
   ],
   "source": [
    "swarm.X_test.shape"
   ]
  },
  {
   "cell_type": "code",
   "execution_count": 33,
   "metadata": {},
   "outputs": [
    {
     "data": {
      "text/plain": [
       "array([0, 1, 0, 1, 0, 0, 0, 0, 0, 1, 0, 0, 0, 1, 0, 0, 1, 0, 1, 0, 0, 1,\n",
       "       0, 0, 0, 0, 0, 1, 0, 1, 0, 0, 1, 0, 0, 0, 0, 0, 1, 1, 0, 0, 0, 0,\n",
       "       0, 0, 0, 1, 1, 0, 0, 1, 0, 1, 0, 1, 0, 1, 0, 0, 0, 0, 0, 0, 0, 0,\n",
       "       0, 0, 0, 0, 0, 1, 1, 0, 0, 1, 0], dtype=int8)"
      ]
     },
     "execution_count": 33,
     "metadata": {},
     "output_type": "execute_result"
    }
   ],
   "source": [
    "swarm.y_test"
   ]
  },
  {
   "cell_type": "code",
   "execution_count": 34,
   "metadata": {},
   "outputs": [
    {
     "data": {
      "text/plain": [
       "(77,)"
      ]
     },
     "execution_count": 34,
     "metadata": {},
     "output_type": "execute_result"
    }
   ],
   "source": [
    "swarm.y_test.shape"
   ]
  },
  {
   "cell_type": "code",
   "execution_count": 35,
   "metadata": {},
   "outputs": [
    {
     "data": {
      "text/plain": [
       "array([0., 0., 0., 0., 0., 0., 0., 0., 0., 0.])"
      ]
     },
     "execution_count": 35,
     "metadata": {},
     "output_type": "execute_result"
    }
   ],
   "source": [
    "swarm.final_scores"
   ]
  },
  {
   "cell_type": "markdown",
   "metadata": {},
   "source": [
    "So far so good. All the basic attribute assignments appear to have worked successfully. However, I still need to initialize my particles."
   ]
  },
  {
   "cell_type": "code",
   "execution_count": 36,
   "metadata": {},
   "outputs": [],
   "source": [
    "swarm.initialize_particles()"
   ]
  },
  {
   "cell_type": "raw",
   "metadata": {},
   "source": [
    "---------------------------------------------------------------------------\n",
    "NameError                                 Traceback (most recent call last)\n",
    "<ipython-input-37-558cb996ec64> in <module>()\n",
    "----> 1 swarm.initialize_particles()\n",
    "\n",
    "~/Programs/cfs/cfs-reu/pso/cpso_swarm.py in initialize_particles(self)\n",
    "    300         \"\"\"\n",
    "    301         for i in range(self.npart):\n",
    "--> 302             self.swarm.append(COMB_Particle(self.c1, self.c2, self.c3,\n",
    "    303                                             self.ndim, self.x_bounds,\n",
    "    304                                             self.v_bounds, self.w_bounds))\n",
    "\n",
    "~/Programs/cfs/cfs-reu/pso/cpso_swarm.py in eval_fitness(self, b)\n",
    "    501         Raises\n",
    "    502         ------\n",
    "--> 503         None\n",
    "    504         \"\"\"\n",
    "    505         # clf_perf is the same as Pb in the above equation\n",
    "\n",
    "NameError: name 'test_classify' is not defined"
   ]
  },
  {
   "cell_type": "markdown",
   "metadata": {},
   "source": [
    "Oops. In my `eval_fitness()` method, it calls the class method, `test_classify()` without using self."
   ]
  },
  {
   "cell_type": "raw",
   "metadata": {},
   "source": [
    "---------------------------------------------------------------------------\n",
    "IndexError                                Traceback (most recent call last)\n",
    "<ipython-input-36-558cb996ec64> in <module>()\n",
    "----> 1 swarm.initialize_particles()\n",
    "\n",
    "~/Programs/cfs/cfs-reu/pso/cpso_swarm.py in initialize_particles(self)\n",
    "    303                                             self.ndim, self.x_bounds,\n",
    "    304                                             self.v_bounds, self.w_bounds))\n",
    "--> 305             f = self.eval_fitness(self.swarm[i].b)\n",
    "    306             # NOTE REFERENCE : See docstring above.\n",
    "    307             self.swarm[i].p_fitness = f\n",
    "\n",
    "~/Programs/cfs/cfs-reu/pso/cpso_swarm.py in eval_fitness(self, b)\n",
    "    504         \"\"\"\n",
    "    505         # clf_perf is the same as Pb in the above equation\n",
    "--> 506         clf_perf = self.test_classify(b)\n",
    "    507         f = ((self.alpha*clf_perf)\n",
    "    508              + (   (1-self.alpha)\n",
    "\n",
    "~/Programs/cfs/cfs-reu/pso/cpso_swarm.py in test_classify(self, b)\n",
    "    463         None\n",
    "    464         \"\"\"\n",
    "--> 465         scores = cross_val_score(self.clf, self.X_train[:, b],\n",
    "    466                                  self.y_train, cv=10)\n",
    "    467         return scores.mean()\n",
    "\n",
    "IndexError: boolean index did not match indexed array along dimension 1; dimension is 190 but corresponding boolean dimension is 5"
   ]
  },
  {
   "cell_type": "markdown",
   "metadata": {},
   "source": [
    "I forgot that I set small, workable parameters that didn't match the data I passed it. I need to generate some throwaway data of a suitable size."
   ]
  },
  {
   "cell_type": "markdown",
   "metadata": {},
   "source": [
    "I'm running into a host of issues because my trash, test data is so unlike what the code is designed for. I'm going to just use the working data and see what happens."
   ]
  },
  {
   "cell_type": "markdown",
   "metadata": {},
   "source": [
    "That's good, my initialize particles didn't raise any errors."
   ]
  },
  {
   "cell_type": "code",
   "execution_count": 37,
   "metadata": {},
   "outputs": [
    {
     "data": {
      "text/plain": [
       "[<cpso_particle.COMB_Particle at 0x7f1a0c03c400>,\n",
       " <cpso_particle.COMB_Particle at 0x7f1a3b22d940>]"
      ]
     },
     "execution_count": 37,
     "metadata": {},
     "output_type": "execute_result"
    }
   ],
   "source": [
    "swarm.swarm"
   ]
  },
  {
   "cell_type": "code",
   "execution_count": 38,
   "metadata": {},
   "outputs": [
    {
     "data": {
      "text/plain": [
       "<cpso_particle.COMB_Particle at 0x7f1a0c03c400>"
      ]
     },
     "execution_count": 38,
     "metadata": {},
     "output_type": "execute_result"
    }
   ],
   "source": [
    "swarm.swarm[0]"
   ]
  },
  {
   "cell_type": "code",
   "execution_count": 39,
   "metadata": {},
   "outputs": [],
   "source": [
    "attr = ['x', 'v', 'b', 'pbest', 'pbinary', 'p_fitness', 'w', 'c1', 'c2', 'c3', 'ndim', 'x_bounds', 'v_bounds', 'w_bounds']"
   ]
  },
  {
   "cell_type": "code",
   "execution_count": 40,
   "metadata": {},
   "outputs": [
    {
     "name": "stdout",
     "output_type": "stream",
     "text": [
      "x            : [-4.83469318 -0.12564644 -5.95274    -4.90318572  0.18436723  4.29315706\n",
      "  1.52704275 -4.48632171  4.90080044  3.48213919  4.63310566 -0.8640174\n",
      "  0.68311204 -4.1838073   0.78999567 -1.19930621  5.92044179  5.56122338\n",
      "  2.88683034  0.71653616 -5.82107945 -3.86154864 -3.99117541 -3.03329265\n",
      "  0.53087105  3.07601628  4.47194369 -0.04574039  5.65360779  5.23601855\n",
      " -1.29513898  0.53190714 -3.21196718 -2.43650971 -0.14146175 -3.80563168\n",
      "  1.83753011  1.6982728  -0.40951044 -3.06392049 -2.51203685  4.47350215\n",
      " -1.97852571  0.02538952  2.17513278  2.44054265 -5.0781355  -2.6515233\n",
      " -2.32833373 -1.00273333 -3.77844854  3.68383184 -0.08132073 -3.12893351\n",
      " -1.41756166 -4.87622391 -5.09552329 -4.25163984 -5.28238184 -0.05466832\n",
      " -2.90284165  4.52660097 -5.39231822 -5.18893291  3.08623519 -3.97475235\n",
      " -1.91902771 -2.43799419  2.74138478  5.28213571  2.10288713  0.0269968\n",
      "  3.24084972  1.80663372  4.40315013  2.26625775  0.04595618  4.0201632\n",
      "  0.78352728  1.37234677 -1.67284306  4.97784767  0.95857466 -0.90261484\n",
      "  0.41299068  0.85212803  1.32118113  0.83203115 -0.29474076  2.55708121\n",
      "  3.12603787  5.76740258 -1.56236929 -2.60574009  4.21696835  3.42363255\n",
      " -1.41192731 -5.34481467  2.75601205  5.22806615 -1.90318809  4.42697738\n",
      " -2.0376851  -3.31142169  0.6923909  -0.04746191  3.10232167 -2.93128625\n",
      " -1.71655998  5.11624402 -4.66828079  3.81482338  5.34878288  2.81434037\n",
      "  0.12759607 -1.77344394 -1.08097358  2.67307794 -4.05970704  5.57763548\n",
      " -5.75421914  2.14107395  1.95936992  1.29797522 -1.3913721   3.14222976\n",
      "  5.05358088 -3.24256508 -4.22342227 -2.35721041 -3.16034133  5.60544596\n",
      " -0.86772809 -3.193729    4.43341505 -0.95529323  3.11479393 -3.42017976\n",
      "  4.67267426 -3.31451768  1.19578941  0.16795332 -4.29188964 -3.19235775\n",
      " -3.93248477  1.72314044 -0.22812776 -4.32002736 -4.93302624  4.30946261\n",
      "  4.17556845  5.82897122 -0.15785181 -0.06090068  2.11929015 -0.60705477\n",
      " -3.12295184 -0.55033483  3.43012541  5.92348013 -1.00510414 -4.54730555\n",
      "  5.83150111  5.84767498  2.26222745 -5.62654625 -2.98625541 -4.11677215\n",
      " -0.19126216 -3.27971427 -3.4195215   4.58656322  4.0171487  -0.05943719\n",
      "  2.47667384  5.35169576  2.76098305 -0.1742603  -3.53136832 -5.06408687\n",
      " -0.78270885 -3.77509378 -2.93476941  2.82554752  4.07783452  4.64709574\n",
      " -2.63907154  3.8454392  -4.55033606 -2.48049227]\n",
      "\n",
      "--------------------------------------------------------------------------------\n",
      "\n",
      "v            : [-2.36775495 -2.80446067 -2.30848166 -3.98570766 -0.21473532 -2.80610809\n",
      " -1.99574044 -3.35256051 -0.95551879 -3.55572421 -1.61848218 -2.1248478\n",
      " -2.17637758 -2.56562181 -1.11099052 -2.34806559 -1.00303848 -1.72025182\n",
      " -1.10557386 -1.93668387 -3.8008667   0.1997046  -1.38952302 -2.56303876\n",
      " -1.69448674 -1.31822309 -0.29441296 -0.3606949  -0.35096692 -0.36370382\n",
      " -1.66801287 -1.13510506  0.19438893 -2.35957344 -2.38220814 -0.29200587\n",
      " -2.77080636 -2.73413457 -0.17823697 -3.81694255 -0.69466692 -2.16710175\n",
      " -2.43424684 -3.78764322  0.23218641  0.05131494 -2.16411678 -3.30820992\n",
      " -3.01197048 -1.1097908  -2.16284662 -1.26130836 -0.13532332 -0.35855445\n",
      " -0.29175804 -0.42614221 -1.53428329 -3.38571029 -2.25608667  0.14621582\n",
      " -3.0274806  -3.23209769 -3.22345254 -2.4907545  -3.22657485 -0.41859993\n",
      " -0.9008088  -1.43759165 -3.08682499 -3.52777744 -2.1413413  -1.98249459\n",
      " -0.2401052  -3.48510418 -0.25209194 -3.18816775 -2.89766259 -2.54470432\n",
      " -1.44905535  0.06348996 -0.24347096 -2.03241362 -1.08573007 -0.06581328\n",
      " -1.13518964 -1.07632183 -3.90231008 -1.2586407  -1.88792619 -1.74671732\n",
      " -0.25938265 -2.08272672 -0.58665223 -0.06340201 -1.58875099 -2.4068437\n",
      " -3.59035166  0.03970786 -1.7243975  -3.53282233 -1.66210705 -1.63699876\n",
      " -3.32251654 -3.22005444 -3.00434103  0.16403556 -0.25595073 -2.6146289\n",
      " -0.75318118 -0.98119094 -2.54910174 -0.88308541 -3.04678859 -3.67519577\n",
      "  0.14542096 -3.38112273 -0.36082286  0.03321077 -3.43293407 -0.03143413\n",
      " -0.7391717  -0.7677716  -3.39582701 -2.82877676 -1.04829404 -3.52689647\n",
      " -2.20850278 -2.13461065 -0.12751668 -2.63342666 -3.30035824 -0.8493763\n",
      " -0.84670416 -2.66887774 -0.62885671 -3.51327379 -2.93564121 -3.36063324\n",
      " -1.03826049 -1.93071024 -3.72956188 -3.88395754 -2.35252912 -2.66990029\n",
      " -1.38522959 -3.97214447 -3.41835926 -1.58887292 -0.28285113 -3.66299409\n",
      " -3.9099257  -3.69539022 -1.63639842 -1.66992443 -1.05110771 -1.88345945\n",
      " -2.80115063 -0.05530363 -0.7595015  -3.05201397  0.12130001 -2.91906704\n",
      " -2.05655323 -0.41334408 -2.70559367 -1.18581655 -0.40851173 -1.55355133\n",
      " -0.70376949 -3.46651861 -2.87551652 -1.7510664  -2.89884081 -3.54204989\n",
      " -1.30276619 -3.49817971 -0.42804598 -1.01452389 -2.62715777 -3.49814076\n",
      " -3.25394413 -2.30739386 -2.8713931   0.07067331 -2.57305292 -2.25154955\n",
      " -3.9025744  -2.95439808 -3.90678419 -0.42506648]\n",
      "\n",
      "--------------------------------------------------------------------------------\n",
      "\n",
      "b            : [False  True False False  True  True  True False  True  True  True  True\n",
      "  True False  True False  True  True  True  True False False False False\n",
      "  True  True  True  True  True  True False  True False False  True False\n",
      "  True False  True False False  True False False  True  True False False\n",
      " False False False  True  True False False False False False False False\n",
      " False  True False False  True False  True False  True  True  True False\n",
      "  True  True  True  True  True  True  True  True  True  True False False\n",
      " False  True False  True False  True  True  True False  True  True  True\n",
      "  True False  True  True False  True False False False  True  True False\n",
      " False  True False  True  True  True False False  True  True False  True\n",
      " False  True  True  True False  True  True False False False False  True\n",
      "  True False  True False False False  True False False False False False\n",
      " False  True False False False  True  True  True False  True False False\n",
      " False False  True  True  True False  True  True  True False False False\n",
      "  True False False  True  True  True  True  True  True False False False\n",
      "  True False False  True  True  True False  True False False]\n",
      "\n",
      "--------------------------------------------------------------------------------\n",
      "\n",
      "pbest        : [-4.83469318 -0.12564644 -5.95274    -4.90318572  0.18436723  4.29315706\n",
      "  1.52704275 -4.48632171  4.90080044  3.48213919  4.63310566 -0.8640174\n",
      "  0.68311204 -4.1838073   0.78999567 -1.19930621  5.92044179  5.56122338\n",
      "  2.88683034  0.71653616 -5.82107945 -3.86154864 -3.99117541 -3.03329265\n",
      "  0.53087105  3.07601628  4.47194369 -0.04574039  5.65360779  5.23601855\n",
      " -1.29513898  0.53190714 -3.21196718 -2.43650971 -0.14146175 -3.80563168\n",
      "  1.83753011  1.6982728  -0.40951044 -3.06392049 -2.51203685  4.47350215\n",
      " -1.97852571  0.02538952  2.17513278  2.44054265 -5.0781355  -2.6515233\n",
      " -2.32833373 -1.00273333 -3.77844854  3.68383184 -0.08132073 -3.12893351\n",
      " -1.41756166 -4.87622391 -5.09552329 -4.25163984 -5.28238184 -0.05466832\n",
      " -2.90284165  4.52660097 -5.39231822 -5.18893291  3.08623519 -3.97475235\n",
      " -1.91902771 -2.43799419  2.74138478  5.28213571  2.10288713  0.0269968\n",
      "  3.24084972  1.80663372  4.40315013  2.26625775  0.04595618  4.0201632\n",
      "  0.78352728  1.37234677 -1.67284306  4.97784767  0.95857466 -0.90261484\n",
      "  0.41299068  0.85212803  1.32118113  0.83203115 -0.29474076  2.55708121\n",
      "  3.12603787  5.76740258 -1.56236929 -2.60574009  4.21696835  3.42363255\n",
      " -1.41192731 -5.34481467  2.75601205  5.22806615 -1.90318809  4.42697738\n",
      " -2.0376851  -3.31142169  0.6923909  -0.04746191  3.10232167 -2.93128625\n",
      " -1.71655998  5.11624402 -4.66828079  3.81482338  5.34878288  2.81434037\n",
      "  0.12759607 -1.77344394 -1.08097358  2.67307794 -4.05970704  5.57763548\n",
      " -5.75421914  2.14107395  1.95936992  1.29797522 -1.3913721   3.14222976\n",
      "  5.05358088 -3.24256508 -4.22342227 -2.35721041 -3.16034133  5.60544596\n",
      " -0.86772809 -3.193729    4.43341505 -0.95529323  3.11479393 -3.42017976\n",
      "  4.67267426 -3.31451768  1.19578941  0.16795332 -4.29188964 -3.19235775\n",
      " -3.93248477  1.72314044 -0.22812776 -4.32002736 -4.93302624  4.30946261\n",
      "  4.17556845  5.82897122 -0.15785181 -0.06090068  2.11929015 -0.60705477\n",
      " -3.12295184 -0.55033483  3.43012541  5.92348013 -1.00510414 -4.54730555\n",
      "  5.83150111  5.84767498  2.26222745 -5.62654625 -2.98625541 -4.11677215\n",
      " -0.19126216 -3.27971427 -3.4195215   4.58656322  4.0171487  -0.05943719\n",
      "  2.47667384  5.35169576  2.76098305 -0.1742603  -3.53136832 -5.06408687\n",
      " -0.78270885 -3.77509378 -2.93476941  2.82554752  4.07783452  4.64709574\n",
      " -2.63907154  3.8454392  -4.55033606 -2.48049227]\n",
      "\n",
      "--------------------------------------------------------------------------------\n",
      "\n",
      "pbinary      : [False  True False False  True  True  True False  True  True  True  True\n",
      "  True False  True False  True  True  True  True False False False False\n",
      "  True  True  True  True  True  True False  True False False  True False\n",
      "  True False  True False False  True False False  True  True False False\n",
      " False False False  True  True False False False False False False False\n",
      " False  True False False  True False  True False  True  True  True False\n",
      "  True  True  True  True  True  True  True  True  True  True False False\n",
      " False  True False  True False  True  True  True False  True  True  True\n",
      "  True False  True  True False  True False False False  True  True False\n",
      " False  True False  True  True  True False False  True  True False  True\n",
      " False  True  True  True False  True  True False False False False  True\n",
      "  True False  True False False False  True False False False False False\n",
      " False  True False False False  True  True  True False  True False False\n",
      " False False  True  True  True False  True  True  True False False False\n",
      "  True False False  True  True  True  True  True  True False False False\n",
      "  True False False  True  True  True False  True False False]\n",
      "\n",
      "--------------------------------------------------------------------------------\n",
      "\n",
      "p_fitness    : 0.5996818025455797\n",
      "\n",
      "--------------------------------------------------------------------------------\n",
      "\n",
      "w            : 0\n",
      "\n",
      "--------------------------------------------------------------------------------\n",
      "\n",
      "c1           : 2.1\n",
      "\n",
      "--------------------------------------------------------------------------------\n",
      "\n",
      "c2           : 2.2\n",
      "\n",
      "--------------------------------------------------------------------------------\n",
      "\n",
      "c3           : 2.3\n",
      "\n",
      "--------------------------------------------------------------------------------\n",
      "\n",
      "ndim         : 190\n",
      "\n",
      "--------------------------------------------------------------------------------\n",
      "\n",
      "x_bounds     : (-6.0, 6.0)\n",
      "\n",
      "--------------------------------------------------------------------------------\n",
      "\n",
      "v_bounds     : (-4.0, 0.25)\n",
      "\n",
      "--------------------------------------------------------------------------------\n",
      "\n",
      "w_bounds     : (0.4, 0.9)\n",
      "\n",
      "--------------------------------------------------------------------------------\n",
      "\n"
     ]
    }
   ],
   "source": [
    "for a in attr:\n",
    "    print('{:12} : {}'.format(a, str(getattr(swarm.swarm[0], a))))\n",
    "    print('\\n' + '-'*80 + '\\n')"
   ]
  },
  {
   "cell_type": "markdown",
   "metadata": {},
   "source": [
    "At a glance, that all looks good. I tested COMB_Particle already so I won't do much thorough testing, but it looks like everything propagated correctly. w should still be 0, because it is initialized in the first run of the actual algorithm in `execute_search()`. I'll double check that all the position vectors are independent copies and not references to the same location."
   ]
  },
  {
   "cell_type": "code",
   "execution_count": 41,
   "metadata": {},
   "outputs": [
    {
     "data": {
      "text/plain": [
       "True"
      ]
     },
     "execution_count": 41,
     "metadata": {},
     "output_type": "execute_result"
    }
   ],
   "source": [
    "(swarm.swarm[0].x == swarm.swarm[0].pbest).all()"
   ]
  },
  {
   "cell_type": "code",
   "execution_count": 42,
   "metadata": {},
   "outputs": [
    {
     "data": {
      "text/plain": [
       "True"
      ]
     },
     "execution_count": 42,
     "metadata": {},
     "output_type": "execute_result"
    }
   ],
   "source": [
    "(swarm.swarm[0].b == swarm.swarm[0].pbinary).all()"
   ]
  },
  {
   "cell_type": "code",
   "execution_count": 43,
   "metadata": {},
   "outputs": [
    {
     "data": {
      "text/plain": [
       "-4.834693176824778"
      ]
     },
     "execution_count": 43,
     "metadata": {},
     "output_type": "execute_result"
    }
   ],
   "source": [
    "swarm.swarm[0].x[0]"
   ]
  },
  {
   "cell_type": "code",
   "execution_count": 44,
   "metadata": {},
   "outputs": [],
   "source": [
    "swarm.swarm[0].x[0] = 0"
   ]
  },
  {
   "cell_type": "code",
   "execution_count": 45,
   "metadata": {},
   "outputs": [
    {
     "data": {
      "text/plain": [
       "False"
      ]
     },
     "execution_count": 45,
     "metadata": {},
     "output_type": "execute_result"
    }
   ],
   "source": [
    "(swarm.swarm[0].x == swarm.swarm[0].pbest).all()"
   ]
  },
  {
   "cell_type": "code",
   "execution_count": 46,
   "metadata": {},
   "outputs": [
    {
     "data": {
      "text/plain": [
       "False"
      ]
     },
     "execution_count": 46,
     "metadata": {},
     "output_type": "execute_result"
    }
   ],
   "source": [
    "swarm.swarm[0].b[0]"
   ]
  },
  {
   "cell_type": "code",
   "execution_count": 47,
   "metadata": {},
   "outputs": [],
   "source": [
    "swarm.swarm[0].b[0] = False"
   ]
  },
  {
   "cell_type": "code",
   "execution_count": 48,
   "metadata": {},
   "outputs": [
    {
     "data": {
      "text/plain": [
       "True"
      ]
     },
     "execution_count": 48,
     "metadata": {},
     "output_type": "execute_result"
    }
   ],
   "source": [
    "(swarm.swarm[0].b == swarm.swarm[0].pbinary).all()"
   ]
  },
  {
   "cell_type": "code",
   "execution_count": 49,
   "metadata": {},
   "outputs": [],
   "source": [
    "swarm.swarm[0].x[0] = 5.123637298457574\n",
    "swarm.swarm[0].b[0] = True"
   ]
  },
  {
   "cell_type": "code",
   "execution_count": 50,
   "metadata": {},
   "outputs": [
    {
     "data": {
      "text/plain": [
       "False"
      ]
     },
     "execution_count": 50,
     "metadata": {},
     "output_type": "execute_result"
    }
   ],
   "source": [
    "(swarm.swarm[0].x == swarm.swarm[0].pbest).all()"
   ]
  },
  {
   "cell_type": "code",
   "execution_count": 51,
   "metadata": {},
   "outputs": [
    {
     "data": {
      "text/plain": [
       "False"
      ]
     },
     "execution_count": 51,
     "metadata": {},
     "output_type": "execute_result"
    }
   ],
   "source": [
    "(swarm.swarm[0].b == swarm.swarm[0].pbinary).all()"
   ]
  },
  {
   "cell_type": "markdown",
   "metadata": {},
   "source": [
    "Looks good to me. Let's check the other particle and make sure it is different."
   ]
  },
  {
   "cell_type": "code",
   "execution_count": 52,
   "metadata": {},
   "outputs": [
    {
     "data": {
      "text/plain": [
       "<cpso_particle.COMB_Particle at 0x7f1a3b22d940>"
      ]
     },
     "execution_count": 52,
     "metadata": {},
     "output_type": "execute_result"
    }
   ],
   "source": [
    "swarm.swarm[1]"
   ]
  },
  {
   "cell_type": "code",
   "execution_count": 53,
   "metadata": {},
   "outputs": [
    {
     "name": "stdout",
     "output_type": "stream",
     "text": [
      "x            : [-4.26657389 -0.80248806  5.30982007 -1.25701206  0.49101063  1.03595483\n",
      "  1.28222388 -0.02213334  4.61291803  3.05210923 -2.49218515  1.53570143\n",
      " -3.21659276 -5.04540504  0.64519629 -5.58717568 -2.02567476  3.13442513\n",
      "  1.81074367  2.6263566   1.18677789 -2.46856535 -4.79176278 -4.86433974\n",
      "  2.62343566 -2.33065016  2.694799    0.07356595  3.59898785  2.35759959\n",
      " -1.30895696 -1.01827279 -5.14650989  2.17667887  5.73696182  2.23971511\n",
      " -2.84360357 -3.02159088  0.12496169 -5.49355612  0.66034876  0.93167774\n",
      " -0.68208462 -2.47742721  4.84320031 -3.70098343 -0.30573742  2.25917676\n",
      "  5.38077632 -5.39392931 -3.75647615  4.95476301 -2.04228945  2.84447188\n",
      "  1.89284095  2.38692485 -2.33037199 -3.52257589 -1.35747308 -1.13088831\n",
      "  2.76557418  2.3880455  -2.78419917 -5.28326983  0.03297823  0.95789423\n",
      " -4.86049944  0.62028322  2.454732    4.43825885 -5.62947022 -5.39338918\n",
      " -1.89180229  1.95810755  3.67809066 -2.52636918  5.41480754 -0.77396689\n",
      " -3.92786523  2.998001    0.40534753  0.07859664  2.68352038 -0.24392651\n",
      " -4.50586583 -2.54371818 -4.69007575 -0.38258054  4.98777675 -5.39483317\n",
      "  1.99730825  3.41971237  5.23146251  3.37625114 -2.07923458 -1.22385999\n",
      " -1.03979831  1.46925602 -2.21171843 -2.19727982  5.31610513  4.15318438\n",
      "  0.39112899 -0.86016024 -3.68079595 -2.77194892  1.22118237  1.88943318\n",
      "  2.64994526  2.17984503  4.87012202  0.80426692  3.56650379 -4.98864438\n",
      " -4.01513853 -3.92042747  0.72114592 -5.37902567  5.23587504 -0.79967689\n",
      " -3.79898199 -0.36917724  5.40461518  5.62047466  1.963796    5.6064457\n",
      "  3.72011469 -0.23041239  5.93709208  3.22245579 -1.1015472  -0.33541942\n",
      " -4.84688283 -5.7433273   5.05041871 -1.04233652 -2.29352388  4.0398644\n",
      "  0.1840186   0.8539608   0.17858296  2.97414567 -4.42888665  2.23449412\n",
      " -5.39198606 -2.42080187  0.5438088  -0.96365175 -4.0525567   2.494891\n",
      " -1.72290456 -5.1106655   0.43150721 -2.92726243 -3.30445035 -0.58789081\n",
      " -1.1553335  -3.01110416  4.72336993 -1.47245482  4.1336622  -1.83078401\n",
      "  3.89582533 -1.84913379  2.74448957  2.86446943  4.70693766 -3.80448539\n",
      " -5.73530567 -5.5501231   0.50122275  0.10608674  1.08059527 -1.07552529\n",
      "  3.22775674  1.3732352   0.04163305 -4.20049116  3.90017637 -0.78194419\n",
      " -4.87190824 -5.72572576 -1.7443196   4.8255699   2.94035958 -3.07533982\n",
      " -4.01131344 -5.62671879  4.84961148  2.19380229]\n",
      "\n",
      "--------------------------------------------------------------------------------\n",
      "\n",
      "v            : [-1.86024841 -3.89079253 -1.33383253 -3.25673796 -0.39937176 -3.86944486\n",
      " -2.4305088  -1.74088871 -3.00847155 -2.08490418 -1.67273397 -1.78027567\n",
      " -2.04725898 -1.43739112 -0.88723922 -1.2822727  -3.9104756  -3.84150336\n",
      " -2.73994397 -2.10567993 -1.23574459 -1.25885056 -0.54430638 -0.77827878\n",
      " -3.01216759 -3.57211557 -0.30897457 -3.88639175 -1.57454894 -0.20495423\n",
      " -1.41120274 -1.87475686 -0.67260807 -1.31282817 -2.91527265 -1.84537605\n",
      " -0.14878222 -1.38103964 -3.05213118 -0.85508271 -2.76333765 -3.92385571\n",
      " -0.76283168 -2.34648411 -1.55597117 -1.38175908 -0.07910751  0.04933739\n",
      " -3.64178733 -1.76951184 -1.67679868 -2.54778092 -3.8183899  -2.47323572\n",
      " -1.36066687 -3.07270704 -1.72798268 -0.90176463 -0.93540181 -1.99132103\n",
      " -0.26520322 -3.01824873  0.05706998 -1.87914328 -1.46692244  0.11454627\n",
      " -3.18091733 -0.11393446 -2.27767171 -2.64601772 -3.81727692 -3.92139759\n",
      "  0.12825375 -0.11959563 -1.12916543 -2.89732839 -0.03418659 -1.65358269\n",
      " -3.39560316 -1.63248627 -3.05846164 -3.22669497 -0.24182388 -1.92110136\n",
      " -0.17635262 -1.57136969 -3.70728836 -2.02021277 -3.54358895 -1.21111877\n",
      " -1.46562721  0.14509387 -1.98270017 -3.18436576 -1.16560345 -1.94253732\n",
      " -0.87071654 -0.97507093 -2.40326144 -0.41740616 -2.99818242 -3.98996176\n",
      " -0.43592711 -3.69546323 -0.10131278 -0.55118258 -3.78229792 -0.87045781\n",
      " -2.35732548 -2.16115515 -2.87683463 -0.25396803 -2.79989206 -2.57126757\n",
      " -3.53685619 -3.72394102 -0.66658552 -0.83517592 -0.07148514 -0.0585484\n",
      " -0.71824464 -3.58291802  0.1763288  -2.18329064 -0.66042985 -0.07981748\n",
      " -2.0831998  -2.87786102 -1.45313088 -3.01001163 -2.90584552 -2.38364698\n",
      " -0.82443887 -0.44553971 -1.87931966 -1.00299816 -2.18651919 -3.97831003\n",
      " -0.78213448 -2.52203883 -1.72907858 -0.15858285 -2.66620509 -1.32608629\n",
      " -1.4774906  -1.60850079 -2.97010413 -1.14461277 -2.64696769 -2.06089957\n",
      " -3.84021486 -1.68366396 -0.58569824 -0.70567856 -3.13973164 -2.75912469\n",
      " -1.48832413 -3.7612052  -0.14286162 -0.05083708 -2.61608776 -3.27918324\n",
      " -2.4416365  -3.34301295 -2.6988678  -1.85746588 -0.82294734 -1.53045976\n",
      " -1.08949548 -1.61177183 -3.98706171 -0.7957039  -3.06506212 -0.49407716\n",
      " -2.09579905 -2.30936729 -0.39137252 -3.05394662 -0.62113262 -3.47394843\n",
      " -2.41138912 -0.88396568 -1.68644026 -0.80991009 -3.21784437  0.01177566\n",
      " -3.79470161 -1.97194316 -3.54677135 -1.22698488]\n",
      "\n",
      "--------------------------------------------------------------------------------\n",
      "\n",
      "b            : [False False  True  True False  True  True False  True  True False  True\n",
      " False False  True False False  True  True  True False False False False\n",
      "  True False  True  True  True  True False False False False  True  True\n",
      " False False  True False False  True False False  True False  True  True\n",
      "  True False False  True  True  True  True  True  True False  True False\n",
      "  True  True False False  True  True False False  True  True False False\n",
      " False False  True False  True False False  True  True  True  True False\n",
      " False False False  True  True False  True  True  True  True False False\n",
      " False  True False False  True  True  True False False False False  True\n",
      "  True  True  True  True  True False False False  True False  True False\n",
      " False  True  True  True  True  True  True False  True  True False False\n",
      " False False  True False False  True False  True False  True False  True\n",
      " False False False False False  True False False  True False False False\n",
      " False False  True False  True False  True False  True  True  True False\n",
      " False False False  True  True False  True  True  True False  True  True\n",
      " False False  True  True  True False False False  True  True]\n",
      "\n",
      "--------------------------------------------------------------------------------\n",
      "\n",
      "pbest        : [-4.26657389 -0.80248806  5.30982007 -1.25701206  0.49101063  1.03595483\n",
      "  1.28222388 -0.02213334  4.61291803  3.05210923 -2.49218515  1.53570143\n",
      " -3.21659276 -5.04540504  0.64519629 -5.58717568 -2.02567476  3.13442513\n",
      "  1.81074367  2.6263566   1.18677789 -2.46856535 -4.79176278 -4.86433974\n",
      "  2.62343566 -2.33065016  2.694799    0.07356595  3.59898785  2.35759959\n",
      " -1.30895696 -1.01827279 -5.14650989  2.17667887  5.73696182  2.23971511\n",
      " -2.84360357 -3.02159088  0.12496169 -5.49355612  0.66034876  0.93167774\n",
      " -0.68208462 -2.47742721  4.84320031 -3.70098343 -0.30573742  2.25917676\n",
      "  5.38077632 -5.39392931 -3.75647615  4.95476301 -2.04228945  2.84447188\n",
      "  1.89284095  2.38692485 -2.33037199 -3.52257589 -1.35747308 -1.13088831\n",
      "  2.76557418  2.3880455  -2.78419917 -5.28326983  0.03297823  0.95789423\n",
      " -4.86049944  0.62028322  2.454732    4.43825885 -5.62947022 -5.39338918\n",
      " -1.89180229  1.95810755  3.67809066 -2.52636918  5.41480754 -0.77396689\n",
      " -3.92786523  2.998001    0.40534753  0.07859664  2.68352038 -0.24392651\n",
      " -4.50586583 -2.54371818 -4.69007575 -0.38258054  4.98777675 -5.39483317\n",
      "  1.99730825  3.41971237  5.23146251  3.37625114 -2.07923458 -1.22385999\n",
      " -1.03979831  1.46925602 -2.21171843 -2.19727982  5.31610513  4.15318438\n",
      "  0.39112899 -0.86016024 -3.68079595 -2.77194892  1.22118237  1.88943318\n",
      "  2.64994526  2.17984503  4.87012202  0.80426692  3.56650379 -4.98864438\n",
      " -4.01513853 -3.92042747  0.72114592 -5.37902567  5.23587504 -0.79967689\n",
      " -3.79898199 -0.36917724  5.40461518  5.62047466  1.963796    5.6064457\n",
      "  3.72011469 -0.23041239  5.93709208  3.22245579 -1.1015472  -0.33541942\n",
      " -4.84688283 -5.7433273   5.05041871 -1.04233652 -2.29352388  4.0398644\n",
      "  0.1840186   0.8539608   0.17858296  2.97414567 -4.42888665  2.23449412\n",
      " -5.39198606 -2.42080187  0.5438088  -0.96365175 -4.0525567   2.494891\n",
      " -1.72290456 -5.1106655   0.43150721 -2.92726243 -3.30445035 -0.58789081\n",
      " -1.1553335  -3.01110416  4.72336993 -1.47245482  4.1336622  -1.83078401\n",
      "  3.89582533 -1.84913379  2.74448957  2.86446943  4.70693766 -3.80448539\n",
      " -5.73530567 -5.5501231   0.50122275  0.10608674  1.08059527 -1.07552529\n",
      "  3.22775674  1.3732352   0.04163305 -4.20049116  3.90017637 -0.78194419\n",
      " -4.87190824 -5.72572576 -1.7443196   4.8255699   2.94035958 -3.07533982\n",
      " -4.01131344 -5.62671879  4.84961148  2.19380229]\n",
      "\n",
      "--------------------------------------------------------------------------------\n",
      "\n",
      "pbinary      : [False False  True  True False  True  True False  True  True False  True\n",
      " False False  True False False  True  True  True False False False False\n",
      "  True False  True  True  True  True False False False False  True  True\n",
      " False False  True False False  True False False  True False  True  True\n",
      "  True False False  True  True  True  True  True  True False  True False\n",
      "  True  True False False  True  True False False  True  True False False\n",
      " False False  True False  True False False  True  True  True  True False\n",
      " False False False  True  True False  True  True  True  True False False\n",
      " False  True False False  True  True  True False False False False  True\n",
      "  True  True  True  True  True False False False  True False  True False\n",
      " False  True  True  True  True  True  True False  True  True False False\n",
      " False False  True False False  True False  True False  True False  True\n",
      " False False False False False  True False False  True False False False\n",
      " False False  True False  True False  True False  True  True  True False\n",
      " False False False  True  True False  True  True  True False  True  True\n",
      " False False  True  True  True False False False  True  True]\n",
      "\n",
      "--------------------------------------------------------------------------------\n",
      "\n",
      "p_fitness    : 0.6102081183350534\n",
      "\n",
      "--------------------------------------------------------------------------------\n",
      "\n",
      "w            : 0\n",
      "\n",
      "--------------------------------------------------------------------------------\n",
      "\n",
      "c1           : 2.1\n",
      "\n",
      "--------------------------------------------------------------------------------\n",
      "\n",
      "c2           : 2.2\n",
      "\n",
      "--------------------------------------------------------------------------------\n",
      "\n",
      "c3           : 2.3\n",
      "\n",
      "--------------------------------------------------------------------------------\n",
      "\n",
      "ndim         : 190\n",
      "\n",
      "--------------------------------------------------------------------------------\n",
      "\n",
      "x_bounds     : (-6.0, 6.0)\n",
      "\n",
      "--------------------------------------------------------------------------------\n",
      "\n",
      "v_bounds     : (-4.0, 0.25)\n",
      "\n",
      "--------------------------------------------------------------------------------\n",
      "\n",
      "w_bounds     : (0.4, 0.9)\n",
      "\n",
      "--------------------------------------------------------------------------------\n",
      "\n"
     ]
    }
   ],
   "source": [
    "for a in attr:\n",
    "    print('{:12} : {}'.format(a, str(getattr(swarm.swarm[1], a))))\n",
    "    print('\\n' + '-'*80 + '\\n')"
   ]
  },
  {
   "cell_type": "markdown",
   "metadata": {},
   "source": [
    "Again this all looks reasonable. Sanity checks are all good. Everything that should be different from the first particle is different and everything that shouldn't be different is the same."
   ]
  },
  {
   "cell_type": "code",
   "execution_count": 54,
   "metadata": {},
   "outputs": [
    {
     "data": {
      "text/plain": [
       "True"
      ]
     },
     "execution_count": 54,
     "metadata": {},
     "output_type": "execute_result"
    }
   ],
   "source": [
    "(swarm.swarm[1].x == swarm.swarm[1].pbest).all()"
   ]
  },
  {
   "cell_type": "code",
   "execution_count": 55,
   "metadata": {},
   "outputs": [
    {
     "data": {
      "text/plain": [
       "True"
      ]
     },
     "execution_count": 55,
     "metadata": {},
     "output_type": "execute_result"
    }
   ],
   "source": [
    "(swarm.swarm[1].b == swarm.swarm[1].pbinary).all()"
   ]
  },
  {
   "cell_type": "code",
   "execution_count": 56,
   "metadata": {},
   "outputs": [
    {
     "data": {
      "text/plain": [
       "-4.266573889171991"
      ]
     },
     "execution_count": 56,
     "metadata": {},
     "output_type": "execute_result"
    }
   ],
   "source": [
    "swarm.swarm[1].x[0]"
   ]
  },
  {
   "cell_type": "code",
   "execution_count": 57,
   "metadata": {},
   "outputs": [],
   "source": [
    "swarm.swarm[1].x[0] = 0"
   ]
  },
  {
   "cell_type": "code",
   "execution_count": 58,
   "metadata": {},
   "outputs": [
    {
     "data": {
      "text/plain": [
       "False"
      ]
     },
     "execution_count": 58,
     "metadata": {},
     "output_type": "execute_result"
    }
   ],
   "source": [
    "(swarm.swarm[1].x == swarm.swarm[1].pbest).all()"
   ]
  },
  {
   "cell_type": "code",
   "execution_count": 59,
   "metadata": {},
   "outputs": [
    {
     "data": {
      "text/plain": [
       "False"
      ]
     },
     "execution_count": 59,
     "metadata": {},
     "output_type": "execute_result"
    }
   ],
   "source": [
    "swarm.swarm[1].b[0]"
   ]
  },
  {
   "cell_type": "code",
   "execution_count": 60,
   "metadata": {},
   "outputs": [],
   "source": [
    "swarm.swarm[1].b[0] = True"
   ]
  },
  {
   "cell_type": "code",
   "execution_count": 61,
   "metadata": {},
   "outputs": [
    {
     "data": {
      "text/plain": [
       "False"
      ]
     },
     "execution_count": 61,
     "metadata": {},
     "output_type": "execute_result"
    }
   ],
   "source": [
    "(swarm.swarm[1].b == swarm.swarm[1].pbinary).all()"
   ]
  },
  {
   "cell_type": "code",
   "execution_count": 62,
   "metadata": {},
   "outputs": [],
   "source": [
    "swarm.swarm[1].x[0] = -3.2698038841035957\n",
    "swarm.swarm[1].b[0] = False"
   ]
  },
  {
   "cell_type": "code",
   "execution_count": 63,
   "metadata": {},
   "outputs": [
    {
     "data": {
      "text/plain": [
       "False"
      ]
     },
     "execution_count": 63,
     "metadata": {},
     "output_type": "execute_result"
    }
   ],
   "source": [
    "(swarm.swarm[1].x == swarm.swarm[1].pbest).all()"
   ]
  },
  {
   "cell_type": "code",
   "execution_count": 64,
   "metadata": {},
   "outputs": [
    {
     "data": {
      "text/plain": [
       "True"
      ]
     },
     "execution_count": 64,
     "metadata": {},
     "output_type": "execute_result"
    }
   ],
   "source": [
    "(swarm.swarm[1].b == swarm.swarm[1].pbinary).all()"
   ]
  },
  {
   "cell_type": "markdown",
   "metadata": {},
   "source": [
    "Again, all these sanity checks seem to work. I'm not testing very rigorously because I trust the internal workings of the COMB_Particle class based on a previous testing session."
   ]
  },
  {
   "cell_type": "markdown",
   "metadata": {},
   "source": [
    "Things that I am not sure if they worked or not: `eval_fitness()`"
   ]
  },
  {
   "cell_type": "code",
   "execution_count": 65,
   "metadata": {},
   "outputs": [
    {
     "data": {
      "text/plain": [
       "array([-4.26657389, -0.80248806,  5.30982007, -1.25701206,  0.49101063,\n",
       "        1.03595483,  1.28222388, -0.02213334,  4.61291803,  3.05210923,\n",
       "       -2.49218515,  1.53570143, -3.21659276, -5.04540504,  0.64519629,\n",
       "       -5.58717568, -2.02567476,  3.13442513,  1.81074367,  2.6263566 ,\n",
       "        1.18677789, -2.46856535, -4.79176278, -4.86433974,  2.62343566,\n",
       "       -2.33065016,  2.694799  ,  0.07356595,  3.59898785,  2.35759959,\n",
       "       -1.30895696, -1.01827279, -5.14650989,  2.17667887,  5.73696182,\n",
       "        2.23971511, -2.84360357, -3.02159088,  0.12496169, -5.49355612,\n",
       "        0.66034876,  0.93167774, -0.68208462, -2.47742721,  4.84320031,\n",
       "       -3.70098343, -0.30573742,  2.25917676,  5.38077632, -5.39392931,\n",
       "       -3.75647615,  4.95476301, -2.04228945,  2.84447188,  1.89284095,\n",
       "        2.38692485, -2.33037199, -3.52257589, -1.35747308, -1.13088831,\n",
       "        2.76557418,  2.3880455 , -2.78419917, -5.28326983,  0.03297823,\n",
       "        0.95789423, -4.86049944,  0.62028322,  2.454732  ,  4.43825885,\n",
       "       -5.62947022, -5.39338918, -1.89180229,  1.95810755,  3.67809066,\n",
       "       -2.52636918,  5.41480754, -0.77396689, -3.92786523,  2.998001  ,\n",
       "        0.40534753,  0.07859664,  2.68352038, -0.24392651, -4.50586583,\n",
       "       -2.54371818, -4.69007575, -0.38258054,  4.98777675, -5.39483317,\n",
       "        1.99730825,  3.41971237,  5.23146251,  3.37625114, -2.07923458,\n",
       "       -1.22385999, -1.03979831,  1.46925602, -2.21171843, -2.19727982,\n",
       "        5.31610513,  4.15318438,  0.39112899, -0.86016024, -3.68079595,\n",
       "       -2.77194892,  1.22118237,  1.88943318,  2.64994526,  2.17984503,\n",
       "        4.87012202,  0.80426692,  3.56650379, -4.98864438, -4.01513853,\n",
       "       -3.92042747,  0.72114592, -5.37902567,  5.23587504, -0.79967689,\n",
       "       -3.79898199, -0.36917724,  5.40461518,  5.62047466,  1.963796  ,\n",
       "        5.6064457 ,  3.72011469, -0.23041239,  5.93709208,  3.22245579,\n",
       "       -1.1015472 , -0.33541942, -4.84688283, -5.7433273 ,  5.05041871,\n",
       "       -1.04233652, -2.29352388,  4.0398644 ,  0.1840186 ,  0.8539608 ,\n",
       "        0.17858296,  2.97414567, -4.42888665,  2.23449412, -5.39198606,\n",
       "       -2.42080187,  0.5438088 , -0.96365175, -4.0525567 ,  2.494891  ,\n",
       "       -1.72290456, -5.1106655 ,  0.43150721, -2.92726243, -3.30445035,\n",
       "       -0.58789081, -1.1553335 , -3.01110416,  4.72336993, -1.47245482,\n",
       "        4.1336622 , -1.83078401,  3.89582533, -1.84913379,  2.74448957,\n",
       "        2.86446943,  4.70693766, -3.80448539, -5.73530567, -5.5501231 ,\n",
       "        0.50122275,  0.10608674,  1.08059527, -1.07552529,  3.22775674,\n",
       "        1.3732352 ,  0.04163305, -4.20049116,  3.90017637, -0.78194419,\n",
       "       -4.87190824, -5.72572576, -1.7443196 ,  4.8255699 ,  2.94035958,\n",
       "       -3.07533982, -4.01131344, -5.62671879,  4.84961148,  2.19380229])"
      ]
     },
     "execution_count": 65,
     "metadata": {},
     "output_type": "execute_result"
    }
   ],
   "source": [
    "swarm.gbest"
   ]
  },
  {
   "cell_type": "code",
   "execution_count": 66,
   "metadata": {},
   "outputs": [
    {
     "data": {
      "text/plain": [
       "0.6102081183350534"
      ]
     },
     "execution_count": 66,
     "metadata": {},
     "output_type": "execute_result"
    }
   ],
   "source": [
    "swarm.g_fitness"
   ]
  },
  {
   "cell_type": "code",
   "execution_count": 67,
   "metadata": {},
   "outputs": [
    {
     "data": {
      "text/plain": [
       "0"
      ]
     },
     "execution_count": 67,
     "metadata": {},
     "output_type": "execute_result"
    }
   ],
   "source": [
    "swarm.gbest_counter"
   ]
  },
  {
   "cell_type": "code",
   "execution_count": 68,
   "metadata": {},
   "outputs": [
    {
     "data": {
      "text/plain": [
       "array([False, False,  True,  True, False,  True,  True, False,  True,\n",
       "        True, False,  True, False, False,  True, False, False,  True,\n",
       "        True,  True, False, False, False, False,  True, False,  True,\n",
       "        True,  True,  True, False, False, False, False,  True,  True,\n",
       "       False, False,  True, False, False,  True, False, False,  True,\n",
       "       False,  True,  True,  True, False, False,  True,  True,  True,\n",
       "        True,  True,  True, False,  True, False,  True,  True, False,\n",
       "       False,  True,  True, False, False,  True,  True, False, False,\n",
       "       False, False,  True, False,  True, False, False,  True,  True,\n",
       "        True,  True, False, False, False, False,  True,  True, False,\n",
       "        True,  True,  True,  True, False, False, False,  True, False,\n",
       "       False,  True,  True,  True, False, False, False, False,  True,\n",
       "        True,  True,  True,  True,  True, False, False, False,  True,\n",
       "       False,  True, False, False,  True,  True,  True,  True,  True,\n",
       "        True, False,  True,  True, False, False, False, False,  True,\n",
       "       False, False,  True, False,  True, False,  True, False,  True,\n",
       "       False, False, False, False, False,  True, False, False,  True,\n",
       "       False, False, False, False, False,  True, False,  True, False,\n",
       "        True, False,  True,  True,  True, False, False, False, False,\n",
       "        True,  True, False,  True,  True,  True, False,  True,  True,\n",
       "       False, False,  True,  True,  True, False, False, False,  True,\n",
       "        True])"
      ]
     },
     "execution_count": 68,
     "metadata": {},
     "output_type": "execute_result"
    }
   ],
   "source": [
    "swarm.gbinary"
   ]
  },
  {
   "cell_type": "code",
   "execution_count": 69,
   "metadata": {},
   "outputs": [
    {
     "data": {
      "text/plain": [
       "array([-4.26657389, -0.80248806,  5.30982007, -1.25701206,  0.49101063,\n",
       "        1.03595483,  1.28222388, -0.02213334,  4.61291803,  3.05210923,\n",
       "       -2.49218515,  1.53570143, -3.21659276, -5.04540504,  0.64519629,\n",
       "       -5.58717568, -2.02567476,  3.13442513,  1.81074367,  2.6263566 ,\n",
       "        1.18677789, -2.46856535, -4.79176278, -4.86433974,  2.62343566,\n",
       "       -2.33065016,  2.694799  ,  0.07356595,  3.59898785,  2.35759959,\n",
       "       -1.30895696, -1.01827279, -5.14650989,  2.17667887,  5.73696182,\n",
       "        2.23971511, -2.84360357, -3.02159088,  0.12496169, -5.49355612,\n",
       "        0.66034876,  0.93167774, -0.68208462, -2.47742721,  4.84320031,\n",
       "       -3.70098343, -0.30573742,  2.25917676,  5.38077632, -5.39392931,\n",
       "       -3.75647615,  4.95476301, -2.04228945,  2.84447188,  1.89284095,\n",
       "        2.38692485, -2.33037199, -3.52257589, -1.35747308, -1.13088831,\n",
       "        2.76557418,  2.3880455 , -2.78419917, -5.28326983,  0.03297823,\n",
       "        0.95789423, -4.86049944,  0.62028322,  2.454732  ,  4.43825885,\n",
       "       -5.62947022, -5.39338918, -1.89180229,  1.95810755,  3.67809066,\n",
       "       -2.52636918,  5.41480754, -0.77396689, -3.92786523,  2.998001  ,\n",
       "        0.40534753,  0.07859664,  2.68352038, -0.24392651, -4.50586583,\n",
       "       -2.54371818, -4.69007575, -0.38258054,  4.98777675, -5.39483317,\n",
       "        1.99730825,  3.41971237,  5.23146251,  3.37625114, -2.07923458,\n",
       "       -1.22385999, -1.03979831,  1.46925602, -2.21171843, -2.19727982,\n",
       "        5.31610513,  4.15318438,  0.39112899, -0.86016024, -3.68079595,\n",
       "       -2.77194892,  1.22118237,  1.88943318,  2.64994526,  2.17984503,\n",
       "        4.87012202,  0.80426692,  3.56650379, -4.98864438, -4.01513853,\n",
       "       -3.92042747,  0.72114592, -5.37902567,  5.23587504, -0.79967689,\n",
       "       -3.79898199, -0.36917724,  5.40461518,  5.62047466,  1.963796  ,\n",
       "        5.6064457 ,  3.72011469, -0.23041239,  5.93709208,  3.22245579,\n",
       "       -1.1015472 , -0.33541942, -4.84688283, -5.7433273 ,  5.05041871,\n",
       "       -1.04233652, -2.29352388,  4.0398644 ,  0.1840186 ,  0.8539608 ,\n",
       "        0.17858296,  2.97414567, -4.42888665,  2.23449412, -5.39198606,\n",
       "       -2.42080187,  0.5438088 , -0.96365175, -4.0525567 ,  2.494891  ,\n",
       "       -1.72290456, -5.1106655 ,  0.43150721, -2.92726243, -3.30445035,\n",
       "       -0.58789081, -1.1553335 , -3.01110416,  4.72336993, -1.47245482,\n",
       "        4.1336622 , -1.83078401,  3.89582533, -1.84913379,  2.74448957,\n",
       "        2.86446943,  4.70693766, -3.80448539, -5.73530567, -5.5501231 ,\n",
       "        0.50122275,  0.10608674,  1.08059527, -1.07552529,  3.22775674,\n",
       "        1.3732352 ,  0.04163305, -4.20049116,  3.90017637, -0.78194419,\n",
       "       -4.87190824, -5.72572576, -1.7443196 ,  4.8255699 ,  2.94035958,\n",
       "       -3.07533982, -4.01131344, -5.62671879,  4.84961148,  2.19380229])"
      ]
     },
     "execution_count": 69,
     "metadata": {},
     "output_type": "execute_result"
    }
   ],
   "source": [
    "swarm.abest"
   ]
  },
  {
   "cell_type": "code",
   "execution_count": 70,
   "metadata": {},
   "outputs": [
    {
     "data": {
      "text/plain": [
       "0.6102081183350534"
      ]
     },
     "execution_count": 70,
     "metadata": {},
     "output_type": "execute_result"
    }
   ],
   "source": [
    "swarm.a_fitness"
   ]
  },
  {
   "cell_type": "code",
   "execution_count": 71,
   "metadata": {},
   "outputs": [
    {
     "data": {
      "text/plain": [
       "array([False, False,  True,  True, False,  True,  True, False,  True,\n",
       "        True, False,  True, False, False,  True, False, False,  True,\n",
       "        True,  True, False, False, False, False,  True, False,  True,\n",
       "        True,  True,  True, False, False, False, False,  True,  True,\n",
       "       False, False,  True, False, False,  True, False, False,  True,\n",
       "       False,  True,  True,  True, False, False,  True,  True,  True,\n",
       "        True,  True,  True, False,  True, False,  True,  True, False,\n",
       "       False,  True,  True, False, False,  True,  True, False, False,\n",
       "       False, False,  True, False,  True, False, False,  True,  True,\n",
       "        True,  True, False, False, False, False,  True,  True, False,\n",
       "        True,  True,  True,  True, False, False, False,  True, False,\n",
       "       False,  True,  True,  True, False, False, False, False,  True,\n",
       "        True,  True,  True,  True,  True, False, False, False,  True,\n",
       "       False,  True, False, False,  True,  True,  True,  True,  True,\n",
       "        True, False,  True,  True, False, False, False, False,  True,\n",
       "       False, False,  True, False,  True, False,  True, False,  True,\n",
       "       False, False, False, False, False,  True, False, False,  True,\n",
       "       False, False, False, False, False,  True, False,  True, False,\n",
       "        True, False,  True,  True,  True, False, False, False, False,\n",
       "        True,  True, False,  True,  True,  True, False,  True,  True,\n",
       "       False, False,  True,  True,  True, False, False, False,  True,\n",
       "        True])"
      ]
     },
     "execution_count": 71,
     "metadata": {},
     "output_type": "execute_result"
    }
   ],
   "source": [
    "swarm.abinary"
   ]
  },
  {
   "cell_type": "markdown",
   "metadata": {},
   "source": [
    "Those look correct. I manually matched them to the 1st particle in the list, which certainly has a higher fitness reported by `eval_fitness()` so this assignment of the global and archived bests appears to be working."
   ]
  },
  {
   "cell_type": "code",
   "execution_count": 72,
   "metadata": {},
   "outputs": [],
   "source": [
    "swarm.gbest_counter = 3\n",
    "swarm.shuffle_gbest()"
   ]
  },
  {
   "cell_type": "code",
   "execution_count": 73,
   "metadata": {},
   "outputs": [
    {
     "data": {
      "text/plain": [
       "array([-0.24967007,  1.05491736, -5.32842393, -0.01689856,  3.49328427,\n",
       "       -3.51339146,  2.83301602, -2.11701832, -4.55706486, -3.88682442,\n",
       "        0.745835  , -1.89742288, -0.6004558 , -5.13154512, -2.93527136,\n",
       "       -3.48032912, -0.25012708, -0.92242358,  5.71294586, -3.26733598,\n",
       "       -3.79655016,  0.04395053,  4.07116596, -2.51011328, -2.94686382,\n",
       "        5.9373889 , -0.49012684, -1.25115636, -2.30543019,  2.02903163,\n",
       "       -5.01969855, -3.32268679,  1.60390889,  1.64365586,  2.47446828,\n",
       "        2.01479941,  2.96374183, -1.45590338,  2.70349298,  0.57729976,\n",
       "        4.47962468, -2.15555487, -0.80750538,  5.77596172,  0.9162143 ,\n",
       "        2.61152916,  4.00432243, -0.67507243,  3.92353344, -2.47421542,\n",
       "        1.11470691, -4.04790712, -2.72889041,  1.27288988, -2.24681544,\n",
       "        3.80394051, -0.97248903, -5.77182912, -0.49540006,  4.32900735,\n",
       "       -0.40186727,  0.5048731 , -4.0356437 ,  2.17763343,  2.78087568,\n",
       "        2.3127712 , -5.21885242, -3.97625007, -2.10593352,  2.30874732,\n",
       "        3.31926118,  3.06087229,  1.93229776,  4.5888089 , -4.06826822,\n",
       "       -0.48007685,  5.00717507,  2.44507016, -0.51422464, -0.31298307,\n",
       "       -2.4292543 , -0.15824354,  4.40619909,  4.63166061,  1.28081369,\n",
       "       -5.56990257,  0.08607583,  4.61857156, -1.67105103,  2.47756416,\n",
       "        2.39232051,  2.69437036, -3.25264317, -3.26407875, -4.05057741,\n",
       "       -2.46655952,  5.94397888,  0.06019441, -3.35919327, -3.01733318,\n",
       "       -5.33977563,  3.7155842 , -2.32978001,  1.86970549,  0.93132861,\n",
       "        5.77780244, -0.60039508, -0.25992407, -5.2180864 , -0.94875533,\n",
       "       -2.95188829,  4.34806781, -4.70098485, -0.32826621, -0.99947309,\n",
       "       -5.27476491,  5.3955355 ,  2.24216731, -1.39571813,  0.20045756,\n",
       "       -5.9378793 ,  5.41474753, -2.32814922, -3.66575853, -5.43014557,\n",
       "       -4.5298906 ,  3.06563169,  0.18623714, -3.61390195,  1.08026656,\n",
       "       -2.44439229,  0.23291013,  1.21344615, -0.52580395,  0.11992487,\n",
       "        4.87326994, -0.19861269, -3.31833024,  4.06987697, -1.41162637,\n",
       "        1.19904455,  4.00946807,  2.96540459, -2.50390332,  4.63947075,\n",
       "       -3.93044589,  3.89195201,  2.02698043, -5.01012146, -0.72375744,\n",
       "       -3.55447355, -3.72065432,  5.30175071,  5.07071906, -3.7843061 ,\n",
       "        3.50798913, -2.63456166, -4.69242773, -1.28076445,  4.39104039,\n",
       "       -3.23894773, -1.51421306,  1.39535072,  2.35792778,  4.25137485,\n",
       "       -2.4801752 ,  3.68333933, -5.77265147, -3.93882957,  2.38332362,\n",
       "        3.10119583, -4.57680583, -3.36910258,  5.42971046, -4.08297161,\n",
       "       -5.59337136,  5.03086322, -0.41612155,  1.90320692, -2.026423  ,\n",
       "       -2.76142175,  5.67354882,  5.10694919,  1.2740917 , -3.14720538,\n",
       "       -3.37587701, -2.78041226,  4.66127721,  3.9737113 , -4.43671688])"
      ]
     },
     "execution_count": 73,
     "metadata": {},
     "output_type": "execute_result"
    }
   ],
   "source": [
    "swarm.gbest"
   ]
  },
  {
   "cell_type": "code",
   "execution_count": 74,
   "metadata": {},
   "outputs": [
    {
     "data": {
      "text/plain": [
       "0.620734434124527"
      ]
     },
     "execution_count": 74,
     "metadata": {},
     "output_type": "execute_result"
    }
   ],
   "source": [
    "swarm.g_fitness"
   ]
  },
  {
   "cell_type": "code",
   "execution_count": 75,
   "metadata": {},
   "outputs": [
    {
     "data": {
      "text/plain": [
       "0"
      ]
     },
     "execution_count": 75,
     "metadata": {},
     "output_type": "execute_result"
    }
   ],
   "source": [
    "swarm.gbest_counter"
   ]
  },
  {
   "cell_type": "code",
   "execution_count": 76,
   "metadata": {},
   "outputs": [
    {
     "data": {
      "text/plain": [
       "array([False,  True, False,  True,  True, False,  True, False, False,\n",
       "       False, False, False,  True, False, False, False, False, False,\n",
       "        True, False, False, False,  True, False, False,  True,  True,\n",
       "       False, False,  True, False, False,  True,  True, False,  True,\n",
       "        True, False,  True,  True,  True, False, False,  True,  True,\n",
       "        True,  True, False,  True, False, False, False, False,  True,\n",
       "       False,  True, False, False, False,  True, False, False, False,\n",
       "        True,  True,  True, False, False,  True,  True, False,  True,\n",
       "        True,  True, False, False,  True,  True,  True, False, False,\n",
       "       False,  True,  True, False, False,  True,  True, False,  True,\n",
       "        True,  True, False, False, False, False,  True, False, False,\n",
       "       False, False,  True, False,  True,  True,  True, False, False,\n",
       "       False,  True, False,  True, False, False, False, False,  True,\n",
       "        True, False,  True, False,  True,  True, False, False, False,\n",
       "        True, False, False,  True, False,  True, False, False, False,\n",
       "        True,  True, False,  True, False,  True,  True,  True, False,\n",
       "        True, False,  True,  True, False,  True, False, False,  True,\n",
       "        True,  True,  True, False, False,  True,  True, False, False,\n",
       "        True,  True,  True, False,  True, False, False,  True,  True,\n",
       "        True, False,  True, False, False,  True, False,  True,  True,\n",
       "       False,  True,  True,  True, False, False, False,  True,  True,\n",
       "       False])"
      ]
     },
     "execution_count": 76,
     "metadata": {},
     "output_type": "execute_result"
    }
   ],
   "source": [
    "swarm.gbinary"
   ]
  },
  {
   "cell_type": "code",
   "execution_count": 77,
   "metadata": {},
   "outputs": [
    {
     "data": {
      "text/plain": [
       "array([-0.24967007,  1.05491736, -5.32842393, -0.01689856,  3.49328427,\n",
       "       -3.51339146,  2.83301602, -2.11701832, -4.55706486, -3.88682442,\n",
       "        0.745835  , -1.89742288, -0.6004558 , -5.13154512, -2.93527136,\n",
       "       -3.48032912, -0.25012708, -0.92242358,  5.71294586, -3.26733598,\n",
       "       -3.79655016,  0.04395053,  4.07116596, -2.51011328, -2.94686382,\n",
       "        5.9373889 , -0.49012684, -1.25115636, -2.30543019,  2.02903163,\n",
       "       -5.01969855, -3.32268679,  1.60390889,  1.64365586,  2.47446828,\n",
       "        2.01479941,  2.96374183, -1.45590338,  2.70349298,  0.57729976,\n",
       "        4.47962468, -2.15555487, -0.80750538,  5.77596172,  0.9162143 ,\n",
       "        2.61152916,  4.00432243, -0.67507243,  3.92353344, -2.47421542,\n",
       "        1.11470691, -4.04790712, -2.72889041,  1.27288988, -2.24681544,\n",
       "        3.80394051, -0.97248903, -5.77182912, -0.49540006,  4.32900735,\n",
       "       -0.40186727,  0.5048731 , -4.0356437 ,  2.17763343,  2.78087568,\n",
       "        2.3127712 , -5.21885242, -3.97625007, -2.10593352,  2.30874732,\n",
       "        3.31926118,  3.06087229,  1.93229776,  4.5888089 , -4.06826822,\n",
       "       -0.48007685,  5.00717507,  2.44507016, -0.51422464, -0.31298307,\n",
       "       -2.4292543 , -0.15824354,  4.40619909,  4.63166061,  1.28081369,\n",
       "       -5.56990257,  0.08607583,  4.61857156, -1.67105103,  2.47756416,\n",
       "        2.39232051,  2.69437036, -3.25264317, -3.26407875, -4.05057741,\n",
       "       -2.46655952,  5.94397888,  0.06019441, -3.35919327, -3.01733318,\n",
       "       -5.33977563,  3.7155842 , -2.32978001,  1.86970549,  0.93132861,\n",
       "        5.77780244, -0.60039508, -0.25992407, -5.2180864 , -0.94875533,\n",
       "       -2.95188829,  4.34806781, -4.70098485, -0.32826621, -0.99947309,\n",
       "       -5.27476491,  5.3955355 ,  2.24216731, -1.39571813,  0.20045756,\n",
       "       -5.9378793 ,  5.41474753, -2.32814922, -3.66575853, -5.43014557,\n",
       "       -4.5298906 ,  3.06563169,  0.18623714, -3.61390195,  1.08026656,\n",
       "       -2.44439229,  0.23291013,  1.21344615, -0.52580395,  0.11992487,\n",
       "        4.87326994, -0.19861269, -3.31833024,  4.06987697, -1.41162637,\n",
       "        1.19904455,  4.00946807,  2.96540459, -2.50390332,  4.63947075,\n",
       "       -3.93044589,  3.89195201,  2.02698043, -5.01012146, -0.72375744,\n",
       "       -3.55447355, -3.72065432,  5.30175071,  5.07071906, -3.7843061 ,\n",
       "        3.50798913, -2.63456166, -4.69242773, -1.28076445,  4.39104039,\n",
       "       -3.23894773, -1.51421306,  1.39535072,  2.35792778,  4.25137485,\n",
       "       -2.4801752 ,  3.68333933, -5.77265147, -3.93882957,  2.38332362,\n",
       "        3.10119583, -4.57680583, -3.36910258,  5.42971046, -4.08297161,\n",
       "       -5.59337136,  5.03086322, -0.41612155,  1.90320692, -2.026423  ,\n",
       "       -2.76142175,  5.67354882,  5.10694919,  1.2740917 , -3.14720538,\n",
       "       -3.37587701, -2.78041226,  4.66127721,  3.9737113 , -4.43671688])"
      ]
     },
     "execution_count": 77,
     "metadata": {},
     "output_type": "execute_result"
    }
   ],
   "source": [
    "swarm.abest"
   ]
  },
  {
   "cell_type": "code",
   "execution_count": 78,
   "metadata": {},
   "outputs": [
    {
     "data": {
      "text/plain": [
       "0.620734434124527"
      ]
     },
     "execution_count": 78,
     "metadata": {},
     "output_type": "execute_result"
    }
   ],
   "source": [
    "swarm.a_fitness"
   ]
  },
  {
   "cell_type": "code",
   "execution_count": 79,
   "metadata": {},
   "outputs": [
    {
     "data": {
      "text/plain": [
       "array([False,  True, False,  True,  True, False,  True, False, False,\n",
       "       False, False, False,  True, False, False, False, False, False,\n",
       "        True, False, False, False,  True, False, False,  True,  True,\n",
       "       False, False,  True, False, False,  True,  True, False,  True,\n",
       "        True, False,  True,  True,  True, False, False,  True,  True,\n",
       "        True,  True, False,  True, False, False, False, False,  True,\n",
       "       False,  True, False, False, False,  True, False, False, False,\n",
       "        True,  True,  True, False, False,  True,  True, False,  True,\n",
       "        True,  True, False, False,  True,  True,  True, False, False,\n",
       "       False,  True,  True, False, False,  True,  True, False,  True,\n",
       "        True,  True, False, False, False, False,  True, False, False,\n",
       "       False, False,  True, False,  True,  True,  True, False, False,\n",
       "       False,  True, False,  True, False, False, False, False,  True,\n",
       "        True, False,  True, False,  True,  True, False, False, False,\n",
       "        True, False, False,  True, False,  True, False, False, False,\n",
       "        True,  True, False,  True, False,  True,  True,  True, False,\n",
       "        True, False,  True,  True, False,  True, False, False,  True,\n",
       "        True,  True,  True, False, False,  True,  True, False, False,\n",
       "        True,  True,  True, False,  True, False, False,  True,  True,\n",
       "        True, False,  True, False, False,  True, False,  True,  True,\n",
       "       False,  True,  True,  True, False, False, False,  True,  True,\n",
       "       False])"
      ]
     },
     "execution_count": 79,
     "metadata": {},
     "output_type": "execute_result"
    }
   ],
   "source": [
    "swarm.abinary"
   ]
  },
  {
   "cell_type": "markdown",
   "metadata": {},
   "source": [
    "Proofreading the code, it seems to do what I expect. This one is harder to prove, but the behavior appears to work. I will go back up to the cell containing a call to `shuffle_gbest()` and keep manually calling it until I get a fitness that is greater than a_fitness so I can see if abest updates to match the new gbest."
   ]
  },
  {
   "cell_type": "markdown",
   "metadata": {},
   "source": [
    "I manually called it until I got tired of it and it didn't ever randomly come up with a position better than the first abest, so I'm going to manually change a_fitness to force the call."
   ]
  },
  {
   "cell_type": "code",
   "execution_count": 80,
   "metadata": {},
   "outputs": [],
   "source": [
    "swarm.a_fitness = 0.5"
   ]
  },
  {
   "cell_type": "code",
   "execution_count": 81,
   "metadata": {},
   "outputs": [],
   "source": [
    "swarm.gbest_counter = 3\n",
    "swarm.shuffle_gbest()"
   ]
  },
  {
   "cell_type": "code",
   "execution_count": 82,
   "metadata": {},
   "outputs": [
    {
     "data": {
      "text/plain": [
       "array([-0.89548984,  4.27828476,  0.18190285, -5.59129099,  0.35530751,\n",
       "       -1.70718218, -1.6995303 , -5.73225082, -3.2312693 ,  0.27360047,\n",
       "        2.93877164,  3.17173582,  5.1047381 , -1.43369749,  3.64202493,\n",
       "        1.65109308, -5.33410354,  1.73185299, -3.18940122, -1.26336789,\n",
       "        3.79744951,  1.64494468,  4.53873716,  3.36829262,  1.00313702,\n",
       "        5.33826594, -4.87145536, -5.17732065, -3.37494367, -0.17924554,\n",
       "        1.84521983,  1.73325079, -1.69154755,  0.38357324,  3.04907678,\n",
       "       -4.99137936,  5.76892482,  3.20032772, -4.49506352,  3.83252892,\n",
       "       -0.72884994,  3.77782239, -1.11222091,  2.16212381, -3.87216403,\n",
       "       -1.48537954, -0.18333872,  1.93887488,  5.26857342, -5.99800775,\n",
       "       -5.14553157, -1.68182479, -4.6769561 , -5.50247109, -3.7522893 ,\n",
       "        0.70260385,  4.21894762,  0.03593745, -3.57067142,  3.38680258,\n",
       "       -4.82595828,  3.55269888, -1.73384439, -2.73660798, -2.86150069,\n",
       "       -5.69114179,  3.47481186,  3.40950687, -0.6627815 ,  3.99605154,\n",
       "       -5.44699154,  5.38977887, -3.20156726, -1.29129676, -5.85792131,\n",
       "       -1.34212926, -0.67057794,  3.96296516, -3.29391387, -2.56437174,\n",
       "       -2.62286485, -4.18334158, -0.06542898,  1.63069878, -0.52977069,\n",
       "       -5.01408333,  5.54211505, -2.89573726, -0.96393542,  2.00736512,\n",
       "       -5.86222665,  4.43722802, -4.77482577, -1.07620113, -2.0304194 ,\n",
       "       -5.21674958, -0.30785124,  0.11300575,  3.30838414, -1.58702441,\n",
       "        5.73402951, -3.01295658,  5.19527144, -5.40161662,  4.26042886,\n",
       "       -2.63296984,  4.50532224,  3.34608602, -4.43621194,  3.11088563,\n",
       "       -2.93756598, -2.46357331,  2.41510946, -1.98819374,  0.62869647,\n",
       "       -4.49595274,  0.59835878,  1.9335571 , -2.75898038, -4.82807067,\n",
       "       -2.61480601,  4.1355886 , -2.41604428, -5.56934099, -1.24060123,\n",
       "        1.98462024,  5.67939746, -0.8280916 , -4.78221426,  4.15601855,\n",
       "       -2.98055067,  0.77348417,  2.86515129, -0.17621905,  2.64401222,\n",
       "       -4.84688777,  3.03386823,  5.08218941,  4.1807398 , -3.1174036 ,\n",
       "       -5.49575288, -5.66527435,  1.25568984, -2.47634607, -3.35821262,\n",
       "        5.13142881, -4.39374382,  0.82342334, -3.42486243,  0.54784183,\n",
       "        1.56038561, -4.23011028, -0.06798254, -0.53836309, -5.19038066,\n",
       "        0.30599468,  3.78689389,  0.82793001, -3.37547174, -3.4728058 ,\n",
       "       -5.97836872, -4.02904544, -2.56056329, -3.05053239, -5.88584936,\n",
       "       -1.99590601, -3.45882215, -5.7450741 ,  3.66410003,  2.08001217,\n",
       "        2.13379355,  2.59561542,  2.19335775, -1.61762819, -2.40079476,\n",
       "        3.94888652, -1.18087102,  4.71748738,  3.99592135, -3.90972865,\n",
       "       -5.91498499, -2.02073593,  2.66394456,  2.42777761, -2.91157295,\n",
       "       -5.92395856, -5.29773768, -5.59397119, -2.05659521, -2.27002723])"
      ]
     },
     "execution_count": 82,
     "metadata": {},
     "output_type": "execute_result"
    }
   ],
   "source": [
    "swarm.gbest"
   ]
  },
  {
   "cell_type": "code",
   "execution_count": 83,
   "metadata": {},
   "outputs": [
    {
     "data": {
      "text/plain": [
       "0.639155486756106"
      ]
     },
     "execution_count": 83,
     "metadata": {},
     "output_type": "execute_result"
    }
   ],
   "source": [
    "swarm.g_fitness"
   ]
  },
  {
   "cell_type": "code",
   "execution_count": 84,
   "metadata": {},
   "outputs": [
    {
     "data": {
      "text/plain": [
       "0"
      ]
     },
     "execution_count": 84,
     "metadata": {},
     "output_type": "execute_result"
    }
   ],
   "source": [
    "swarm.gbest_counter"
   ]
  },
  {
   "cell_type": "code",
   "execution_count": 85,
   "metadata": {},
   "outputs": [
    {
     "data": {
      "text/plain": [
       "array([False,  True, False, False,  True, False, False, False, False,\n",
       "       False,  True,  True,  True,  True,  True,  True, False,  True,\n",
       "        True,  True,  True,  True,  True,  True,  True,  True, False,\n",
       "       False, False,  True,  True,  True, False, False,  True, False,\n",
       "        True,  True, False,  True,  True,  True, False,  True, False,\n",
       "       False,  True, False,  True, False, False, False, False, False,\n",
       "       False, False,  True,  True, False,  True, False,  True, False,\n",
       "       False, False, False,  True,  True, False,  True, False,  True,\n",
       "       False, False, False, False,  True,  True, False, False, False,\n",
       "       False, False,  True, False, False,  True, False,  True,  True,\n",
       "       False,  True, False, False,  True, False, False,  True,  True,\n",
       "       False,  True, False,  True, False,  True, False,  True,  True,\n",
       "       False,  True, False, False,  True, False, False, False,  True,\n",
       "        True, False, False, False,  True, False, False, False,  True,\n",
       "        True, False, False,  True, False, False,  True, False,  True,\n",
       "       False,  True,  True,  True, False, False, False,  True, False,\n",
       "       False,  True, False,  True, False,  True,  True, False,  True,\n",
       "        True, False, False,  True,  True, False, False, False, False,\n",
       "       False, False, False, False, False, False,  True,  True,  True,\n",
       "        True, False, False, False,  True, False,  True,  True, False,\n",
       "       False, False,  True,  True, False, False, False, False, False,\n",
       "       False])"
      ]
     },
     "execution_count": 85,
     "metadata": {},
     "output_type": "execute_result"
    }
   ],
   "source": [
    "swarm.gbinary"
   ]
  },
  {
   "cell_type": "code",
   "execution_count": 86,
   "metadata": {},
   "outputs": [
    {
     "data": {
      "text/plain": [
       "array([-0.89548984,  4.27828476,  0.18190285, -5.59129099,  0.35530751,\n",
       "       -1.70718218, -1.6995303 , -5.73225082, -3.2312693 ,  0.27360047,\n",
       "        2.93877164,  3.17173582,  5.1047381 , -1.43369749,  3.64202493,\n",
       "        1.65109308, -5.33410354,  1.73185299, -3.18940122, -1.26336789,\n",
       "        3.79744951,  1.64494468,  4.53873716,  3.36829262,  1.00313702,\n",
       "        5.33826594, -4.87145536, -5.17732065, -3.37494367, -0.17924554,\n",
       "        1.84521983,  1.73325079, -1.69154755,  0.38357324,  3.04907678,\n",
       "       -4.99137936,  5.76892482,  3.20032772, -4.49506352,  3.83252892,\n",
       "       -0.72884994,  3.77782239, -1.11222091,  2.16212381, -3.87216403,\n",
       "       -1.48537954, -0.18333872,  1.93887488,  5.26857342, -5.99800775,\n",
       "       -5.14553157, -1.68182479, -4.6769561 , -5.50247109, -3.7522893 ,\n",
       "        0.70260385,  4.21894762,  0.03593745, -3.57067142,  3.38680258,\n",
       "       -4.82595828,  3.55269888, -1.73384439, -2.73660798, -2.86150069,\n",
       "       -5.69114179,  3.47481186,  3.40950687, -0.6627815 ,  3.99605154,\n",
       "       -5.44699154,  5.38977887, -3.20156726, -1.29129676, -5.85792131,\n",
       "       -1.34212926, -0.67057794,  3.96296516, -3.29391387, -2.56437174,\n",
       "       -2.62286485, -4.18334158, -0.06542898,  1.63069878, -0.52977069,\n",
       "       -5.01408333,  5.54211505, -2.89573726, -0.96393542,  2.00736512,\n",
       "       -5.86222665,  4.43722802, -4.77482577, -1.07620113, -2.0304194 ,\n",
       "       -5.21674958, -0.30785124,  0.11300575,  3.30838414, -1.58702441,\n",
       "        5.73402951, -3.01295658,  5.19527144, -5.40161662,  4.26042886,\n",
       "       -2.63296984,  4.50532224,  3.34608602, -4.43621194,  3.11088563,\n",
       "       -2.93756598, -2.46357331,  2.41510946, -1.98819374,  0.62869647,\n",
       "       -4.49595274,  0.59835878,  1.9335571 , -2.75898038, -4.82807067,\n",
       "       -2.61480601,  4.1355886 , -2.41604428, -5.56934099, -1.24060123,\n",
       "        1.98462024,  5.67939746, -0.8280916 , -4.78221426,  4.15601855,\n",
       "       -2.98055067,  0.77348417,  2.86515129, -0.17621905,  2.64401222,\n",
       "       -4.84688777,  3.03386823,  5.08218941,  4.1807398 , -3.1174036 ,\n",
       "       -5.49575288, -5.66527435,  1.25568984, -2.47634607, -3.35821262,\n",
       "        5.13142881, -4.39374382,  0.82342334, -3.42486243,  0.54784183,\n",
       "        1.56038561, -4.23011028, -0.06798254, -0.53836309, -5.19038066,\n",
       "        0.30599468,  3.78689389,  0.82793001, -3.37547174, -3.4728058 ,\n",
       "       -5.97836872, -4.02904544, -2.56056329, -3.05053239, -5.88584936,\n",
       "       -1.99590601, -3.45882215, -5.7450741 ,  3.66410003,  2.08001217,\n",
       "        2.13379355,  2.59561542,  2.19335775, -1.61762819, -2.40079476,\n",
       "        3.94888652, -1.18087102,  4.71748738,  3.99592135, -3.90972865,\n",
       "       -5.91498499, -2.02073593,  2.66394456,  2.42777761, -2.91157295,\n",
       "       -5.92395856, -5.29773768, -5.59397119, -2.05659521, -2.27002723])"
      ]
     },
     "execution_count": 86,
     "metadata": {},
     "output_type": "execute_result"
    }
   ],
   "source": [
    "swarm.abest"
   ]
  },
  {
   "cell_type": "code",
   "execution_count": 87,
   "metadata": {},
   "outputs": [
    {
     "data": {
      "text/plain": [
       "0.639155486756106"
      ]
     },
     "execution_count": 87,
     "metadata": {},
     "output_type": "execute_result"
    }
   ],
   "source": [
    "swarm.a_fitness"
   ]
  },
  {
   "cell_type": "code",
   "execution_count": 88,
   "metadata": {},
   "outputs": [
    {
     "data": {
      "text/plain": [
       "array([False,  True, False, False,  True, False, False, False, False,\n",
       "       False,  True,  True,  True,  True,  True,  True, False,  True,\n",
       "        True,  True,  True,  True,  True,  True,  True,  True, False,\n",
       "       False, False,  True,  True,  True, False, False,  True, False,\n",
       "        True,  True, False,  True,  True,  True, False,  True, False,\n",
       "       False,  True, False,  True, False, False, False, False, False,\n",
       "       False, False,  True,  True, False,  True, False,  True, False,\n",
       "       False, False, False,  True,  True, False,  True, False,  True,\n",
       "       False, False, False, False,  True,  True, False, False, False,\n",
       "       False, False,  True, False, False,  True, False,  True,  True,\n",
       "       False,  True, False, False,  True, False, False,  True,  True,\n",
       "       False,  True, False,  True, False,  True, False,  True,  True,\n",
       "       False,  True, False, False,  True, False, False, False,  True,\n",
       "        True, False, False, False,  True, False, False, False,  True,\n",
       "        True, False, False,  True, False, False,  True, False,  True,\n",
       "       False,  True,  True,  True, False, False, False,  True, False,\n",
       "       False,  True, False,  True, False,  True,  True, False,  True,\n",
       "        True, False, False,  True,  True, False, False, False, False,\n",
       "       False, False, False, False, False, False,  True,  True,  True,\n",
       "        True, False, False, False,  True, False,  True,  True, False,\n",
       "       False, False,  True,  True, False, False, False, False, False,\n",
       "       False])"
      ]
     },
     "execution_count": 88,
     "metadata": {},
     "output_type": "execute_result"
    }
   ],
   "source": [
    "swarm.abinary"
   ]
  },
  {
   "cell_type": "markdown",
   "metadata": {},
   "source": [
    "That definitely worked!"
   ]
  },
  {
   "cell_type": "markdown",
   "metadata": {},
   "source": [
    "I don't need to check `convert_pos_to_binary()` because it is a copy of the method in the COMB_Particle class."
   ]
  },
  {
   "cell_type": "markdown",
   "metadata": {},
   "source": [
    "`eval_fitness()` is mostly dependent on `test_classify()`. However, the actual fitness function can be check to make sure all my parentheses are in the right place, etc. I also should check that the `np.count_nonzero()` function is doing what I expect. I think I chose it while the binary arrays were still int arrays where members were in {0, 1}. Now they're booleans. I expect, it should still be good."
   ]
  },
  {
   "cell_type": "code",
   "execution_count": 89,
   "metadata": {},
   "outputs": [],
   "source": [
    "testa = np.array([True, False, True, True, False])"
   ]
  },
  {
   "cell_type": "code",
   "execution_count": 90,
   "metadata": {},
   "outputs": [
    {
     "data": {
      "text/plain": [
       "3"
      ]
     },
     "execution_count": 90,
     "metadata": {},
     "output_type": "execute_result"
    }
   ],
   "source": [
    "np.count_nonzero(testa)"
   ]
  },
  {
   "cell_type": "markdown",
   "metadata": {},
   "source": [
    "That works fine."
   ]
  },
  {
   "cell_type": "code",
   "execution_count": 91,
   "metadata": {},
   "outputs": [],
   "source": [
    "def test_eval_fitness(b):\n",
    "    clf_perf = 0.5\n",
    "    f = ((alpha*clf_perf)\n",
    "         + (   (1-alpha)\n",
    "             * ((ndim-np.count_nonzero(b)) / ndim)\n",
    "           )\n",
    "        )\n",
    "    return f"
   ]
  },
  {
   "cell_type": "code",
   "execution_count": 92,
   "metadata": {},
   "outputs": [],
   "source": [
    "alpha = 0.2\n",
    "ndim = 5"
   ]
  },
  {
   "cell_type": "markdown",
   "metadata": {},
   "source": [
    "This should give f = 0.2 * 0.5 + (1-0.2) * ((5 - 3)/5) = 0.42"
   ]
  },
  {
   "cell_type": "code",
   "execution_count": 93,
   "metadata": {},
   "outputs": [
    {
     "data": {
      "text/plain": [
       "0.42000000000000004"
      ]
     },
     "execution_count": 93,
     "metadata": {},
     "output_type": "execute_result"
    }
   ],
   "source": [
    "test_eval_fitness(testa)"
   ]
  },
  {
   "cell_type": "markdown",
   "metadata": {},
   "source": [
    "Excellent, the 4 at the end is almost certainly a floating point error. The equation does what I want it to do. Now I just have to test `test_classify()` to make sure that it is returning what I want it to."
   ]
  },
  {
   "cell_type": "markdown",
   "metadata": {},
   "source": [
    "`test_classify()` is a very simple method. It runs a 10-fold cross validation on the feature subset it is passed and returns the mean of the 10 scores. Almost all of the work is hidden in an sklearn method. I'll triple check the documentation of the method I'm using, and manually ensure that the correct feature subset is being used."
   ]
  },
  {
   "cell_type": "raw",
   "metadata": {},
   "source": [
    "    def test_classify(self, b):\n",
    "        \"\"\"Return a classification performance for a binary position vector.\n",
    "\n",
    "        Runs a classification with the clf attribute as a classifier and\n",
    "        X_train and y_train as the feature data/correct classifications.\n",
    "        Can be modified to classify any way, as long as it returns a metric\n",
    "        of performance.\n",
    "\n",
    "        Currently runs a 10-fold cross validation and returns the mean\n",
    "        classification accuracy.\n",
    "\n",
    "        Parameters\n",
    "        ----------\n",
    "        b : 1-Dimensional ndarray, size ndim; Holds a binary position vector\n",
    "            where each value ϵ {0, 1} and represents respectively the\n",
    "            exclusion or inclusion of that feature in the subset used for\n",
    "            training.\n",
    "        \n",
    "        Returns\n",
    "        -------\n",
    "        scores.mean() : The mean of the classification accuracies returned\n",
    "                        by the 10-fold cross validation.\n",
    "\n",
    "        Raises\n",
    "        ------\n",
    "        None\n",
    "        \"\"\"\n",
    "        scores = cross_val_score(self.clf, self.X_train[:, b],\n",
    "                                 self.y_train, cv=10)\n",
    "        return scores.mean()\n"
   ]
  },
  {
   "cell_type": "markdown",
   "metadata": {},
   "source": [
    "`cross_val_score()` takes 3 positional arguments and a number of named arguments.\n",
    "The first positional argument, `estimator`, is an estimator object implementing `fit` and is used to predict the data. I double checked with the `sklearn.svm.SVC` class, and it does implement `fit`. The second positional argument, `X`, is an array-like object that holds the data to fit. I'm passing a slice of the training data, `X_train`, created by the boolean array, `b`, that is being given to it. I need to double check that this syntax is producing the behavior I want. Finally, the third positional argument is `y`. Actually, I just checked the documentation, `y` is actually a named argument. I should specifically call it out in my call. I'll fix that. `y` is another array-like object that holds the target variable to predict. `cv` is a named argument, that if an integer (like 20), then `cross_val_score()` calls a `cv`-Fold Cross-Validation. `cross_val_score()` returns an ndarray of size (`cv`,) holding the scores returned for the cross-validation. In my method, `test_classify()`, `scores.mean()` is calling an internal method from an ndarray to return the arithmetic mean of the values in the array."
   ]
  },
  {
   "cell_type": "code",
   "execution_count": 94,
   "metadata": {},
   "outputs": [],
   "source": [
    "testa = np.linspace(1, 25, 25).reshape(5,5)"
   ]
  },
  {
   "cell_type": "code",
   "execution_count": 95,
   "metadata": {},
   "outputs": [
    {
     "data": {
      "text/plain": [
       "array([[ 1.,  2.,  3.,  4.,  5.],\n",
       "       [ 6.,  7.,  8.,  9., 10.],\n",
       "       [11., 12., 13., 14., 15.],\n",
       "       [16., 17., 18., 19., 20.],\n",
       "       [21., 22., 23., 24., 25.]])"
      ]
     },
     "execution_count": 95,
     "metadata": {},
     "output_type": "execute_result"
    }
   ],
   "source": [
    "testa"
   ]
  },
  {
   "cell_type": "code",
   "execution_count": 96,
   "metadata": {},
   "outputs": [
    {
     "data": {
      "text/plain": [
       "array([False,  True,  True, False,  True])"
      ]
     },
     "execution_count": 96,
     "metadata": {},
     "output_type": "execute_result"
    }
   ],
   "source": [
    "testb = np.array([False, True, True, False, True])\n",
    "testb"
   ]
  },
  {
   "cell_type": "markdown",
   "metadata": {},
   "source": [
    "So if I slice `testa` with `testb`, it should return the columns starting with 2, 3, and 5."
   ]
  },
  {
   "cell_type": "code",
   "execution_count": 97,
   "metadata": {},
   "outputs": [
    {
     "data": {
      "text/plain": [
       "array([[ 2.,  3.,  5.],\n",
       "       [ 7.,  8., 10.],\n",
       "       [12., 13., 15.],\n",
       "       [17., 18., 20.],\n",
       "       [22., 23., 25.]])"
      ]
     },
     "execution_count": 97,
     "metadata": {},
     "output_type": "execute_result"
    }
   ],
   "source": [
    "testa[:, testb]"
   ]
  },
  {
   "cell_type": "markdown",
   "metadata": {},
   "source": [
    "Good! Additionally, according to the numpy documentation, slicing returns a view of the original array, not a copy. Thus, I should be careful not to edit anything. However, `cross_val_score()` does not edit the data, it only analyzes it and returns its own results in a separate array. So I'm satisfied with this."
   ]
  },
  {
   "cell_type": "markdown",
   "metadata": {},
   "source": [
    "`final_scores()` is essentially identical to `test_classify()`. I double checked that the variables were all correct, it should be good."
   ]
  },
  {
   "cell_type": "markdown",
   "metadata": {},
   "source": [
    "The only thing left is `execute_search()`. This is difficult to test. I'll walk through the code line by line to make sure the algorithm is doing what I want, and then I'll step it through a couple time steps, one step at a time to see where it's going."
   ]
  },
  {
   "cell_type": "raw",
   "metadata": {},
   "source": [
    "    def execute_search(self):\n",
    "        \"\"\"Execute a full run of the COMB-PSO Algorithm.\n",
    "\n",
    "        Completes one full run of the COMB-PSO Algorithm using an internal\n",
    "        classifier object and a swarm of COMB_Particle objects, returning\n",
    "        a 1-Dimensional ndarray containing the best position found\n",
    "        by the algorithm.\n",
    "\n",
    "        NOTE: initialize_particles and initialize_classifer MUST be called\n",
    "              before this method will run correctly.\n",
    "\n",
    "        Parameters\n",
    "        ----------\n",
    "        None\n",
    "\n",
    "        Returns\n",
    "        -------\n",
    "        None\n",
    "\n",
    "        Raises\n",
    "        ------\n",
    "        None\n",
    "        \"\"\"\n",
    "        for i in range(1, t_bounds[1]):\n",
    "            self.t = i\n",
    "            for p in swarm:\n",
    "                p.update_inertia(self.gbinary)\n",
    "                p.update_velocity(self.gbest, self.abest)\n",
    "                p.update_position()\n",
    "                p.update_binary_position()\n",
    "                f = self.eval_fitness(p.b)\n",
    "                if f > p.p_fitness:\n",
    "                    p.pbest = p.x.copy()\n",
    "                    p.pbinary = p.b.copy()\n",
    "                    p.p_fitness = f\n",
    "                if f > self.g_fitness:\n",
    "                    # -1 because the counter should be 0 during the\n",
    "                    # next comparison to updated positions. The other\n",
    "                    # 2 resets (shuffle_gbest and init) happen after\n",
    "                    # the \"self.gbest_counter += 1\" line. This one\n",
    "                    # happens before.\n",
    "                    self.gbest_counter = -1\n",
    "                    self.gbest = p.x.copy()\n",
    "                    self.gbinary = p.b.copy()\n",
    "                    self.g_fitness = f\n",
    "            if self.g_fitness > self.a_fitness:\n",
    "                self.abest = self.gbest.copy()\n",
    "                self.abinary = self.gbinary.copy()\n",
    "                self.a_fitness = self.g_fitness\n",
    "            self.gbest_counter += 1\n",
    "            if self.gbest_counter >= 3:\n",
    "                self.shuffle_gbest()"
   ]
  },
  {
   "cell_type": "markdown",
   "metadata": {},
   "source": [
    "Okay, here we go.\n",
    "\n",
    "**Lines 24-25:** sets up the for loop and updates the time variable. This for loop steps the entire swarm through time. Each iteration is one step in time. Each step, the swarm must:\n",
    "\n",
    "* move\n",
    "* check fitness\n",
    "* update best positions\n",
    "\n",
    "It runs from t=1 (t=0 is initial state) until the maximum time specified in the second (max) argument of `t_bounds`. This means that the time variable is stepped forward, *Then* the state is updated. So if I want to report the state of the swarm at t, then the reporting needs to happen at the end of the loop.\n",
    "\n",
    "**Line 26:** sets up the second for loop. This for loop steps through every particle in the swarm. Each iteration is one particle moving through one step in time. For each step, the next particle must:\n",
    "\n",
    "* update inertia\n",
    "* update velocity\n",
    "* update position\n",
    "* report best variables\n",
    "\n",
    "The loop runs through every `p` (particle) in `swarm`. Oops, that should be `self.swarm`. I'll change it.\n",
    "\n",
    "**Lines 27-30:** These lines call the current particle's update methods. These should be in the correct order. The convert to binary method depends on an updated position. The position equation depends on an updated velocity. The velocity equation depends on an updated inertia. The inertia equation depends on the previous particle binary position and the previous global best binary position. So, the order of update should be:\n",
    "\n",
    "1. Previous time step's particle's `pbinary` and swarm's `gbinary`.\n",
    "2. Inertia\n",
    "3. Velocity\n",
    "4. Position\n",
    "5. Binary Position.\n",
    "\n",
    "Which is definitely the case!\n",
    "\n",
    "**Line 31:** This line calls the `eval-fitness()` method on the current particle's new binary position. It assigns it to the local variable, f. This allows the algorithm to perform multiple comparisons without recalculating every time.\n",
    "\n",
    "**Lines 32-35:** This is an if statement. The condition for execution is that the current particle's current position fitness is better than the current particle's stored best fitness. If the new fitness is better, then the current position is better than the particle's stored best position. Thus, it should be updated. The next three lines update `pbest`, `pbinary`, and `p_fitness` with copies of the current values. This is VITAL that the stored state is updated with copies, NOT with recalculations. The binary vectors are calculated using a random value. Thus, identical positions may give different binary vectors. However, I want my algorithm to return a static, predictable value that can be mapped to the returned fitness and used in future research. So I need to know the exact binary vector that produced these results. Additionally, I want to reduce computational time so copying is better than recalculating.\n",
    "\n",
    "**Lines 36-45:** This is a carbon copy of Lines 32-35 with one extra line. The comparison is with the swarm attribute, `g_fitness` (and associated state variables). The extra line is to update the counter. If `gbest` stagnates for 3 iterations, it is archived in abest and then shuffled (using the `shuffle_gbest()` method). The comment explains why the counter is set to -1 instead of 0.\n",
    "\n",
    "**Lines 46-49:** This is similar to the two previous sections. It updates the archived best position/binary/fitness. However, it is Outside the particle for loop because it is only dependent on the global best of the entire swarm. Thus, rather than repeating it for every particle, this code waits until the global best is established, then performs a single check/update to save time.\n",
    "\n",
    "**Line 50:** This line merely increments the `gbest_counter`. This should be done every time the swarm moves through a single time step.\n",
    "\n",
    "**Lines 51-52:** This if statement tests for stagnation. If the global best has not changed in 3 iterations, it is archived into abest and then randomly reinitialized to add stochasticity and \"shake up\" the swarm's velocity. It also has a significant effect on the inertia. A conceptual manual step by step is below to check values of 0, -1, and 3 depending on where you are in the code."
   ]
  },
  {
   "cell_type": "markdown",
   "metadata": {},
   "source": [
    "### Double check for the stagnation values\n",
    "#### Case 1: Stagnation\n",
    "t = 0 (Initialization): counter is initialized at 0. gbest has existed *through* 0 updates of position (it was created after this first random positioning).\n",
    "\n",
    "t = 1: counter is 0 at the beginning of the loop, counter is 1 at the end of the loop. At the check, gbest has not changed through 1 update of position (update from random init to t=1).\n",
    "\n",
    "t = 2: counter is 1 at the beginning of the loop, gbest did not change, counter is 2 at the end of the loop. At the check, gbest has not changed through 2 updates of position.\n",
    "\n",
    "t = 3: counter is 2 at the beginning of the loop, gbest did not change, counter is 3 at the end of the loop. At the check, gbest has not changed through 3 updates of position. Shuffle triggers. counter is 0 at the end of the loop. gbest has existed through 0 updates of position (it was just randomized).\n",
    "\n",
    "t = 4: counter is 0 at the beginning of the loop, gbest did not change, counter is 1 at the end of the loop. At the check, gbest has not changed through 1 update of position.\n",
    "\n",
    "------------------------------------------------------------------------------------\n",
    "\n",
    "#### Case 2: Reset\n",
    "\n",
    "t = 0 (Initialization): counter is initialized at 0. gbest has existed *through* 0 updates of position (it was created after this first random positioning).\n",
    "\n",
    "t = 1: counter is 0 at the beginning of the loop, counter is 1 at the end of the loop. At the check, gbest has not changed through 1 update of position (update from random init to t=1).\n",
    "\n",
    "t = 2: counter is 1 at the beginning of the loop, gbest did not change, counter is 2 at the end of the loop. At the check, gbest has not changed through 2 updates of position.\n",
    "\n",
    "t = 3: counter is 2 at the beginning of the loop, gbest changes, counter is set to -1, counter is 0 (increment statement). At the check, gbest has not changed through 0 updates of position.\n",
    "\n",
    "t = 4: counter is 0 at the beginning of the loop, gbest did not change, counter is 1 at the end of the loop. At the chekc, gbest has not changed through 1 update of position."
   ]
  },
  {
   "cell_type": "markdown",
   "metadata": {},
   "source": [
    "Good! This looks to be the type of behavior I'm looking for. I double checked that all the method arguments are coorect and that all the comparisons are comparing correclty. I think I trust this about as much as I can where I am the only evaluator. I'll step the swarm through a couple of time steps and do some sanity checks."
   ]
  },
  {
   "cell_type": "code",
   "execution_count": 98,
   "metadata": {},
   "outputs": [],
   "source": [
    "npart = 2\n",
    "c1 = 2.1\n",
    "c2 = 2.2\n",
    "c3 = 2.3\n",
    "ndim = 190\n",
    "alpha = 0.5\n",
    "test_size = 0.3\n",
    "x_bounds = (-6.0, 6.0)\n",
    "v_bounds = (-4.0, 0.25)\n",
    "w_bounds = (0.4, 0.9)\n",
    "t_bounds = (0, 3)\n",
    "data_path = 'working_data/prepped_for_classifier/data.csv'\n",
    "target_path = 'working_data/prepped_for_classifier/target.csv'"
   ]
  },
  {
   "cell_type": "code",
   "execution_count": 99,
   "metadata": {},
   "outputs": [],
   "source": [
    "swarm = COMB_Swarm(npart, c1, c2, c3, ndim, alpha, test_size,\n",
    "                   x_bounds, v_bounds, w_bounds, t_bounds,\n",
    "                   data_path, target_path)"
   ]
  },
  {
   "cell_type": "code",
   "execution_count": 100,
   "metadata": {},
   "outputs": [],
   "source": [
    "swarm.initialize_particles()"
   ]
  },
  {
   "cell_type": "code",
   "execution_count": 101,
   "metadata": {},
   "outputs": [
    {
     "data": {
      "text/plain": [
       "(0, 3)"
      ]
     },
     "execution_count": 101,
     "metadata": {},
     "output_type": "execute_result"
    }
   ],
   "source": [
    "swarm.t_bounds"
   ]
  },
  {
   "cell_type": "code",
   "execution_count": 102,
   "metadata": {},
   "outputs": [],
   "source": [
    "swarm.t_bounds = (0, 2)"
   ]
  },
  {
   "cell_type": "code",
   "execution_count": 103,
   "metadata": {},
   "outputs": [],
   "source": [
    "swarm.execute_search()"
   ]
  },
  {
   "cell_type": "raw",
   "metadata": {},
   "source": [
    "---------------------------------------------------------------------------\n",
    "NameError                                 Traceback (most recent call last)\n",
    "<ipython-input-195-1ef6310b14dc> in <module>()\n",
    "----> 1 swarm.execute_search()\n",
    "\n",
    "~/Programs/cfs/cfs-reu/pso/cpso_swarm.py in execute_search(self)\n",
    "    341         None\n",
    "    342         \"\"\"\n",
    "--> 343         for i in range(1, t_bounds[1]):\n",
    "    344             self.t = i\n",
    "    345             for p in self.swarm:\n",
    "\n",
    "NameError: name 't_bounds' is not defined"
   ]
  },
  {
   "cell_type": "markdown",
   "metadata": {},
   "source": [
    "I missed a `self`."
   ]
  },
  {
   "cell_type": "code",
   "execution_count": 104,
   "metadata": {},
   "outputs": [
    {
     "data": {
      "text/plain": [
       "1"
      ]
     },
     "execution_count": 104,
     "metadata": {},
     "output_type": "execute_result"
    }
   ],
   "source": [
    "swarm.t"
   ]
  },
  {
   "cell_type": "code",
   "execution_count": 105,
   "metadata": {},
   "outputs": [
    {
     "data": {
      "text/plain": [
       "[<cpso_particle.COMB_Particle at 0x7f1a0c0604e0>,\n",
       " <cpso_particle.COMB_Particle at 0x7f1a0c03be80>]"
      ]
     },
     "execution_count": 105,
     "metadata": {},
     "output_type": "execute_result"
    }
   ],
   "source": [
    "swarm.swarm"
   ]
  },
  {
   "cell_type": "code",
   "execution_count": 106,
   "metadata": {},
   "outputs": [
    {
     "data": {
      "text/plain": [
       "0.7106037151702786"
      ]
     },
     "execution_count": 106,
     "metadata": {},
     "output_type": "execute_result"
    }
   ],
   "source": [
    "swarm.g_fitness"
   ]
  },
  {
   "cell_type": "code",
   "execution_count": 107,
   "metadata": {},
   "outputs": [
    {
     "data": {
      "text/plain": [
       "0.6527089783281734"
      ]
     },
     "execution_count": 107,
     "metadata": {},
     "output_type": "execute_result"
    }
   ],
   "source": [
    "swarm.swarm[0].p_fitness"
   ]
  },
  {
   "cell_type": "code",
   "execution_count": 108,
   "metadata": {},
   "outputs": [
    {
     "data": {
      "text/plain": [
       "0.7106037151702786"
      ]
     },
     "execution_count": 108,
     "metadata": {},
     "output_type": "execute_result"
    }
   ],
   "source": [
    "swarm.swarm[1].p_fitness"
   ]
  },
  {
   "cell_type": "code",
   "execution_count": 109,
   "metadata": {},
   "outputs": [],
   "source": [
    "swarm.execute_search()"
   ]
  },
  {
   "cell_type": "code",
   "execution_count": 110,
   "metadata": {},
   "outputs": [
    {
     "data": {
      "text/plain": [
       "0.8002235982112144"
      ]
     },
     "execution_count": 110,
     "metadata": {},
     "output_type": "execute_result"
    }
   ],
   "source": [
    "swarm.g_fitness"
   ]
  },
  {
   "cell_type": "code",
   "execution_count": 111,
   "metadata": {},
   "outputs": [
    {
     "data": {
      "text/plain": [
       "0.7684984520123839"
      ]
     },
     "execution_count": 111,
     "metadata": {},
     "output_type": "execute_result"
    }
   ],
   "source": [
    "swarm.swarm[0].p_fitness"
   ]
  },
  {
   "cell_type": "code",
   "execution_count": 112,
   "metadata": {},
   "outputs": [
    {
     "data": {
      "text/plain": [
       "0.8002235982112144"
      ]
     },
     "execution_count": 112,
     "metadata": {},
     "output_type": "execute_result"
    }
   ],
   "source": [
    "swarm.swarm[1].p_fitness"
   ]
  },
  {
   "cell_type": "markdown",
   "metadata": {},
   "source": [
    "All of that looks good. It looks like it's progressing. I think I'm going to do a run and see what happens."
   ]
  },
  {
   "cell_type": "code",
   "execution_count": 113,
   "metadata": {},
   "outputs": [],
   "source": [
    "npart = 100\n",
    "c1 = 2.1\n",
    "c2 = 2.1\n",
    "c3 = 2.1\n",
    "ndim = 190\n",
    "alpha = 0.8\n",
    "test_size = 0.3\n",
    "x_bounds = (-6.0, 6.0)\n",
    "v_bounds = (-4.0, 0.25)\n",
    "w_bounds = (0.4, 0.9)\n",
    "t_bounds = (0, 50)\n",
    "data_path = 'working_data/prepped_for_classifier/data.csv'\n",
    "target_path = 'working_data/prepped_for_classifier/target.csv'"
   ]
  },
  {
   "cell_type": "code",
   "execution_count": 114,
   "metadata": {},
   "outputs": [],
   "source": [
    "# swarm = COMB_Swarm(npart, c1, c2, c3, ndim, alpha, test_size,\n",
    "#                    x_bounds, v_bounds, w_bounds, t_bounds,\n",
    "#                    data_path, target_path)"
   ]
  },
  {
   "cell_type": "code",
   "execution_count": 115,
   "metadata": {},
   "outputs": [],
   "source": [
    "# swarm.initialize_particles()"
   ]
  },
  {
   "cell_type": "code",
   "execution_count": 116,
   "metadata": {},
   "outputs": [],
   "source": [
    "# swarm.execute_search()"
   ]
  },
  {
   "cell_type": "raw",
   "metadata": {},
   "source": [
    "---------------------------------------------------------------------------\n",
    "ValueError                                Traceback (most recent call last)\n",
    "<ipython-input-121-1ef6310b14dc> in <module>()\n",
    "----> 1 swarm.execute_search()\n",
    "\n",
    "~/Programs/cfs/cfs-reu/pso/cpso_swarm.py in execute_search(self)\n",
    "    348                 p.update_position()\n",
    "    349                 p.update_binary_position()\n",
    "--> 350                 f = self.eval_fitness(p.b)\n",
    "    351                 if f > p.p_fitness:\n",
    "    352                     p.pbest = p.x.copy()\n",
    "\n",
    "~/Programs/cfs/cfs-reu/pso/cpso_swarm.py in eval_fitness(self, b)\n",
    "    504         \"\"\"\n",
    "    505         # clf_perf is the same as Pb in the above equation\n",
    "--> 506         clf_perf = self.test_classify(b)\n",
    "    507         f = ((self.alpha*clf_perf)\n",
    "    508              + (   (1-self.alpha)\n",
    "\n",
    "~/Programs/cfs/cfs-reu/pso/cpso_swarm.py in test_classify(self, b)\n",
    "    464         \"\"\"\n",
    "    465         scores = cross_val_score(self.clf, self.X_train[:, b],\n",
    "--> 466                                  y=self.y_train, cv=10)\n",
    "    467         return scores.mean()\n",
    "    468 \n",
    "\n",
    "~/anaconda3/lib/python3.6/site-packages/sklearn/model_selection/_validation.py in cross_val_score(estimator, X, y, groups, scoring, cv, n_jobs, verbose, fit_params, pre_dispatch)\n",
    "    340                                 n_jobs=n_jobs, verbose=verbose,\n",
    "    341                                 fit_params=fit_params,\n",
    "--> 342                                 pre_dispatch=pre_dispatch)\n",
    "    343     return cv_results['test_score']\n",
    "    344 \n",
    "\n",
    "~/anaconda3/lib/python3.6/site-packages/sklearn/model_selection/_validation.py in cross_validate(estimator, X, y, groups, scoring, cv, n_jobs, verbose, fit_params, pre_dispatch, return_train_score)\n",
    "    204             fit_params, return_train_score=return_train_score,\n",
    "    205             return_times=True)\n",
    "--> 206         for train, test in cv.split(X, y, groups))\n",
    "    207 \n",
    "    208     if return_train_score:\n",
    "\n",
    "~/anaconda3/lib/python3.6/site-packages/sklearn/externals/joblib/parallel.py in __call__(self, iterable)\n",
    "    777             # was dispatched. In particular this covers the edge\n",
    "    778             # case of Parallel used with an exhausted iterator.\n",
    "--> 779             while self.dispatch_one_batch(iterator):\n",
    "    780                 self._iterating = True\n",
    "    781             else:\n",
    "\n",
    "~/anaconda3/lib/python3.6/site-packages/sklearn/externals/joblib/parallel.py in dispatch_one_batch(self, iterator)\n",
    "    623                 return False\n",
    "    624             else:\n",
    "--> 625                 self._dispatch(tasks)\n",
    "    626                 return True\n",
    "    627 \n",
    "\n",
    "~/anaconda3/lib/python3.6/site-packages/sklearn/externals/joblib/parallel.py in _dispatch(self, batch)\n",
    "    586         dispatch_timestamp = time.time()\n",
    "    587         cb = BatchCompletionCallBack(dispatch_timestamp, len(batch), self)\n",
    "--> 588         job = self._backend.apply_async(batch, callback=cb)\n",
    "    589         self._jobs.append(job)\n",
    "    590 \n",
    "\n",
    "~/anaconda3/lib/python3.6/site-packages/sklearn/externals/joblib/_parallel_backends.py in apply_async(self, func, callback)\n",
    "    109     def apply_async(self, func, callback=None):\n",
    "    110         \"\"\"Schedule a func to be run\"\"\"\n",
    "--> 111         result = ImmediateResult(func)\n",
    "    112         if callback:\n",
    "    113             callback(result)\n",
    "\n",
    "~/anaconda3/lib/python3.6/site-packages/sklearn/externals/joblib/_parallel_backends.py in __init__(self, batch)\n",
    "    330         # Don't delay the application, to avoid keeping the input\n",
    "    331         # arguments in memory\n",
    "--> 332         self.results = batch()\n",
    "    333 \n",
    "    334     def get(self):\n",
    "\n",
    "~/anaconda3/lib/python3.6/site-packages/sklearn/externals/joblib/parallel.py in __call__(self)\n",
    "    129 \n",
    "    130     def __call__(self):\n",
    "--> 131         return [func(*args, **kwargs) for func, args, kwargs in self.items]\n",
    "    132 \n",
    "    133     def __len__(self):\n",
    "\n",
    "~/anaconda3/lib/python3.6/site-packages/sklearn/externals/joblib/parallel.py in <listcomp>(.0)\n",
    "    129 \n",
    "    130     def __call__(self):\n",
    "--> 131         return [func(*args, **kwargs) for func, args, kwargs in self.items]\n",
    "    132 \n",
    "    133     def __len__(self):\n",
    "\n",
    "~/anaconda3/lib/python3.6/site-packages/sklearn/model_selection/_validation.py in _fit_and_score(estimator, X, y, scorer, train, test, verbose, parameters, fit_params, return_train_score, return_parameters, return_n_test_samples, return_times, error_score)\n",
    "    456             estimator.fit(X_train, **fit_params)\n",
    "    457         else:\n",
    "--> 458             estimator.fit(X_train, y_train, **fit_params)\n",
    "    459 \n",
    "    460     except Exception as e:\n",
    "\n",
    "~/anaconda3/lib/python3.6/site-packages/sklearn/svm/base.py in fit(self, X, y, sample_weight)\n",
    "    147         self._sparse = sparse and not callable(self.kernel)\n",
    "    148 \n",
    "--> 149         X, y = check_X_y(X, y, dtype=np.float64, order='C', accept_sparse='csr')\n",
    "    150         y = self._validate_targets(y)\n",
    "    151 \n",
    "\n",
    "~/anaconda3/lib/python3.6/site-packages/sklearn/utils/validation.py in check_X_y(X, y, accept_sparse, dtype, order, copy, force_all_finite, ensure_2d, allow_nd, multi_output, ensure_min_samples, ensure_min_features, y_numeric, warn_on_dtype, estimator)\n",
    "    571     X = check_array(X, accept_sparse, dtype, order, copy, force_all_finite,\n",
    "    572                     ensure_2d, allow_nd, ensure_min_samples,\n",
    "--> 573                     ensure_min_features, warn_on_dtype, estimator)\n",
    "    574     if multi_output:\n",
    "    575         y = check_array(y, 'csr', force_all_finite=True, ensure_2d=False,\n",
    "\n",
    "~/anaconda3/lib/python3.6/site-packages/sklearn/utils/validation.py in check_array(array, accept_sparse, dtype, order, copy, force_all_finite, ensure_2d, allow_nd, ensure_min_samples, ensure_min_features, warn_on_dtype, estimator)\n",
    "    468                              \" a minimum of %d is required%s.\"\n",
    "    469                              % (n_features, shape_repr, ensure_min_features,\n",
    "--> 470                                 context))\n",
    "    471 \n",
    "    472     if warn_on_dtype and dtype_orig is not None and array.dtype != dtype_orig:\n",
    "\n",
    "ValueError: Found array with 0 feature(s) (shape=(160, 0)) while a minimum of 1 is required."
   ]
  },
  {
   "cell_type": "markdown",
   "metadata": {},
   "source": [
    "At some point, for some reason, the eval_fitness method got passed a binary array with all False. I'm going to add some code to check for that and stop cleanly so that I can investigate."
   ]
  },
  {
   "cell_type": "raw",
   "metadata": {},
   "source": [
    "I added\n",
    "\n",
    "if np.count_nonzero(p.b) == self.ndim:\n",
    "                    print('All False Binary Array at time: {}'.format(self.t))\n",
    "                    print('index of p: {}'.format(self.swarm.index(p)))\n",
    "                    return \n",
    "\n",
    "before \"f = self.eval_fitness(p.b)\""
   ]
  },
  {
   "cell_type": "code",
   "execution_count": 117,
   "metadata": {},
   "outputs": [],
   "source": [
    "# swarm = COMB_Swarm(npart, c1, c2, c3, ndim, alpha, test_size,\n",
    "#                    x_bounds, v_bounds, w_bounds, t_bounds,\n",
    "#                    data_path, target_path)"
   ]
  },
  {
   "cell_type": "code",
   "execution_count": 118,
   "metadata": {},
   "outputs": [],
   "source": [
    "# swarm.initialize_particles()"
   ]
  },
  {
   "cell_type": "code",
   "execution_count": 119,
   "metadata": {},
   "outputs": [],
   "source": [
    "# swarm.execute_search()"
   ]
  },
  {
   "cell_type": "raw",
   "metadata": {},
   "source": [
    "---------------------------------------------------------------------------\n",
    "ValueError                                Traceback (most recent call last)\n",
    "<ipython-input-119-1ef6310b14dc> in <module>()\n",
    "----> 1 swarm.execute_search()\n",
    "\n",
    "~/Programs/cfs/cfs-reu/pso/cpso_swarm.py in execute_search(self)\n",
    "    352                     print('index of p: {}'.format(self.swarm.index(p)))\n",
    "    353                     return\n",
    "--> 354                 f = self.eval_fitness(p.b)\n",
    "    355                 if f > p.p_fitness:\n",
    "    356                     p.pbest = p.x.copy()\n",
    "\n",
    "~/Programs/cfs/cfs-reu/pso/cpso_swarm.py in eval_fitness(self, b)\n",
    "    508         \"\"\"\n",
    "    509         # clf_perf is the same as Pb in the above equation\n",
    "--> 510         clf_perf = self.test_classify(b)\n",
    "    511         f = ((self.alpha*clf_perf)\n",
    "    512              + (   (1-self.alpha)\n",
    "\n",
    "~/Programs/cfs/cfs-reu/pso/cpso_swarm.py in test_classify(self, b)\n",
    "    468         \"\"\"\n",
    "    469         scores = cross_val_score(self.clf, self.X_train[:, b],\n",
    "--> 470                                  y=self.y_train, cv=10)\n",
    "    471         return scores.mean()\n",
    "    472 \n",
    "\n",
    "~/anaconda3/lib/python3.6/site-packages/sklearn/model_selection/_validation.py in cross_val_score(estimator, X, y, groups, scoring, cv, n_jobs, verbose, fit_params, pre_dispatch)\n",
    "    340                                 n_jobs=n_jobs, verbose=verbose,\n",
    "    341                                 fit_params=fit_params,\n",
    "--> 342                                 pre_dispatch=pre_dispatch)\n",
    "    343     return cv_results['test_score']\n",
    "    344 \n",
    "\n",
    "~/anaconda3/lib/python3.6/site-packages/sklearn/model_selection/_validation.py in cross_validate(estimator, X, y, groups, scoring, cv, n_jobs, verbose, fit_params, pre_dispatch, return_train_score)\n",
    "    204             fit_params, return_train_score=return_train_score,\n",
    "    205             return_times=True)\n",
    "--> 206         for train, test in cv.split(X, y, groups))\n",
    "    207 \n",
    "    208     if return_train_score:\n",
    "\n",
    "~/anaconda3/lib/python3.6/site-packages/sklearn/externals/joblib/parallel.py in __call__(self, iterable)\n",
    "    777             # was dispatched. In particular this covers the edge\n",
    "    778             # case of Parallel used with an exhausted iterator.\n",
    "--> 779             while self.dispatch_one_batch(iterator):\n",
    "    780                 self._iterating = True\n",
    "    781             else:\n",
    "\n",
    "~/anaconda3/lib/python3.6/site-packages/sklearn/externals/joblib/parallel.py in dispatch_one_batch(self, iterator)\n",
    "    623                 return False\n",
    "    624             else:\n",
    "--> 625                 self._dispatch(tasks)\n",
    "    626                 return True\n",
    "    627 \n",
    "\n",
    "~/anaconda3/lib/python3.6/site-packages/sklearn/externals/joblib/parallel.py in _dispatch(self, batch)\n",
    "    586         dispatch_timestamp = time.time()\n",
    "    587         cb = BatchCompletionCallBack(dispatch_timestamp, len(batch), self)\n",
    "--> 588         job = self._backend.apply_async(batch, callback=cb)\n",
    "    589         self._jobs.append(job)\n",
    "    590 \n",
    "\n",
    "~/anaconda3/lib/python3.6/site-packages/sklearn/externals/joblib/_parallel_backends.py in apply_async(self, func, callback)\n",
    "    109     def apply_async(self, func, callback=None):\n",
    "    110         \"\"\"Schedule a func to be run\"\"\"\n",
    "--> 111         result = ImmediateResult(func)\n",
    "    112         if callback:\n",
    "    113             callback(result)\n",
    "\n",
    "~/anaconda3/lib/python3.6/site-packages/sklearn/externals/joblib/_parallel_backends.py in __init__(self, batch)\n",
    "    330         # Don't delay the application, to avoid keeping the input\n",
    "    331         # arguments in memory\n",
    "--> 332         self.results = batch()\n",
    "    333 \n",
    "    334     def get(self):\n",
    "\n",
    "~/anaconda3/lib/python3.6/site-packages/sklearn/externals/joblib/parallel.py in __call__(self)\n",
    "    129 \n",
    "    130     def __call__(self):\n",
    "--> 131         return [func(*args, **kwargs) for func, args, kwargs in self.items]\n",
    "    132 \n",
    "    133     def __len__(self):\n",
    "\n",
    "~/anaconda3/lib/python3.6/site-packages/sklearn/externals/joblib/parallel.py in <listcomp>(.0)\n",
    "    129 \n",
    "    130     def __call__(self):\n",
    "--> 131         return [func(*args, **kwargs) for func, args, kwargs in self.items]\n",
    "    132 \n",
    "    133     def __len__(self):\n",
    "\n",
    "~/anaconda3/lib/python3.6/site-packages/sklearn/model_selection/_validation.py in _fit_and_score(estimator, X, y, scorer, train, test, verbose, parameters, fit_params, return_train_score, return_parameters, return_n_test_samples, return_times, error_score)\n",
    "    456             estimator.fit(X_train, **fit_params)\n",
    "    457         else:\n",
    "--> 458             estimator.fit(X_train, y_train, **fit_params)\n",
    "    459 \n",
    "    460     except Exception as e:\n",
    "\n",
    "~/anaconda3/lib/python3.6/site-packages/sklearn/svm/base.py in fit(self, X, y, sample_weight)\n",
    "    147         self._sparse = sparse and not callable(self.kernel)\n",
    "    148 \n",
    "--> 149         X, y = check_X_y(X, y, dtype=np.float64, order='C', accept_sparse='csr')\n",
    "    150         y = self._validate_targets(y)\n",
    "    151 \n",
    "\n",
    "~/anaconda3/lib/python3.6/site-packages/sklearn/utils/validation.py in check_X_y(X, y, accept_sparse, dtype, order, copy, force_all_finite, ensure_2d, allow_nd, multi_output, ensure_min_samples, ensure_min_features, y_numeric, warn_on_dtype, estimator)\n",
    "    571     X = check_array(X, accept_sparse, dtype, order, copy, force_all_finite,\n",
    "    572                     ensure_2d, allow_nd, ensure_min_samples,\n",
    "--> 573                     ensure_min_features, warn_on_dtype, estimator)\n",
    "    574     if multi_output:\n",
    "    575         y = check_array(y, 'csr', force_all_finite=True, ensure_2d=False,\n",
    "\n",
    "~/anaconda3/lib/python3.6/site-packages/sklearn/utils/validation.py in check_array(array, accept_sparse, dtype, order, copy, force_all_finite, ensure_2d, allow_nd, ensure_min_samples, ensure_min_features, warn_on_dtype, estimator)\n",
    "    468                              \" a minimum of %d is required%s.\"\n",
    "    469                              % (n_features, shape_repr, ensure_min_features,\n",
    "--> 470                                 context))\n",
    "    471 \n",
    "    472     if warn_on_dtype and dtype_orig is not None and array.dtype != dtype_orig:\n",
    "\n",
    "ValueError: Found array with 0 feature(s) (shape=(160, 0)) while a minimum of 1 is required."
   ]
  },
  {
   "cell_type": "markdown",
   "metadata": {},
   "source": [
    "The same error happened and my code didn't trigger so I didn't ID the bug correctly. I'll leave the detection code in though. Maybe the array with 0 features is in the data arrays, not the subset?"
   ]
  },
  {
   "cell_type": "code",
   "execution_count": 120,
   "metadata": {},
   "outputs": [
    {
     "data": {
      "text/plain": [
       "array([[5.610e+00, 3.710e+00, 9.700e-01, ..., 1.890e+00, 0.000e+00,\n",
       "        8.200e-01],\n",
       "       [0.000e+00, 0.000e+00, 0.000e+00, ..., 4.880e+00, 0.000e+00,\n",
       "        0.000e+00],\n",
       "       [8.440e+00, 4.490e+00, 9.000e-01, ..., 2.820e+00, 2.030e+00,\n",
       "        3.890e+00],\n",
       "       ...,\n",
       "       [1.176e+01, 1.040e+01, 5.000e-02, ..., 5.850e+00, 8.633e+01,\n",
       "        3.100e+00],\n",
       "       [0.000e+00, 9.400e-01, 7.700e-01, ..., 0.000e+00, 2.220e+00,\n",
       "        0.000e+00],\n",
       "       [1.690e+00, 3.420e+00, 2.300e-01, ..., 2.410e+00, 8.830e+00,\n",
       "        1.810e+00]])"
      ]
     },
     "execution_count": 120,
     "metadata": {},
     "output_type": "execute_result"
    }
   ],
   "source": [
    "swarm.X_train"
   ]
  },
  {
   "cell_type": "code",
   "execution_count": 121,
   "metadata": {},
   "outputs": [
    {
     "data": {
      "text/plain": [
       "array([0, 1, 0, 0, 0, 0, 0, 0, 0, 0, 0, 0, 1, 0, 1, 0, 1, 0, 1, 0, 0, 0,\n",
       "       0, 0, 0, 0, 1, 1, 0, 0, 1, 0, 1, 0, 1, 0, 0, 0, 0, 0, 0, 0, 0, 1,\n",
       "       0, 1, 0, 1, 0, 1, 1, 0, 0, 1, 0, 0, 1, 0, 0, 1, 0, 1, 0, 0, 0, 1,\n",
       "       1, 1, 0, 1, 1, 0, 0, 0, 0, 0, 0, 0, 0, 0, 1, 1, 0, 0, 0, 1, 1, 0,\n",
       "       0, 0, 1, 0, 0, 0, 0, 0, 1, 0, 1, 1, 0, 0, 0, 0, 0, 0, 0, 0, 0, 0,\n",
       "       0, 0, 1, 1, 0, 1, 1, 0, 0, 1, 0, 0, 1, 0, 0, 1, 0, 0, 0, 0, 1, 0,\n",
       "       0, 0, 0, 0, 1, 0, 0, 1, 1, 0, 0, 1, 0, 0, 0, 1, 0, 0, 0, 0, 0, 1,\n",
       "       0, 0, 0, 0, 0, 0, 1, 0, 0, 0, 0, 0, 0, 0, 0, 0, 1, 0, 0, 0, 1, 0,\n",
       "       0, 0, 0], dtype=int8)"
      ]
     },
     "execution_count": 121,
     "metadata": {},
     "output_type": "execute_result"
    }
   ],
   "source": [
    "swarm.y_train"
   ]
  },
  {
   "cell_type": "code",
   "execution_count": 122,
   "metadata": {},
   "outputs": [
    {
     "data": {
      "text/plain": [
       "(179,)"
      ]
     },
     "execution_count": 122,
     "metadata": {},
     "output_type": "execute_result"
    }
   ],
   "source": [
    "swarm.y_train.shape"
   ]
  },
  {
   "cell_type": "code",
   "execution_count": 123,
   "metadata": {},
   "outputs": [
    {
     "data": {
      "text/plain": [
       "1"
      ]
     },
     "execution_count": 123,
     "metadata": {},
     "output_type": "execute_result"
    }
   ],
   "source": [
    "swarm.t"
   ]
  },
  {
   "cell_type": "markdown",
   "metadata": {},
   "source": [
    "Dang it, I messed up my error reporter. `np.count_nonzero()` returns number of `True` values in the array. So it should trigger if it is equal to 0, not `self.ndim`. I'll fix and try again."
   ]
  },
  {
   "cell_type": "raw",
   "metadata": {},
   "source": [
    "Fixed it to:\n",
    "\n",
    "if np.count_nonzero(p.b) == 0:\n",
    "                    print('All False Binary Array at time: {}'.format(self.t))\n",
    "                    print('index of p: {}'.format(self.swarm.index(p)))\n",
    "                    return "
   ]
  },
  {
   "cell_type": "code",
   "execution_count": 124,
   "metadata": {},
   "outputs": [],
   "source": [
    "# swarm = COMB_Swarm(npart, c1, c2, c3, ndim, alpha, test_size,\n",
    "#                    x_bounds, v_bounds, w_bounds, t_bounds,\n",
    "#                    data_path, target_path)"
   ]
  },
  {
   "cell_type": "code",
   "execution_count": 125,
   "metadata": {},
   "outputs": [],
   "source": [
    "# swarm.initialize_particles()"
   ]
  },
  {
   "cell_type": "code",
   "execution_count": 126,
   "metadata": {},
   "outputs": [],
   "source": [
    "# swarm.execute_search()"
   ]
  },
  {
   "cell_type": "raw",
   "metadata": {},
   "source": [
    "All False Binary Array at time: 2\n",
    "index of p: 92"
   ]
  },
  {
   "cell_type": "code",
   "execution_count": 127,
   "metadata": {},
   "outputs": [],
   "source": [
    "# swarm.swarm[92].b"
   ]
  },
  {
   "cell_type": "raw",
   "metadata": {},
   "source": [
    "array([False, False, False, False, False, False, False, False, False,\n",
    "       False, False, False, False, False, False, False, False, False,\n",
    "       False, False, False, False, False, False, False, False, False,\n",
    "       False, False, False, False, False, False, False, False, False,\n",
    "       False, False, False, False, False, False, False, False, False,\n",
    "       False, False, False, False, False, False, False, False, False,\n",
    "       False, False, False, False, False, False, False, False, False,\n",
    "       False, False, False, False, False, False, False, False, False,\n",
    "       False, False, False, False, False, False, False, False, False,\n",
    "       False, False, False, False, False, False, False, False, False,\n",
    "       False, False, False, False, False, False, False, False, False,\n",
    "       False, False, False, False, False, False, False, False, False,\n",
    "       False, False, False, False, False, False, False, False, False,\n",
    "       False, False, False, False, False, False, False, False, False,\n",
    "       False, False, False, False, False, False, False, False, False,\n",
    "       False, False, False, False, False, False, False, False, False,\n",
    "       False, False, False, False, False, False, False, False, False,\n",
    "       False, False, False, False, False, False, False, False, False,\n",
    "       False, False, False, False, False, False, False, False, False,\n",
    "       False, False, False, False, False, False, False, False, False,\n",
    "       False, False, False, False, False, False, False, False, False,\n",
    "       False])"
   ]
  },
  {
   "cell_type": "code",
   "execution_count": 128,
   "metadata": {},
   "outputs": [],
   "source": [
    "# swarm.swarm[92].x"
   ]
  },
  {
   "cell_type": "raw",
   "metadata": {},
   "source": [
    "array([-4.64818611, -3.62157461, -4.1202559 , -4.39905422, -0.97758956,\n",
    "       -5.09274813, -2.67323161, -3.84548314, -4.38768838, -3.01846374,\n",
    "       -3.71510302, -5.4674244 , -4.92595152, -2.62222098, -4.50612815,\n",
    "       -6.        , -2.23466941, -5.48997166, -5.68036448, -5.00379626,\n",
    "       -1.94537345, -6.        , -3.50160634, -6.        , -3.73965313,\n",
    "       -5.75      , -5.33677081, -3.63463852, -6.        , -4.61797446,\n",
    "       -4.76638556, -4.50542255, -2.65217644, -3.02306214, -5.71284723,\n",
    "       -5.90422188, -2.30497214, -5.11002454, -3.37564289, -1.62789692,\n",
    "       -2.14823599, -4.36176958, -3.73719674, -5.450959  , -5.55243124,\n",
    "       -4.38262978, -5.73237549, -3.77878997, -5.83654013, -5.06286995,\n",
    "       -2.05695052, -1.42169399, -2.64501254, -6.        , -2.85144567,\n",
    "       -5.75      , -5.8831365 , -4.85645521, -0.18304774, -4.53658094,\n",
    "       -3.92417358, -4.48551069, -6.        , -4.77548031, -4.45714535,\n",
    "       -1.00827048, -4.87394768, -2.48824524, -4.16512754, -4.90084314,\n",
    "       -4.79802879, -6.        , -5.75      , -4.31493617, -2.90577575,\n",
    "       -3.47253942, -6.        , -6.        , -3.14790402, -5.61402612,\n",
    "       -2.20161263, -3.53843054, -6.        , -3.24356209, -3.78443114,\n",
    "       -3.34156586, -3.09270286, -2.90416452, -6.        , -5.68111591,\n",
    "       -2.15202541, -6.        , -4.06631662, -4.07553927, -5.28380018,\n",
    "       -6.        , -2.03364405, -5.48631784, -5.16148745, -2.09344597,\n",
    "       -6.        , -3.50887384, -2.28832748, -4.56468131, -6.        ,\n",
    "       -4.44526201, -4.12967049, -4.89863329, -3.26637154, -3.52670011,\n",
    "       -5.46837907, -3.83171192, -5.74473155, -6.        , -2.59526682,\n",
    "       -6.        , -3.34841755, -6.        , -5.42334894, -5.21262147,\n",
    "       -6.        , -4.13265687, -5.45951758, -6.        , -5.48398331,\n",
    "       -3.30059638, -2.11999601, -2.17996479, -4.81857601, -2.90491116,\n",
    "       -6.        , -0.50411578, -0.71860724, -2.6818376 , -5.20329051,\n",
    "       -2.5745986 , -5.81362119, -3.3208862 , -3.72065773, -5.6946677 ,\n",
    "       -6.        , -6.        , -3.55986992, -5.07623907, -5.9902029 ,\n",
    "       -0.4881174 , -4.80586727, -6.        , -6.        , -4.48725864,\n",
    "       -2.67591446, -5.37409819, -3.4973477 , -6.        , -5.34818748,\n",
    "       -6.        , -4.83769415, -5.1204695 , -2.84761686, -3.68393234,\n",
    "       -6.        , -5.02484908, -3.67449262, -5.97278626, -5.07643408,\n",
    "       -5.51940655, -2.17703706, -4.03876517, -6.        , -2.70283718,\n",
    "       -6.        , -6.        , -5.79983096, -6.        , -3.22782775,\n",
    "       -4.57126983, -1.64273515, -3.19757863, -3.77165188, -4.39571111,\n",
    "       -5.16751685, -3.85981301, -5.66840311, -5.43180279, -4.29124068,\n",
    "       -4.2978648 , -6.        , -4.91013763, -6.        , -5.70091647])"
   ]
  },
  {
   "cell_type": "markdown",
   "metadata": {},
   "source": [
    "I think I know what's happening. b is constructed from a sigmoid function and a randomly chosen comparison number. Thus, it is totally feasible, especially given a large swarm/end time for a binary vector to accidentally become all False. However, this breaks the classifier. So, I should add code to catch this case in the fitness function where if an all False array is given, the fitness is 0."
   ]
  },
  {
   "cell_type": "code",
   "execution_count": 129,
   "metadata": {},
   "outputs": [],
   "source": [
    "swarm = COMB_Swarm(npart, c1, c2, c3, ndim, alpha, test_size,\n",
    "                   x_bounds, v_bounds, w_bounds, t_bounds,\n",
    "                   data_path, target_path)"
   ]
  },
  {
   "cell_type": "code",
   "execution_count": 130,
   "metadata": {},
   "outputs": [],
   "source": [
    "swarm.initialize_particles()"
   ]
  },
  {
   "cell_type": "code",
   "execution_count": 131,
   "metadata": {},
   "outputs": [],
   "source": [
    "swarm.execute_search()"
   ]
  },
  {
   "cell_type": "code",
   "execution_count": 132,
   "metadata": {},
   "outputs": [
    {
     "data": {
      "text/plain": [
       "49"
      ]
     },
     "execution_count": 132,
     "metadata": {},
     "output_type": "execute_result"
    }
   ],
   "source": [
    "swarm.t"
   ]
  },
  {
   "cell_type": "code",
   "execution_count": 133,
   "metadata": {},
   "outputs": [
    {
     "data": {
      "text/plain": [
       "0.8187272101823185"
      ]
     },
     "execution_count": 133,
     "metadata": {},
     "output_type": "execute_result"
    }
   ],
   "source": [
    "swarm.a_fitness"
   ]
  },
  {
   "cell_type": "code",
   "execution_count": 134,
   "metadata": {},
   "outputs": [
    {
     "data": {
      "text/plain": [
       "2"
      ]
     },
     "execution_count": 134,
     "metadata": {},
     "output_type": "execute_result"
    }
   ],
   "source": [
    "np.count_nonzero(swarm.abinary)"
   ]
  },
  {
   "cell_type": "code",
   "execution_count": 136,
   "metadata": {},
   "outputs": [],
   "source": [
    "swarm.final_eval()"
   ]
  },
  {
   "cell_type": "code",
   "execution_count": 139,
   "metadata": {},
   "outputs": [
    {
     "data": {
      "text/plain": [
       "array([0.66666667, 0.66666667, 0.55555556, 0.625     , 0.57142857,\n",
       "       0.71428571, 0.71428571, 0.57142857, 0.71428571, 0.71428571])"
      ]
     },
     "execution_count": 139,
     "metadata": {},
     "output_type": "execute_result"
    }
   ],
   "source": [
    "swarm.final_scores"
   ]
  },
  {
   "cell_type": "code",
   "execution_count": 137,
   "metadata": {},
   "outputs": [
    {
     "data": {
      "text/plain": [
       "0.6513888888888889"
      ]
     },
     "execution_count": 137,
     "metadata": {},
     "output_type": "execute_result"
    }
   ],
   "source": [
    "swarm.final_scores.mean()"
   ]
  },
  {
   "cell_type": "code",
   "execution_count": 138,
   "metadata": {},
   "outputs": [],
   "source": [
    "from sklearn.model_selection import cross_val_score"
   ]
  },
  {
   "cell_type": "code",
   "execution_count": 143,
   "metadata": {},
   "outputs": [],
   "source": [
    "test = cross_val_score(swarm.clf, swarm.X_train[:, swarm.abinary], swarm.y_train, cv=10)"
   ]
  },
  {
   "cell_type": "code",
   "execution_count": 144,
   "metadata": {},
   "outputs": [
    {
     "data": {
      "text/plain": [
       "array([0.84210526, 0.66666667, 0.88888889, 0.83333333, 0.77777778,\n",
       "       0.83333333, 0.72222222, 0.66666667, 0.76470588, 0.76470588])"
      ]
     },
     "execution_count": 144,
     "metadata": {},
     "output_type": "execute_result"
    }
   ],
   "source": [
    "test"
   ]
  },
  {
   "cell_type": "code",
   "execution_count": 147,
   "metadata": {},
   "outputs": [
    {
     "data": {
      "text/plain": [
       "SVC(C=1.0, cache_size=200, class_weight=None, coef0=0.0,\n",
       "  decision_function_shape='ovr', degree=3, gamma='auto', kernel='rbf',\n",
       "  max_iter=-1, probability=False, random_state=None, shrinking=True,\n",
       "  tol=0.001, verbose=False)"
      ]
     },
     "execution_count": 147,
     "metadata": {},
     "output_type": "execute_result"
    }
   ],
   "source": [
    "swarm.clf.fit(swarm.X_train[:, swarm.abinary], swarm.y_train)"
   ]
  },
  {
   "cell_type": "code",
   "execution_count": 148,
   "metadata": {},
   "outputs": [
    {
     "data": {
      "text/plain": [
       "0.7272727272727273"
      ]
     },
     "execution_count": 148,
     "metadata": {},
     "output_type": "execute_result"
    }
   ],
   "source": [
    "swarm.clf.score(swarm.X_test[:, swarm.abinary], swarm.y_test)"
   ]
  },
  {
   "cell_type": "code",
   "execution_count": 151,
   "metadata": {},
   "outputs": [],
   "source": [
    "swarm2 = COMB_Swarm(npart, c1, c2, c3, ndim, alpha, test_size,\n",
    "                   x_bounds, v_bounds, w_bounds, t_bounds,\n",
    "                   data_path, target_path)"
   ]
  },
  {
   "cell_type": "code",
   "execution_count": 152,
   "metadata": {},
   "outputs": [],
   "source": [
    "swarm2.initialize_particles()"
   ]
  },
  {
   "cell_type": "code",
   "execution_count": 153,
   "metadata": {},
   "outputs": [],
   "source": [
    "swarm2.execute_search()"
   ]
  },
  {
   "cell_type": "code",
   "execution_count": 156,
   "metadata": {},
   "outputs": [
    {
     "data": {
      "text/plain": [
       "0.8148882008943928"
      ]
     },
     "execution_count": 156,
     "metadata": {},
     "output_type": "execute_result"
    }
   ],
   "source": [
    "swarm2.a_fitness"
   ]
  },
  {
   "cell_type": "code",
   "execution_count": 155,
   "metadata": {},
   "outputs": [
    {
     "data": {
      "text/plain": [
       "2"
      ]
     },
     "execution_count": 155,
     "metadata": {},
     "output_type": "execute_result"
    }
   ],
   "source": [
    "np.count_nonzero(swarm2.abinary)"
   ]
  },
  {
   "cell_type": "code",
   "execution_count": 157,
   "metadata": {},
   "outputs": [
    {
     "data": {
      "text/plain": [
       "SVC(C=1.0, cache_size=200, class_weight=None, coef0=0.0,\n",
       "  decision_function_shape='ovr', degree=3, gamma='auto', kernel='rbf',\n",
       "  max_iter=-1, probability=False, random_state=None, shrinking=True,\n",
       "  tol=0.001, verbose=False)"
      ]
     },
     "execution_count": 157,
     "metadata": {},
     "output_type": "execute_result"
    }
   ],
   "source": [
    "swarm2.clf.fit(swarm2.X_train[:, swarm2.abinary], swarm2.y_train)"
   ]
  },
  {
   "cell_type": "code",
   "execution_count": 159,
   "metadata": {},
   "outputs": [
    {
     "data": {
      "text/plain": [
       "0.8324022346368715"
      ]
     },
     "execution_count": 159,
     "metadata": {},
     "output_type": "execute_result"
    }
   ],
   "source": [
    "swarm2.clf.score(swarm2.X_train[:, swarm2.abinary], swarm2.y_train)"
   ]
  },
  {
   "cell_type": "code",
   "execution_count": 158,
   "metadata": {},
   "outputs": [
    {
     "data": {
      "text/plain": [
       "0.6753246753246753"
      ]
     },
     "execution_count": 158,
     "metadata": {},
     "output_type": "execute_result"
    }
   ],
   "source": [
    "swarm2.clf.score(swarm2.X_test[:, swarm2.abinary], swarm2.y_test)"
   ]
  },
  {
   "cell_type": "markdown",
   "metadata": {},
   "source": [
    "Well, in both test cases, no obvious errors occurred and the model Way overfit to the training data. Only giving back a 2 features that did better than 80% accuracy on the training data and as good or worse than the baseline for the test data."
   ]
  },
  {
   "cell_type": "markdown",
   "metadata": {},
   "source": [
    "I think I'm done with this notebook. The code appears to run correctly and actual experiments can be done in other scripts or notebooks."
   ]
  },
  {
   "cell_type": "code",
   "execution_count": null,
   "metadata": {},
   "outputs": [],
   "source": []
  }
 ],
 "metadata": {
  "kernelspec": {
   "display_name": "Python 3",
   "language": "python",
   "name": "python3"
  },
  "language_info": {
   "codemirror_mode": {
    "name": "ipython",
    "version": 3
   },
   "file_extension": ".py",
   "mimetype": "text/x-python",
   "name": "python",
   "nbconvert_exporter": "python",
   "pygments_lexer": "ipython3",
   "version": "3.6.4"
  }
 },
 "nbformat": 4,
 "nbformat_minor": 2
}
